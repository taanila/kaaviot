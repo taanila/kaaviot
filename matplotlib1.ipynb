{
 "cells": [
  {
   "cell_type": "code",
   "execution_count": 1,
   "metadata": {},
   "outputs": [
    {
     "name": "stdout",
     "output_type": "stream",
     "text": [
      "Päivitetty 2022-05-25 15:16:51.482981\n"
     ]
    }
   ],
   "source": [
    "from datetime import datetime\n",
    "print(f'Päivitetty {datetime.now()}')"
   ]
  },
  {
   "cell_type": "markdown",
   "metadata": {},
   "source": [
    "<h1>Matplotlib - osa 1</h1>\n",
    "<h2>Yksinkertainen pylväskaavio</h2>"
   ]
  },
  {
   "cell_type": "markdown",
   "metadata": {},
   "source": [
    "Jos teen kaavion suoraan dataframesta (<b>df.plot...</b>), niin käytän pandas-kirjastoon matplotlibin pohjalta rakennettua \"viritelmää\" kaavion teosta.\n",
    "Lue lisää https://pandas.pydata.org/pandas-docs/stable/reference/api/pandas.DataFrame.plot.html\n",
    "\n",
    "Grafiikkaa varten tuon <b>matplotlib.pyplot</b>-kirjaston <b>plt</b>-nimisenä. Kirjastosta löytyy paljon funktioita grafiikan muotoiluun.\n",
    "Lue lisää https://matplotlib.org/stable/api/pyplot_summary.html"
   ]
  },
  {
   "cell_type": "code",
   "execution_count": 2,
   "metadata": {},
   "outputs": [],
   "source": [
    "import pandas as pd\n",
    "import matplotlib.pyplot as plt"
   ]
  },
  {
   "cell_type": "code",
   "execution_count": 3,
   "metadata": {},
   "outputs": [
    {
     "data": {
      "text/html": [
       "<div>\n",
       "<style scoped>\n",
       "    .dataframe tbody tr th:only-of-type {\n",
       "        vertical-align: middle;\n",
       "    }\n",
       "\n",
       "    .dataframe tbody tr th {\n",
       "        vertical-align: top;\n",
       "    }\n",
       "\n",
       "    .dataframe thead th {\n",
       "        text-align: right;\n",
       "    }\n",
       "</style>\n",
       "<table border=\"1\" class=\"dataframe\">\n",
       "  <thead>\n",
       "    <tr style=\"text-align: right;\">\n",
       "      <th></th>\n",
       "      <th>nro</th>\n",
       "      <th>sukup</th>\n",
       "      <th>ikä</th>\n",
       "      <th>perhe</th>\n",
       "      <th>koulutus</th>\n",
       "      <th>palveluv</th>\n",
       "      <th>palkka</th>\n",
       "      <th>johto</th>\n",
       "      <th>työtov</th>\n",
       "      <th>työymp</th>\n",
       "      <th>palkkat</th>\n",
       "      <th>työteht</th>\n",
       "      <th>työterv</th>\n",
       "      <th>lomaosa</th>\n",
       "      <th>kuntosa</th>\n",
       "      <th>hieroja</th>\n",
       "    </tr>\n",
       "  </thead>\n",
       "  <tbody>\n",
       "    <tr>\n",
       "      <th>0</th>\n",
       "      <td>1</td>\n",
       "      <td>1</td>\n",
       "      <td>38</td>\n",
       "      <td>1</td>\n",
       "      <td>1.0</td>\n",
       "      <td>22.0</td>\n",
       "      <td>3587</td>\n",
       "      <td>3</td>\n",
       "      <td>3.0</td>\n",
       "      <td>3</td>\n",
       "      <td>3</td>\n",
       "      <td>3</td>\n",
       "      <td>NaN</td>\n",
       "      <td>NaN</td>\n",
       "      <td>NaN</td>\n",
       "      <td>NaN</td>\n",
       "    </tr>\n",
       "    <tr>\n",
       "      <th>1</th>\n",
       "      <td>2</td>\n",
       "      <td>1</td>\n",
       "      <td>29</td>\n",
       "      <td>2</td>\n",
       "      <td>2.0</td>\n",
       "      <td>10.0</td>\n",
       "      <td>2963</td>\n",
       "      <td>1</td>\n",
       "      <td>5.0</td>\n",
       "      <td>2</td>\n",
       "      <td>1</td>\n",
       "      <td>3</td>\n",
       "      <td>NaN</td>\n",
       "      <td>NaN</td>\n",
       "      <td>NaN</td>\n",
       "      <td>NaN</td>\n",
       "    </tr>\n",
       "    <tr>\n",
       "      <th>2</th>\n",
       "      <td>3</td>\n",
       "      <td>1</td>\n",
       "      <td>30</td>\n",
       "      <td>1</td>\n",
       "      <td>1.0</td>\n",
       "      <td>7.0</td>\n",
       "      <td>1989</td>\n",
       "      <td>3</td>\n",
       "      <td>4.0</td>\n",
       "      <td>1</td>\n",
       "      <td>1</td>\n",
       "      <td>3</td>\n",
       "      <td>1.0</td>\n",
       "      <td>NaN</td>\n",
       "      <td>NaN</td>\n",
       "      <td>NaN</td>\n",
       "    </tr>\n",
       "    <tr>\n",
       "      <th>3</th>\n",
       "      <td>4</td>\n",
       "      <td>1</td>\n",
       "      <td>36</td>\n",
       "      <td>2</td>\n",
       "      <td>1.0</td>\n",
       "      <td>14.0</td>\n",
       "      <td>2144</td>\n",
       "      <td>3</td>\n",
       "      <td>3.0</td>\n",
       "      <td>3</td>\n",
       "      <td>3</td>\n",
       "      <td>3</td>\n",
       "      <td>1.0</td>\n",
       "      <td>NaN</td>\n",
       "      <td>NaN</td>\n",
       "      <td>NaN</td>\n",
       "    </tr>\n",
       "    <tr>\n",
       "      <th>4</th>\n",
       "      <td>5</td>\n",
       "      <td>1</td>\n",
       "      <td>24</td>\n",
       "      <td>1</td>\n",
       "      <td>2.0</td>\n",
       "      <td>4.0</td>\n",
       "      <td>2183</td>\n",
       "      <td>2</td>\n",
       "      <td>3.0</td>\n",
       "      <td>2</td>\n",
       "      <td>1</td>\n",
       "      <td>2</td>\n",
       "      <td>1.0</td>\n",
       "      <td>NaN</td>\n",
       "      <td>NaN</td>\n",
       "      <td>NaN</td>\n",
       "    </tr>\n",
       "  </tbody>\n",
       "</table>\n",
       "</div>"
      ],
      "text/plain": [
       "   nro  sukup  ikä  perhe  koulutus  palveluv  palkka  johto  työtov  työymp  \\\n",
       "0    1      1   38      1       1.0      22.0    3587      3     3.0       3   \n",
       "1    2      1   29      2       2.0      10.0    2963      1     5.0       2   \n",
       "2    3      1   30      1       1.0       7.0    1989      3     4.0       1   \n",
       "3    4      1   36      2       1.0      14.0    2144      3     3.0       3   \n",
       "4    5      1   24      1       2.0       4.0    2183      2     3.0       2   \n",
       "\n",
       "   palkkat  työteht  työterv  lomaosa  kuntosa  hieroja  \n",
       "0        3        3      NaN      NaN      NaN      NaN  \n",
       "1        1        3      NaN      NaN      NaN      NaN  \n",
       "2        1        3      1.0      NaN      NaN      NaN  \n",
       "3        3        3      1.0      NaN      NaN      NaN  \n",
       "4        1        2      1.0      NaN      NaN      NaN  "
      ]
     },
     "execution_count": 3,
     "metadata": {},
     "output_type": "execute_result"
    }
   ],
   "source": [
    "df = pd.read_excel('https://taanila.fi/data1.xlsx')\n",
    "df.head()"
   ]
  },
  {
   "cell_type": "code",
   "execution_count": 4,
   "metadata": {},
   "outputs": [
    {
     "data": {
      "text/html": [
       "<div>\n",
       "<style scoped>\n",
       "    .dataframe tbody tr th:only-of-type {\n",
       "        vertical-align: middle;\n",
       "    }\n",
       "\n",
       "    .dataframe tbody tr th {\n",
       "        vertical-align: top;\n",
       "    }\n",
       "\n",
       "    .dataframe thead th {\n",
       "        text-align: right;\n",
       "    }\n",
       "</style>\n",
       "<table border=\"1\" class=\"dataframe\">\n",
       "  <thead>\n",
       "    <tr style=\"text-align: right;\">\n",
       "      <th></th>\n",
       "      <th>Lkm</th>\n",
       "    </tr>\n",
       "  </thead>\n",
       "  <tbody>\n",
       "    <tr>\n",
       "      <th>Peruskoulu</th>\n",
       "      <td>27</td>\n",
       "    </tr>\n",
       "    <tr>\n",
       "      <th>2. aste</th>\n",
       "      <td>30</td>\n",
       "    </tr>\n",
       "    <tr>\n",
       "      <th>Korkeakoulu</th>\n",
       "      <td>22</td>\n",
       "    </tr>\n",
       "    <tr>\n",
       "      <th>Ylempi korkeakoulu</th>\n",
       "      <td>2</td>\n",
       "    </tr>\n",
       "  </tbody>\n",
       "</table>\n",
       "</div>"
      ],
      "text/plain": [
       "                    Lkm\n",
       "Peruskoulu           27\n",
       "2. aste              30\n",
       "Korkeakoulu          22\n",
       "Ylempi korkeakoulu    2"
      ]
     },
     "execution_count": 4,
     "metadata": {},
     "output_type": "execute_result"
    }
   ],
   "source": [
    "# Lasken eri koulutuksen suorittaneiden lukumäärät\n",
    "df1 = pd.crosstab(df['koulutus'], 'Lkm')\n",
    "df1.index = ['Peruskoulu', '2. aste', 'Korkeakoulu', 'Ylempi korkeakoulu']\n",
    "df1.columns.name = ''\n",
    "df1"
   ]
  },
  {
   "cell_type": "markdown",
   "metadata": {},
   "source": [
    "<h2>Vaakapylväskaavio</h2>\n",
    "\n",
    "Teen äsken luomastani dataframesta vaakapylväskaavion <b>plot</b>-toiminnolla. Plot-toiminnolla voin luoda eri kaaviolajeja, esimerkiksi pystypylväskaavion <b>bar</b> tai vaakapylväskaavion <b>barh</b>."
   ]
  },
  {
   "cell_type": "code",
   "execution_count": 5,
   "metadata": {},
   "outputs": [
    {
     "data": {
      "text/plain": [
       "<AxesSubplot:>"
      ]
     },
     "execution_count": 5,
     "metadata": {},
     "output_type": "execute_result"
    },
    {
     "data": {
      "image/png": "[encoded data removed]",
      "text/plain": [
       "<Figure size 432x288 with 1 Axes>"
      ]
     },
     "metadata": {
      "needs_background": "light"
     },
     "output_type": "display_data"
    }
   ],
   "source": [
    "df1.plot.barh()"
   ]
  },
  {
   "cell_type": "markdown",
   "metadata": {},
   "source": [
    "<h2>Kaavion tekstit</h2>\n",
    "\n",
    "\n",
    "Mielestäni yhden arvosarjan kaavioissa selite on tarpeeton, joten piilotan sen <b>legend</b>-parametrilla.\n",
    "\n",
    "Kaavion otsikoksi (<b>title</b>) annan 'Koulutusjakauma'.\n",
    "\n",
    "Arvoakselin otsikoksi (<b>xlabel</b>) annan 'Lukumäärä'. "
   ]
  },
  {
   "cell_type": "code",
   "execution_count": 6,
   "metadata": {},
   "outputs": [
    {
     "data": {
      "text/plain": [
       "Text(0.5, 0, 'Lukumäärä')"
      ]
     },
     "execution_count": 6,
     "metadata": {},
     "output_type": "execute_result"
    },
    {
     "data": {
      "image/png": "[encoded data removed]",
      "text/plain": [
       "<Figure size 432x288 with 1 Axes>"
      ]
     },
     "metadata": {
      "needs_background": "light"
     },
     "output_type": "display_data"
    }
   ],
   "source": [
    "df1.plot.barh(legend = False)\n",
    "\n",
    "plt.title('Koulutusjakauma')\n",
    "plt.xlabel('Lukumäärä')"
   ]
  },
  {
   "cell_type": "markdown",
   "metadata": {},
   "source": [
    "<h2>Hienosäätöä</h2>\n",
    "\n",
    "Lisään x-akselin jakoviivojen mukaisen taustaviivoituksen (<b>grid</b>). Taustaviivoitus menee oletuksena pylväiden päälle, mutta asia korjaantuu parametrilla <b>zorder = 2</b>.\n",
    "\n",
    "Häivytän y-akselin jakoviivat <b>tick_params</b>-toiminnolla.\n",
    "\n",
    "Lisään pylväiden pituuksia vastaavat lukumäärät pylväiden viereen. Käytän tähän <b>text</b>-toimintoa, jolla voin lisätä kaavioon tekstejä:\n",
    "\n",
    "<ul>\n",
    "<li>Käytän apuna <b>for</b>-silmukkaa, jolla käyn läpi kaavion pylväät (<b>patches</b>-kokoelma) yksi kerrallaan.</li>\n",
    "<li>Kaavioon pääsen käsiksi <b>gca</b>-toiminnolla (get current axes).</li>\n",
    "<li>Vaakasuuntaisen pylvään pituuden saan <b>get_width</b>-toiminnolla.</li>\n",
    "<li>Vaakasuuntaisen pylvään alareunan sijainnin saan <b>get_y</b>-toiminnolla.</li>\n",
    "<li>Pylvään alareunan sijaintiin lisään puolet pylvään paksuudesta (<b>get_height</b>).</li>\n",
    "<li>Pylvään viereen lisättävän lukumäärän muotoilen desimaalittomaksi ja sijoitan <b>label</b>-nimiseen muuttujaan.</li>\n",
    "<li>Lisättävän merkkijonon sijainti määrittyy <b>x</b>:n ja <b>y</b>:n mukaan.</li> \n",
    "<li>Parametri <b>s</b> tarkoittaa lisättävää merkkijonoa, joka tässä tapauksessa sisältää välilyönnin ja pylvään pituutta kuvaavan lukumäärän.</li>\n",
    "<li><b>va</b> tarkoittaa pystysuuntaista tasausta (vertical alignment).</li>\n",
    "</ul>"
   ]
  },
  {
   "cell_type": "code",
   "execution_count": 7,
   "metadata": {},
   "outputs": [
    {
     "data": {
      "image/png": "[encoded data removed]",
      "text/plain": [
       "<Figure size 432x288 with 1 Axes>"
      ]
     },
     "metadata": {
      "needs_background": "light"
     },
     "output_type": "display_data"
    }
   ],
   "source": [
    "df1.plot.barh(legend = False, zorder = 2)\n",
    "\n",
    "plt.title('Koulutusjakauma')\n",
    "plt.xlabel('Lukumäärä')\n",
    "\n",
    "plt.grid(axis = 'x')\n",
    "plt.tick_params(axis = 'y', length = 0)\n",
    "\n",
    "#for bar in plt.gca().patches:\n",
    "#    x = bar.get_width()\n",
    "#    y = bar.get_y() + bar.get_height() / 2\n",
    "#    label = '{:.0f}'.format(x)\n",
    "#    plt.text(x = x, y = y, s = ' ' + label, va = 'center')\n",
    "\n",
    "for i, v in enumerate(df1['Lkm']):\n",
    "    plt.text(v, i, ' '+str(v), va='center')"
   ]
  },
  {
   "cell_type": "markdown",
   "metadata": {},
   "source": [
    "<h2>Pystypylväskaavio</h2>\n",
    "\n",
    "Pienin muutoksin voin toteuttaa edellisen pystypylväskaaviona.\n",
    "\n",
    "<ul>\n",
    "    <li>Huomaa luokka-akselin otsikoiden 45 asteen kääntö (<b>rotation</b>).</li>\n",
    "<li>Huomaa pylvään pituuksia vastaavien lukuarvojen siirto hieman ylöspäin (<b>y = y + 0.3</b>), koska muuten lukuarvot olisivat pylväissä kiinni.</li>\n",
    "\n",
    "<li><b>ha</b> tarkoittaa vaakasuuntaista tasausta (horizontal alignment).</li>\n",
    "<li>Huomaa, että yläreunaan on lisätty hieman tilaa skaalamalla arvoakseli (<b>ylim(0, 35)</b>).</li>\n",
    "</ul>"
   ]
  },
  {
   "cell_type": "code",
   "execution_count": 8,
   "metadata": {},
   "outputs": [
    {
     "data": {
      "image/png": "[encoded data removed]",
      "text/plain": [
       "<Figure size 432x288 with 1 Axes>"
      ]
     },
     "metadata": {
      "needs_background": "light"
     },
     "output_type": "display_data"
    }
   ],
   "source": [
    "df1.plot.bar(legend = False, rot = 45, zorder = 2)\n",
    "\n",
    "plt.title('Koulutusjakauma')\n",
    "plt.ylabel('Lukumäärä')\n",
    "\n",
    "plt.grid(axis = 'y')\n",
    "plt.tick_params(axis = 'x', length = 0)\n",
    "plt.ylim(0, 35)\n",
    "\n",
    "#for bar in plt.gca().patches:\n",
    "#    x = bar.get_x() + bar.get_width() / 2\n",
    "#    y = bar.get_height()\n",
    "#    label = '{:.0f}'.format(y)\n",
    "#    plt.text(x = x, y = y + 0.3, s = label, va = 'bottom', ha = 'center')\n",
    "\n",
    "for i, v in enumerate(df1['Lkm']):\n",
    "    plt.text(i, v+0.5, str(v), ha='center')"
   ]
  },
  {
   "cell_type": "markdown",
   "metadata": {},
   "source": [
    "<h2>Prosenttien esittäminen</h2>"
   ]
  },
  {
   "cell_type": "code",
   "execution_count": 9,
   "metadata": {},
   "outputs": [
    {
     "data": {
      "text/html": [
       "<div>\n",
       "<style scoped>\n",
       "    .dataframe tbody tr th:only-of-type {\n",
       "        vertical-align: middle;\n",
       "    }\n",
       "\n",
       "    .dataframe tbody tr th {\n",
       "        vertical-align: top;\n",
       "    }\n",
       "\n",
       "    .dataframe thead th {\n",
       "        text-align: right;\n",
       "    }\n",
       "</style>\n",
       "<table border=\"1\" class=\"dataframe\">\n",
       "  <thead>\n",
       "    <tr style=\"text-align: right;\">\n",
       "      <th></th>\n",
       "      <th>Lkm</th>\n",
       "      <th>%</th>\n",
       "    </tr>\n",
       "  </thead>\n",
       "  <tbody>\n",
       "    <tr>\n",
       "      <th>Peruskoulu</th>\n",
       "      <td>27</td>\n",
       "      <td>33.333333</td>\n",
       "    </tr>\n",
       "    <tr>\n",
       "      <th>2. aste</th>\n",
       "      <td>30</td>\n",
       "      <td>37.037037</td>\n",
       "    </tr>\n",
       "    <tr>\n",
       "      <th>Korkeakoulu</th>\n",
       "      <td>22</td>\n",
       "      <td>27.160494</td>\n",
       "    </tr>\n",
       "    <tr>\n",
       "      <th>Ylempi korkeakoulu</th>\n",
       "      <td>2</td>\n",
       "      <td>2.469136</td>\n",
       "    </tr>\n",
       "  </tbody>\n",
       "</table>\n",
       "</div>"
      ],
      "text/plain": [
       "                    Lkm          %\n",
       "Peruskoulu           27  33.333333\n",
       "2. aste              30  37.037037\n",
       "Korkeakoulu          22  27.160494\n",
       "Ylempi korkeakoulu    2   2.469136"
      ]
     },
     "execution_count": 9,
     "metadata": {},
     "output_type": "execute_result"
    }
   ],
   "source": [
    "# Luon dataframen, jossa prosentit\n",
    "df2 = pd.crosstab(df['koulutus'], 'Lkm')\n",
    "df2['%'] = df2['Lkm'] / df2['Lkm'].sum() * 100\n",
    "df2.index = ['Peruskoulu', '2. aste', 'Korkeakoulu', 'Ylempi korkeakoulu']\n",
    "df2.columns.name = ''\n",
    "df2"
   ]
  },
  {
   "cell_type": "code",
   "execution_count": 10,
   "metadata": {},
   "outputs": [
    {
     "data": {
      "image/png": "[encoded data removed]",
      "text/plain": [
       "<Figure size 432x288 with 1 Axes>"
      ]
     },
     "metadata": {
      "needs_background": "light"
     },
     "output_type": "display_data"
    }
   ],
   "source": [
    "df2['%'].plot.barh(zorder = 2)\n",
    "\n",
    "plt.title('Koulutusjakauma')\n",
    "\n",
    "# Pienellä kikkailulla saan n-arvon akselin otsikkoon\n",
    "plt.xlabel('%, n = ' + str(df2['Lkm'].sum()))\n",
    "\n",
    "plt.grid(axis = 'x')\n",
    "plt.tick_params(axis = 'y', length = 0)\n",
    "\n",
    "for bar in plt.gca().patches:\n",
    "    x = bar.get_width()\n",
    "    y = bar.get_y() + bar.get_height() / 2\n",
    "    label = '{:.0f} %'.format(x)\n",
    "    plt.text(x = x, y = y, s = ' ' + label, va = 'center')"
   ]
  },
  {
   "cell_type": "markdown",
   "metadata": {},
   "source": [
    "<h2>Kaavion tallennus</h2>\n",
    "\n",
    "Kun tallennan kaavion <b>savefig</b>-toiminnolla, niin tarkkaan ottaen tallennan kuvion (<b>figure</b>), jonka sisällä kaavio on. Kuvioon pääsen käsiksi <b>plt.gcf</b>-toiminnolla (get current figure).\n",
    "\n",
    "Ilman parametria <b>bbox_inches = 'tight'</b> osia kaavion reunoilta voi jäädä tallentumatta.\n",
    "\n",
    "Tallennusmuoto määräytyy  tiedostonimen tarkentimen (esim. png) perusteella. Mahdolliset tallennusmuodot selviävät komennolla <b>plt.gcf().canvas.get_supported_filetypes()</b>"
   ]
  },
  {
   "cell_type": "code",
   "execution_count": 11,
   "metadata": {},
   "outputs": [
    {
     "data": {
      "image/png": "[encoded data removed]",
      "text/plain": [
       "<Figure size 432x288 with 1 Axes>"
      ]
     },
     "metadata": {
      "needs_background": "light"
     },
     "output_type": "display_data"
    }
   ],
   "source": [
    "df2['%'].plot.barh(zorder = 2)\n",
    "\n",
    "plt.title('Koulutusjakauma')\n",
    "plt.xlabel('%, n = ' + str(df2['Lkm'].sum()))\n",
    "\n",
    "plt.grid(axis = 'x')\n",
    "plt.tick_params(axis = 'y', length = 0)\n",
    "\n",
    "for bar in plt.gca().patches:\n",
    "    x = bar.get_width()\n",
    "    y = bar.get_y() + bar.get_height() / 2\n",
    "    label = '{:.0f} %'.format(x)\n",
    "    plt.text(x = x, y = y, s = ' ' + label, va = 'center')\n",
    "\n",
    "# Tallennus\n",
    "plt.gcf().savefig('testi1.png', bbox_inches = 'tight')"
   ]
  },
  {
   "cell_type": "markdown",
   "metadata": {},
   "source": [
    "<h2>Lisätietoa</h2>\n",
    "\n",
    "Matplotlib - osa 2 käsittelee useamman arvosarjan pylväskaavioita:\n",
    "https://nbviewer.jupyter.org/github/taanila/kaaviot/blob/master/matplotlib2.ipynb"
   ]
  }
 ],
 "metadata": {
  "kernelspec": {
   "display_name": "Python 3 (ipykernel)",
   "language": "python",
   "name": "python3"
  },
  "language_info": {
   "codemirror_mode": {
    "name": "ipython",
    "version": 3
   },
   "file_extension": ".py",
   "mimetype": "text/x-python",
   "name": "python",
   "nbconvert_exporter": "python",
   "pygments_lexer": "ipython3",
   "version": "3.9.12"
  }
 },
 "nbformat": 4,
 "nbformat_minor": 2
}
