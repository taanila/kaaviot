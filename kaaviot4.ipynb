{
 "cells": [
  {
   "cell_type": "code",
   "execution_count": 1,
   "metadata": {},
   "outputs": [
    {
     "name": "stdout",
     "output_type": "stream",
     "text": [
      "Päivitetty 2021-08-15 09:47:52.705854\n"
     ]
    }
   ],
   "source": [
    "from datetime import datetime\n",
    "print(f'Päivitetty {datetime.now()}')"
   ]
  },
  {
   "cell_type": "code",
   "execution_count": 2,
   "metadata": {},
   "outputs": [],
   "source": [
    "import pandas as pd\n",
    "import matplotlib.pyplot as plt"
   ]
  },
  {
   "cell_type": "markdown",
   "metadata": {},
   "source": [
    "<h2>Mielipiteiden keskiarvoja pylväinä</h2>"
   ]
  },
  {
   "cell_type": "code",
   "execution_count": 3,
   "metadata": {},
   "outputs": [
    {
     "data": {
      "text/html": [
       "<div>\n",
       "<style scoped>\n",
       "    .dataframe tbody tr th:only-of-type {\n",
       "        vertical-align: middle;\n",
       "    }\n",
       "\n",
       "    .dataframe tbody tr th {\n",
       "        vertical-align: top;\n",
       "    }\n",
       "\n",
       "    .dataframe thead th {\n",
       "        text-align: right;\n",
       "    }\n",
       "</style>\n",
       "<table border=\"1\" class=\"dataframe\">\n",
       "  <thead>\n",
       "    <tr style=\"text-align: right;\">\n",
       "      <th></th>\n",
       "      <th>Tyytyväisyyskeskiarvo</th>\n",
       "    </tr>\n",
       "  </thead>\n",
       "  <tbody>\n",
       "    <tr>\n",
       "      <th>Hintataso</th>\n",
       "      <td>2.8</td>\n",
       "    </tr>\n",
       "    <tr>\n",
       "      <th>Valikoiman laajuus</th>\n",
       "      <td>3.9</td>\n",
       "    </tr>\n",
       "    <tr>\n",
       "      <th>Henkilökunnan palvelualttius</th>\n",
       "      <td>4.7</td>\n",
       "    </tr>\n",
       "  </tbody>\n",
       "</table>\n",
       "</div>"
      ],
      "text/plain": [
       "                              Tyytyväisyyskeskiarvo\n",
       "Hintataso                                       2.8\n",
       "Valikoiman laajuus                              3.9\n",
       "Henkilökunnan palvelualttius                    4.7"
      ]
     },
     "execution_count": 3,
     "metadata": {},
     "output_type": "execute_result"
    }
   ],
   "source": [
    "#luon dataframen\n",
    "df = pd.DataFrame([2.8, 3.9, 4.7],\n",
    "                index = ['Hintataso', 'Valikoiman laajuus', 'Henkilökunnan palvelualttius'],\n",
    "                columns = ['Tyytyväisyyskeskiarvo'])\n",
    "df"
   ]
  },
  {
   "cell_type": "code",
   "execution_count": 4,
   "metadata": {},
   "outputs": [
    {
     "data": {
      "image/png": "[encoded data removed]",
      "text/plain": [
       "<Figure size 432x288 with 1 Axes>"
      ]
     },
     "metadata": {
      "needs_background": "light"
     },
     "output_type": "display_data"
    }
   ],
   "source": [
    "#zorder-parametrilla saan taustaviivoituksen pylväiden alapuolelle\n",
    "df.plot.barh(zorder = 2)\n",
    "\n",
    "#akselin skaalaus\n",
    "plt.xlim(1,5)\n",
    "\n",
    "plt.xlabel('1=erittäin tyytymätön, 5=erittäin tyytyväinen')\n",
    "\n",
    "#x-akselin asteikon arvot\n",
    "plt.xticks([1, 2, 3, 4, 5])\n",
    "\n",
    "#ylimääräiset asteikkoviivat pois näkyviltä\n",
    "plt.tick_params(axis = 'both', length = 0)\n",
    "\n",
    "#pystysuuntainen taustaviivoitus\n",
    "plt.grid(axis = 'x')\n",
    "\n",
    "#lukuarvot pylväiden viereen\n",
    "for i, v in enumerate(df['Tyytyväisyyskeskiarvo']):\n",
    "    plt.text(v, i, ' ' + str(v), va = 'center')"
   ]
  },
  {
   "cell_type": "markdown",
   "metadata": {},
   "source": [
    "Lisätietoa lukuarvojen esittämisestä pylväiden yhteydessä:\n",
    "\n",
    "https://stackoverflow.com/questions/30228069/how-to-display-the-value-of-the-bar-on-each-bar-with-pyplot-barh"
   ]
  }
 ],
 "metadata": {
  "kernelspec": {
   "display_name": "Python 3",
   "language": "python",
   "name": "python3"
  },
  "language_info": {
   "codemirror_mode": {
    "name": "ipython",
    "version": 3
   },
   "file_extension": ".py",
   "mimetype": "text/x-python",
   "name": "python",
   "nbconvert_exporter": "python",
   "pygments_lexer": "ipython3",
   "version": "3.8.8"
  }
 },
 "nbformat": 4,
 "nbformat_minor": 2
}
