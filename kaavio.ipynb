{
 "cells": [
  {
   "cell_type": "code",
   "execution_count": 1,
   "id": "f049b286",
   "metadata": {},
   "outputs": [
    {
     "name": "stdout",
     "output_type": "stream",
     "text": [
      "Päivitetty 2022-03-17 14:45:45.417292\n"
     ]
    }
   ],
   "source": [
    "from datetime import datetime\n",
    "print(f'Päivitetty {datetime.now()}')"
   ]
  },
  {
   "cell_type": "markdown",
   "id": "2b14a76e",
   "metadata": {},
   "source": [
    "Olen käyttänyt Excelin grafiikan perusasioiden opetuksessa työkirjaa https://taanila.fi/kaavio.xlsx. Toistan tässä työkirjan esimerkit vertailun vuoksi Python-ympäristössä."
   ]
  },
  {
   "cell_type": "code",
   "execution_count": 2,
   "id": "f7f01f1f",
   "metadata": {},
   "outputs": [],
   "source": [
    "import pandas as pd\n",
    "import matplotlib.pyplot as plt\n",
    "\n",
    "# Tyylimääritys grafiikalle\n",
    "plt.style.use('seaborn-white')"
   ]
  },
  {
   "cell_type": "markdown",
   "id": "2ecf703e",
   "metadata": {},
   "source": [
    "## Osa 1 - laadukkaista taulukoista laadukkaita kaavioita"
   ]
  },
  {
   "cell_type": "code",
   "execution_count": 3,
   "id": "d1a66359",
   "metadata": {},
   "outputs": [
    {
     "data": {
      "text/html": [
       "<div>\n",
       "<style scoped>\n",
       "    .dataframe tbody tr th:only-of-type {\n",
       "        vertical-align: middle;\n",
       "    }\n",
       "\n",
       "    .dataframe tbody tr th {\n",
       "        vertical-align: top;\n",
       "    }\n",
       "\n",
       "    .dataframe thead th {\n",
       "        text-align: right;\n",
       "    }\n",
       "</style>\n",
       "<table border=\"1\" class=\"dataframe\">\n",
       "  <thead>\n",
       "    <tr style=\"text-align: right;\">\n",
       "      <th></th>\n",
       "      <th>Etelä</th>\n",
       "      <th>Keski</th>\n",
       "      <th>Pohjoinen</th>\n",
       "    </tr>\n",
       "  </thead>\n",
       "  <tbody>\n",
       "    <tr>\n",
       "      <th>1. nelj.</th>\n",
       "      <td>120</td>\n",
       "      <td>98</td>\n",
       "      <td>89</td>\n",
       "    </tr>\n",
       "    <tr>\n",
       "      <th>2. nelj.</th>\n",
       "      <td>130</td>\n",
       "      <td>102</td>\n",
       "      <td>95</td>\n",
       "    </tr>\n",
       "    <tr>\n",
       "      <th>3. nelj.</th>\n",
       "      <td>167</td>\n",
       "      <td>120</td>\n",
       "      <td>108</td>\n",
       "    </tr>\n",
       "    <tr>\n",
       "      <th>4. nelj.</th>\n",
       "      <td>210</td>\n",
       "      <td>180</td>\n",
       "      <td>120</td>\n",
       "    </tr>\n",
       "  </tbody>\n",
       "</table>\n",
       "</div>"
      ],
      "text/plain": [
       "          Etelä  Keski  Pohjoinen\n",
       "1. nelj.    120     98         89\n",
       "2. nelj.    130    102         95\n",
       "3. nelj.    167    120        108\n",
       "4. nelj.    210    180        120"
      ]
     },
     "execution_count": 3,
     "metadata": {},
     "output_type": "execute_result"
    }
   ],
   "source": [
    "# luon dataframen\n",
    "df1 = pd.DataFrame({'Etelä':[120, 130, 167, 210],\n",
    "                    'Keski':[98, 102, 120, 180],\n",
    "                    'Pohjoinen':[89, 95, 108, 120]},\n",
    "                   index = ['1. nelj.', '2. nelj.', '3. nelj.', '4. nelj.'])\n",
    "df1"
   ]
  },
  {
   "cell_type": "code",
   "execution_count": 4,
   "id": "0f676973",
   "metadata": {},
   "outputs": [
    {
     "data": {
      "text/plain": [
       "<matplotlib.legend.Legend at 0x2275d2fffd0>"
      ]
     },
     "execution_count": 4,
     "metadata": {},
     "output_type": "execute_result"
    },
    {
     "data": {
      "image/png": "[encoded data removed]",
      "text/plain": [
       "<Figure size 432x288 with 1 Axes>"
      ]
     },
     "metadata": {},
     "output_type": "display_data"
    }
   ],
   "source": [
    "# rot kääntää luokka-akselin nimiöt\n",
    "df1.plot.bar(rot=0)\n",
    "\n",
    "# Arvoakselin asteikon arvot\n",
    "plt.yticks([0, 50, 100, 150, 200, 250])\n",
    "\n",
    "# Arvoakselin otsikko\n",
    "plt.ylabel('Myynti miljoonaa euroa')\n",
    "\n",
    "# Vaakasuuntainen taustaviivoitus\n",
    "plt.grid(axis='y')\n",
    "\n",
    "# Selitteen sijoittelu ja leveys (3 vierekkäin)\n",
    "plt.legend(loc=(0.15, -0.2), ncol=3)"
   ]
  },
  {
   "cell_type": "code",
   "execution_count": 5,
   "id": "f43effdd",
   "metadata": {},
   "outputs": [
    {
     "data": {
      "text/plain": [
       "<matplotlib.legend.Legend at 0x2275a1de700>"
      ]
     },
     "execution_count": 5,
     "metadata": {},
     "output_type": "execute_result"
    },
    {
     "data": {
      "image/png": "[encoded data removed]",
      "text/plain": [
       "<Figure size 432x288 with 1 Axes>"
      ]
     },
     "metadata": {},
     "output_type": "display_data"
    }
   ],
   "source": [
    "# Äskeinen arvosarjat ja luokat vaihdettuina päittäin\n",
    "df1.T.plot.bar(rot=0)\n",
    "\n",
    "plt.yticks([0, 50, 100, 150, 200, 250])\n",
    "\n",
    "plt.ylabel('Myynti miljoonaa euroa')\n",
    "\n",
    "plt.grid(axis='y')\n",
    "\n",
    "plt.legend(loc=(0, -0.2), ncol=4)"
   ]
  },
  {
   "cell_type": "code",
   "execution_count": 6,
   "id": "daba284c",
   "metadata": {},
   "outputs": [
    {
     "data": {
      "image/png": "[encoded data removed]",
      "text/plain": [
       "<Figure size 432x288 with 1 Axes>"
      ]
     },
     "metadata": {},
     "output_type": "display_data"
    }
   ],
   "source": [
    "# Pylväskaavion sijasta voin käyttää myös viivakaaviota\n",
    "# style määrittää viivan ja havaintopisteen tyylin\n",
    "df1.plot(style='-o')\n",
    "\n",
    "plt.yticks([50, 100, 150, 200, 250])\n",
    "\n",
    "plt.ylabel('Myynti miljoonaa euroa')\n",
    "\n",
    "plt.grid()"
   ]
  },
  {
   "cell_type": "markdown",
   "id": "805159ed",
   "metadata": {},
   "source": [
    "## Osa 2 - vaakapylväskaavio"
   ]
  },
  {
   "cell_type": "code",
   "execution_count": 7,
   "id": "095da13a",
   "metadata": {},
   "outputs": [
    {
     "data": {
      "text/html": [
       "<div>\n",
       "<style scoped>\n",
       "    .dataframe tbody tr th:only-of-type {\n",
       "        vertical-align: middle;\n",
       "    }\n",
       "\n",
       "    .dataframe tbody tr th {\n",
       "        vertical-align: top;\n",
       "    }\n",
       "\n",
       "    .dataframe thead th {\n",
       "        text-align: right;\n",
       "    }\n",
       "</style>\n",
       "<table border=\"1\" class=\"dataframe\">\n",
       "  <thead>\n",
       "    <tr style=\"text-align: right;\">\n",
       "      <th></th>\n",
       "      <th>Kotieläimet 1000 kpl</th>\n",
       "    </tr>\n",
       "  </thead>\n",
       "  <tbody>\n",
       "    <tr>\n",
       "      <th>Siipikarjaa</th>\n",
       "      <td>4056</td>\n",
       "    </tr>\n",
       "    <tr>\n",
       "      <th>Sikoja</th>\n",
       "      <td>1483</td>\n",
       "    </tr>\n",
       "    <tr>\n",
       "      <th>Nautakarjaa</th>\n",
       "      <td>915</td>\n",
       "    </tr>\n",
       "    <tr>\n",
       "      <th>Poroja</th>\n",
       "      <td>195</td>\n",
       "    </tr>\n",
       "    <tr>\n",
       "      <th>Lampaita</th>\n",
       "      <td>122</td>\n",
       "    </tr>\n",
       "    <tr>\n",
       "      <th>Hevosia</th>\n",
       "      <td>59</td>\n",
       "    </tr>\n",
       "  </tbody>\n",
       "</table>\n",
       "</div>"
      ],
      "text/plain": [
       "             Kotieläimet 1000 kpl\n",
       "Siipikarjaa                  4056\n",
       "Sikoja                       1483\n",
       "Nautakarjaa                   915\n",
       "Poroja                        195\n",
       "Lampaita                      122\n",
       "Hevosia                        59"
      ]
     },
     "execution_count": 7,
     "metadata": {},
     "output_type": "execute_result"
    }
   ],
   "source": [
    "# luon dataframen\n",
    "df2 = pd.DataFrame({'Kotieläimet 1000 kpl': [4056, 1483, 915, 195, 122, 59]},\n",
    "                   index = ['Siipikarjaa', 'Sikoja', 'Nautakarjaa', 'Poroja', 'Lampaita', 'Hevosia'])\n",
    "df2"
   ]
  },
  {
   "cell_type": "code",
   "execution_count": 8,
   "id": "718c5370",
   "metadata": {},
   "outputs": [
    {
     "data": {
      "image/png": "[encoded data removed]",
      "text/plain": [
       "<Figure size 432x288 with 1 Axes>"
      ]
     },
     "metadata": {},
     "output_type": "display_data"
    }
   ],
   "source": [
    "df2.plot.barh()\n",
    "\n",
    "plt.xticks([0, 1000, 2000, 3000, 4000])\n",
    "\n",
    "plt.grid(axis='x')\n",
    "\n",
    "# lukuarvot pylväiden viereen\n",
    "for i, v in enumerate(df2['Kotieläimet 1000 kpl']):\n",
    "    plt.text(v, i, ' '+str(v), va='center')"
   ]
  },
  {
   "cell_type": "markdown",
   "id": "ca5b7a89",
   "metadata": {},
   "source": [
    "Lisätietoa lukuarvojen esittämisestä pylväiden yhteydessä:\n",
    "\n",
    "https://stackoverflow.com/questions/30228069/how-to-display-the-value-of-the-bar-on-each-bar-with-pyplot-barh"
   ]
  },
  {
   "cell_type": "markdown",
   "id": "3ce6e97a",
   "metadata": {},
   "source": [
    "## Osa 3 - histogrammi"
   ]
  },
  {
   "cell_type": "code",
   "execution_count": 9,
   "id": "bf5b036e",
   "metadata": {},
   "outputs": [
    {
     "data": {
      "text/html": [
       "<div>\n",
       "<style scoped>\n",
       "    .dataframe tbody tr th:only-of-type {\n",
       "        vertical-align: middle;\n",
       "    }\n",
       "\n",
       "    .dataframe tbody tr th {\n",
       "        vertical-align: top;\n",
       "    }\n",
       "\n",
       "    .dataframe thead th {\n",
       "        text-align: right;\n",
       "    }\n",
       "</style>\n",
       "<table border=\"1\" class=\"dataframe\">\n",
       "  <thead>\n",
       "    <tr style=\"text-align: right;\">\n",
       "      <th></th>\n",
       "      <th>Henkilöä</th>\n",
       "    </tr>\n",
       "  </thead>\n",
       "  <tbody>\n",
       "    <tr>\n",
       "      <th>0-1600</th>\n",
       "      <td>5</td>\n",
       "    </tr>\n",
       "    <tr>\n",
       "      <th>1601-2100</th>\n",
       "      <td>19</td>\n",
       "    </tr>\n",
       "    <tr>\n",
       "      <th>2101-2600</th>\n",
       "      <td>25</td>\n",
       "    </tr>\n",
       "    <tr>\n",
       "      <th>2601-3100</th>\n",
       "      <td>20</td>\n",
       "    </tr>\n",
       "    <tr>\n",
       "      <th>3101-3600</th>\n",
       "      <td>8</td>\n",
       "    </tr>\n",
       "    <tr>\n",
       "      <th>3601-</th>\n",
       "      <td>5</td>\n",
       "    </tr>\n",
       "  </tbody>\n",
       "</table>\n",
       "</div>"
      ],
      "text/plain": [
       "           Henkilöä\n",
       "0-1600            5\n",
       "1601-2100        19\n",
       "2101-2600        25\n",
       "2601-3100        20\n",
       "3101-3600         8\n",
       "3601-             5"
      ]
     },
     "execution_count": 9,
     "metadata": {},
     "output_type": "execute_result"
    }
   ],
   "source": [
    "# luon dataframen\n",
    "df3 = pd.DataFrame({'Henkilöä': [5, 19, 25, 20, 8, 5]},\n",
    "                   index = ['0-1600', '1601-2100', '2101-2600', '2601-3100', '3101-3600', '3601-'])\n",
    "df3"
   ]
  },
  {
   "cell_type": "code",
   "execution_count": 10,
   "id": "35092e91",
   "metadata": {},
   "outputs": [
    {
     "data": {
      "image/png": "[encoded data removed]",
      "text/plain": [
       "<Figure size 432x288 with 1 Axes>"
      ]
     },
     "metadata": {},
     "output_type": "display_data"
    }
   ],
   "source": [
    "# width=1: pylväät kiinni toisissaan\n",
    "df3.plot.bar(legend=False, edgecolor='white', width=1, rot=45)\n",
    "\n",
    "plt.ylabel('Henkilöä')\n",
    "\n",
    "# Akselin skaalaus\n",
    "plt.ylim(0, 30)\n",
    "\n",
    "plt.grid(axis='y')\n",
    "\n",
    "# lukuarvot pylväiden yläpuolelle\n",
    "for i, v in enumerate(df3['Henkilöä']):\n",
    "    plt.text(i, v+0.5, str(v), ha='center')"
   ]
  },
  {
   "cell_type": "markdown",
   "id": "cc52a709",
   "metadata": {},
   "source": [
    "## Osa 4 - mielipiteiden keskiarvoja pylväinä "
   ]
  },
  {
   "cell_type": "code",
   "execution_count": 11,
   "id": "5ece9b30",
   "metadata": {},
   "outputs": [
    {
     "data": {
      "text/html": [
       "<div>\n",
       "<style scoped>\n",
       "    .dataframe tbody tr th:only-of-type {\n",
       "        vertical-align: middle;\n",
       "    }\n",
       "\n",
       "    .dataframe tbody tr th {\n",
       "        vertical-align: top;\n",
       "    }\n",
       "\n",
       "    .dataframe thead th {\n",
       "        text-align: right;\n",
       "    }\n",
       "</style>\n",
       "<table border=\"1\" class=\"dataframe\">\n",
       "  <thead>\n",
       "    <tr style=\"text-align: right;\">\n",
       "      <th></th>\n",
       "      <th>Tyytyväisyyskeskiarvo</th>\n",
       "    </tr>\n",
       "  </thead>\n",
       "  <tbody>\n",
       "    <tr>\n",
       "      <th>Hintataso</th>\n",
       "      <td>2.8</td>\n",
       "    </tr>\n",
       "    <tr>\n",
       "      <th>Valikoiman laajuus</th>\n",
       "      <td>3.9</td>\n",
       "    </tr>\n",
       "    <tr>\n",
       "      <th>Henkilökunnan palvelualttius</th>\n",
       "      <td>4.7</td>\n",
       "    </tr>\n",
       "  </tbody>\n",
       "</table>\n",
       "</div>"
      ],
      "text/plain": [
       "                              Tyytyväisyyskeskiarvo\n",
       "Hintataso                                       2.8\n",
       "Valikoiman laajuus                              3.9\n",
       "Henkilökunnan palvelualttius                    4.7"
      ]
     },
     "execution_count": 11,
     "metadata": {},
     "output_type": "execute_result"
    }
   ],
   "source": [
    "#luon dataframen\n",
    "df4 = pd.DataFrame([2.8, 3.9, 4.7],\n",
    "                   index = ['Hintataso', 'Valikoiman laajuus', 'Henkilökunnan palvelualttius'],\n",
    "                   columns = ['Tyytyväisyyskeskiarvo'])\n",
    "df4"
   ]
  },
  {
   "cell_type": "code",
   "execution_count": 12,
   "id": "424719e8",
   "metadata": {},
   "outputs": [
    {
     "data": {
      "image/png": "[encoded data removed]",
      "text/plain": [
       "<Figure size 432x288 with 1 Axes>"
      ]
     },
     "metadata": {},
     "output_type": "display_data"
    }
   ],
   "source": [
    "df4.plot.barh()\n",
    "\n",
    "plt.xlim(1, 5)\n",
    "\n",
    "plt.xlabel('1=erittäin tyytymätön, 5=erittäin tyytyväinen')\n",
    "\n",
    "plt.xticks([1, 2, 3, 4, 5])\n",
    "\n",
    "plt.grid(axis = 'x')\n",
    "\n",
    "# lukuarvot pylväiden viereen\n",
    "for i, v in enumerate(df4['Tyytyväisyyskeskiarvo']):\n",
    "    plt.text(v, i, ' ' + str(v), va = 'center')"
   ]
  },
  {
   "cell_type": "markdown",
   "id": "03ac9ebd",
   "metadata": {},
   "source": [
    "## Osa 5 - useita arvosarjoja"
   ]
  },
  {
   "cell_type": "code",
   "execution_count": 13,
   "id": "ddadf492",
   "metadata": {},
   "outputs": [
    {
     "data": {
      "text/html": [
       "<div>\n",
       "<style scoped>\n",
       "    .dataframe tbody tr th:only-of-type {\n",
       "        vertical-align: middle;\n",
       "    }\n",
       "\n",
       "    .dataframe tbody tr th {\n",
       "        vertical-align: top;\n",
       "    }\n",
       "\n",
       "    .dataframe thead th {\n",
       "        text-align: right;\n",
       "    }\n",
       "</style>\n",
       "<table border=\"1\" class=\"dataframe\">\n",
       "  <thead>\n",
       "    <tr style=\"text-align: right;\">\n",
       "      <th></th>\n",
       "      <th>Mies</th>\n",
       "      <th>Nainen</th>\n",
       "    </tr>\n",
       "  </thead>\n",
       "  <tbody>\n",
       "    <tr>\n",
       "      <th>Tyytymätön</th>\n",
       "      <td>17</td>\n",
       "      <td>8</td>\n",
       "    </tr>\n",
       "    <tr>\n",
       "      <th>Ei tyytymätön eikä tyytyväinen</th>\n",
       "      <td>15</td>\n",
       "      <td>15</td>\n",
       "    </tr>\n",
       "    <tr>\n",
       "      <th>Tyytyväinen</th>\n",
       "      <td>6</td>\n",
       "      <td>21</td>\n",
       "    </tr>\n",
       "  </tbody>\n",
       "</table>\n",
       "</div>"
      ],
      "text/plain": [
       "                                Mies  Nainen\n",
       "Tyytymätön                        17       8\n",
       "Ei tyytymätön eikä tyytyväinen    15      15\n",
       "Tyytyväinen                        6      21"
      ]
     },
     "execution_count": 13,
     "metadata": {},
     "output_type": "execute_result"
    }
   ],
   "source": [
    "# luon dataframen\n",
    "df5a = pd.DataFrame({'Mies': [17, 15, 6],\n",
    "                     'Nainen': [8, 15, 21]},\n",
    "                    index = ['Tyytymätön', 'Ei tyytymätön eikä tyytyväinen', 'Tyytyväinen'])\n",
    "df5a"
   ]
  },
  {
   "cell_type": "code",
   "execution_count": 14,
   "id": "cc400ac9",
   "metadata": {},
   "outputs": [
    {
     "data": {
      "image/png": "[encoded data removed]",
      "text/plain": [
       "<Figure size 432x288 with 1 Axes>"
      ]
     },
     "metadata": {},
     "output_type": "display_data"
    }
   ],
   "source": [
    "df5a.plot.bar(rot=0)\n",
    "\n",
    "plt.yticks([0, 5, 10, 15, 20])\n",
    "\n",
    "# Arvoakselin otsikko vaakasuuntaisena, labelpad määrittää etäisyyden y-akselista\n",
    "plt.ylabel('lkm', rotation=0, labelpad=15)\n",
    "\n",
    "plt.legend(ncol=2)\n",
    "\n",
    "plt.grid(axis='y')"
   ]
  },
  {
   "cell_type": "code",
   "execution_count": 15,
   "id": "e28b01b4",
   "metadata": {},
   "outputs": [
    {
     "data": {
      "text/html": [
       "<div>\n",
       "<style scoped>\n",
       "    .dataframe tbody tr th:only-of-type {\n",
       "        vertical-align: middle;\n",
       "    }\n",
       "\n",
       "    .dataframe tbody tr th {\n",
       "        vertical-align: top;\n",
       "    }\n",
       "\n",
       "    .dataframe thead th {\n",
       "        text-align: right;\n",
       "    }\n",
       "</style>\n",
       "<table border=\"1\" class=\"dataframe\">\n",
       "  <thead>\n",
       "    <tr style=\"text-align: right;\">\n",
       "      <th></th>\n",
       "      <th>Mies</th>\n",
       "      <th>Nainen</th>\n",
       "    </tr>\n",
       "  </thead>\n",
       "  <tbody>\n",
       "    <tr>\n",
       "      <th>Tyytymätön</th>\n",
       "      <td>0.447368</td>\n",
       "      <td>0.181818</td>\n",
       "    </tr>\n",
       "    <tr>\n",
       "      <th>Ei tyytymätön eikä tyytyväinen</th>\n",
       "      <td>0.394737</td>\n",
       "      <td>0.340909</td>\n",
       "    </tr>\n",
       "    <tr>\n",
       "      <th>Tyytyväinen</th>\n",
       "      <td>0.157895</td>\n",
       "      <td>0.477273</td>\n",
       "    </tr>\n",
       "  </tbody>\n",
       "</table>\n",
       "</div>"
      ],
      "text/plain": [
       "                                    Mies    Nainen\n",
       "Tyytymätön                      0.447368  0.181818\n",
       "Ei tyytymätön eikä tyytyväinen  0.394737  0.340909\n",
       "Tyytyväinen                     0.157895  0.477273"
      ]
     },
     "execution_count": 15,
     "metadata": {},
     "output_type": "execute_result"
    }
   ],
   "source": [
    "# Prosentti-taulukko\n",
    "df5b = df5a.copy()\n",
    "df5b['Mies'] = df5a['Mies'] / df5a['Mies'].sum()\n",
    "df5b['Nainen'] = df5a['Nainen'] / df5a['Nainen'].sum()\n",
    "df5b"
   ]
  },
  {
   "cell_type": "code",
   "execution_count": 16,
   "id": "c7fa25cb",
   "metadata": {},
   "outputs": [
    {
     "data": {
      "text/plain": [
       "<matplotlib.legend.Legend at 0x2275ede3430>"
      ]
     },
     "execution_count": 16,
     "metadata": {},
     "output_type": "execute_result"
    },
    {
     "data": {
      "image/png": "[encoded data removed]",
      "text/plain": [
       "<Figure size 432x288 with 1 Axes>"
      ]
     },
     "metadata": {},
     "output_type": "display_data"
    }
   ],
   "source": [
    "# T vaihtaa dataframen rivit ja sarakkeet päittäin\n",
    "# stacked=True: pinottu pylväskaavio\n",
    "(df5b * 100).T.plot.barh(stacked=True)\n",
    "\n",
    "plt.xlabel('%')\n",
    "\n",
    "plt.grid(axis='x')\n",
    "\n",
    "plt.legend(loc=(-0.10, 1), ncol=3)"
   ]
  },
  {
   "cell_type": "code",
   "execution_count": 17,
   "id": "7e2ec16b",
   "metadata": {},
   "outputs": [
    {
     "data": {
      "text/plain": [
       "<matplotlib.legend.Legend at 0x2275edea310>"
      ]
     },
     "execution_count": 17,
     "metadata": {},
     "output_type": "execute_result"
    },
    {
     "data": {
      "image/png": "[encoded data removed]",
      "text/plain": [
       "<Figure size 432x288 with 1 Axes>"
      ]
     },
     "metadata": {},
     "output_type": "display_data"
    }
   ],
   "source": [
    "df5a.T.plot.bar(stacked=True, rot=0)\n",
    "\n",
    "plt.ylabel('Lukumäärä')\n",
    "\n",
    "plt.grid(axis='y')\n",
    "\n",
    "plt.legend(loc=(-0.1, 1), ncol=3)"
   ]
  },
  {
   "cell_type": "markdown",
   "id": "b8a16ee6",
   "metadata": {},
   "source": [
    "## Osa 6 - kahden arvoakselin kaavio\n",
    "\n",
    "Jos esitettävät arvosarjat ovat eri suuruusluokkaa, niin kahden arvoakselin käyttö on paikallaan."
   ]
  },
  {
   "cell_type": "code",
   "execution_count": 18,
   "id": "442f2ad2",
   "metadata": {},
   "outputs": [
    {
     "data": {
      "text/html": [
       "<div>\n",
       "<style scoped>\n",
       "    .dataframe tbody tr th:only-of-type {\n",
       "        vertical-align: middle;\n",
       "    }\n",
       "\n",
       "    .dataframe tbody tr th {\n",
       "        vertical-align: top;\n",
       "    }\n",
       "\n",
       "    .dataframe thead th {\n",
       "        text-align: right;\n",
       "    }\n",
       "</style>\n",
       "<table border=\"1\" class=\"dataframe\">\n",
       "  <thead>\n",
       "    <tr style=\"text-align: right;\">\n",
       "      <th></th>\n",
       "      <th>Indeksi</th>\n",
       "      <th>Myynti</th>\n",
       "    </tr>\n",
       "  </thead>\n",
       "  <tbody>\n",
       "    <tr>\n",
       "      <th>1980</th>\n",
       "      <td>85</td>\n",
       "      <td>307954</td>\n",
       "    </tr>\n",
       "    <tr>\n",
       "      <th>1981</th>\n",
       "      <td>83</td>\n",
       "      <td>566829</td>\n",
       "    </tr>\n",
       "    <tr>\n",
       "      <th>1982</th>\n",
       "      <td>116</td>\n",
       "      <td>1241391</td>\n",
       "    </tr>\n",
       "    <tr>\n",
       "      <th>1983</th>\n",
       "      <td>144</td>\n",
       "      <td>2109871</td>\n",
       "    </tr>\n",
       "    <tr>\n",
       "      <th>1984</th>\n",
       "      <td>193</td>\n",
       "      <td>3009299</td>\n",
       "    </tr>\n",
       "    <tr>\n",
       "      <th>1985</th>\n",
       "      <td>184</td>\n",
       "      <td>9184649</td>\n",
       "    </tr>\n",
       "    <tr>\n",
       "      <th>1986</th>\n",
       "      <td>254</td>\n",
       "      <td>24933405</td>\n",
       "    </tr>\n",
       "    <tr>\n",
       "      <th>1987</th>\n",
       "      <td>320</td>\n",
       "      <td>29726136</td>\n",
       "    </tr>\n",
       "    <tr>\n",
       "      <th>1988</th>\n",
       "      <td>405</td>\n",
       "      <td>31719819</td>\n",
       "    </tr>\n",
       "    <tr>\n",
       "      <th>1989</th>\n",
       "      <td>442</td>\n",
       "      <td>15343617</td>\n",
       "    </tr>\n",
       "    <tr>\n",
       "      <th>1990</th>\n",
       "      <td>284</td>\n",
       "      <td>6318198</td>\n",
       "    </tr>\n",
       "  </tbody>\n",
       "</table>\n",
       "</div>"
      ],
      "text/plain": [
       "      Indeksi    Myynti\n",
       "1980       85    307954\n",
       "1981       83    566829\n",
       "1982      116   1241391\n",
       "1983      144   2109871\n",
       "1984      193   3009299\n",
       "1985      184   9184649\n",
       "1986      254  24933405\n",
       "1987      320  29726136\n",
       "1988      405  31719819\n",
       "1989      442  15343617\n",
       "1990      284   6318198"
      ]
     },
     "execution_count": 18,
     "metadata": {},
     "output_type": "execute_result"
    }
   ],
   "source": [
    "# Luon dataframen Helsingin pörssin kehityksestä vuosina 1980 - 1990\n",
    "df6 = pd.DataFrame({'Indeksi':[85,83,116,144,193,184,254,320,405,442,284],\n",
    "                    'Myynti':[307954,566829,1241391,2109871,3009299,9184649,24933405,29726136,31719819,15343617,6318198]},\n",
    "                   index=['1980','1981','1982','1983','1984','1985','1986','1987','1988','1989','1990'])\n",
    "df6"
   ]
  },
  {
   "cell_type": "code",
   "execution_count": 19,
   "id": "5da9a4ba",
   "metadata": {},
   "outputs": [
    {
     "data": {
      "text/plain": [
       "<AxesSubplot:ylabel='Myynti miljoonaa euroa'>"
      ]
     },
     "execution_count": 19,
     "metadata": {},
     "output_type": "execute_result"
    },
    {
     "data": {
      "image/png": "[encoded data removed]",
      "text/plain": [
       "<Figure size 720x432 with 2 Axes>"
      ]
     },
     "metadata": {},
     "output_type": "display_data"
    }
   ],
   "source": [
    "# Indeksi viivakaaviona\n",
    "df6['Indeksi'].plot(color='C0', figsize=(10, 6))\n",
    "\n",
    "# Indeksille ja sen akselille käytössä olevien värien ensimmäinen väri 'C0'\n",
    "plt.ylabel('Indeksi', color='C0')\n",
    "\n",
    "# Toinen kaavio, jolla on oma arvoakseli, mutta yhteinen x-akseli indeksin kanssa\n",
    "plt.twinx()\n",
    "\n",
    "# Myynnille ja sen akselille käytössä olevien värien toinen väri 'C1'\n",
    "plt.ylabel('Myynti miljoonaa euroa', color='C1')\n",
    "\n",
    "# Myynti pylväinä\n",
    "(df6['Myynti'] / 1000000).plot.bar(color='C1')"
   ]
  },
  {
   "cell_type": "markdown",
   "id": "c8518e36",
   "metadata": {},
   "source": [
    "## Osa 7 - pylväskaavioita\n",
    "\n",
    "Excelissä tämä osa oli esimerkkinä pylväskaavioihin liittyvistä Excel-ongelmista. Pythonin puolella vastaavaa ongelmaa ei esiinny."
   ]
  },
  {
   "cell_type": "code",
   "execution_count": 20,
   "id": "35d45e63",
   "metadata": {},
   "outputs": [
    {
     "data": {
      "text/html": [
       "<div>\n",
       "<style scoped>\n",
       "    .dataframe tbody tr th:only-of-type {\n",
       "        vertical-align: middle;\n",
       "    }\n",
       "\n",
       "    .dataframe tbody tr th {\n",
       "        vertical-align: top;\n",
       "    }\n",
       "\n",
       "    .dataframe thead th {\n",
       "        text-align: right;\n",
       "    }\n",
       "</style>\n",
       "<table border=\"1\" class=\"dataframe\">\n",
       "  <thead>\n",
       "    <tr style=\"text-align: right;\">\n",
       "      <th></th>\n",
       "      <th>2008</th>\n",
       "      <th>2009</th>\n",
       "      <th>2010</th>\n",
       "    </tr>\n",
       "  </thead>\n",
       "  <tbody>\n",
       "    <tr>\n",
       "      <th>I</th>\n",
       "      <td>250</td>\n",
       "      <td>260</td>\n",
       "      <td>270</td>\n",
       "    </tr>\n",
       "    <tr>\n",
       "      <th>II</th>\n",
       "      <td>350</td>\n",
       "      <td>300</td>\n",
       "      <td>310</td>\n",
       "    </tr>\n",
       "    <tr>\n",
       "      <th>III</th>\n",
       "      <td>100</td>\n",
       "      <td>200</td>\n",
       "      <td>240</td>\n",
       "    </tr>\n",
       "    <tr>\n",
       "      <th>IV</th>\n",
       "      <td>140</td>\n",
       "      <td>120</td>\n",
       "      <td>140</td>\n",
       "    </tr>\n",
       "  </tbody>\n",
       "</table>\n",
       "</div>"
      ],
      "text/plain": [
       "     2008  2009  2010\n",
       "I     250   260   270\n",
       "II    350   300   310\n",
       "III   100   200   240\n",
       "IV    140   120   140"
      ]
     },
     "execution_count": 20,
     "metadata": {},
     "output_type": "execute_result"
    }
   ],
   "source": [
    "# luon dataframen\n",
    "df7 = pd.DataFrame({'2008':[250,350,100,140],\n",
    "                    '2009':[260,300,200,120],\n",
    "                    '2010':[270,310,240,140]},\n",
    "                   index=['I','II','III','IV'])\n",
    "df7"
   ]
  },
  {
   "cell_type": "code",
   "execution_count": 21,
   "id": "8fd9e998",
   "metadata": {},
   "outputs": [
    {
     "data": {
      "text/plain": [
       "<matplotlib.legend.Legend at 0x2275ee5e1f0>"
      ]
     },
     "execution_count": 21,
     "metadata": {},
     "output_type": "execute_result"
    },
    {
     "data": {
      "image/png": "[encoded data removed]",
      "text/plain": [
       "<Figure size 432x288 with 1 Axes>"
      ]
     },
     "metadata": {},
     "output_type": "display_data"
    }
   ],
   "source": [
    "df7.plot.bar(rot=0)\n",
    "\n",
    "plt.xlabel('Vuosineljännes')\n",
    "plt.ylabel('Myynti miljoonaa euroa')\n",
    "\n",
    "plt.grid(axis='y')\n",
    "\n",
    "plt.legend(loc=(0.2, -0.25), ncol=3)"
   ]
  },
  {
   "cell_type": "code",
   "execution_count": 22,
   "id": "1968e5b8",
   "metadata": {},
   "outputs": [
    {
     "data": {
      "text/plain": [
       "<matplotlib.legend.Legend at 0x2275ee29610>"
      ]
     },
     "execution_count": 22,
     "metadata": {},
     "output_type": "execute_result"
    },
    {
     "data": {
      "image/png": "[encoded data removed]",
      "text/plain": [
       "<Figure size 432x288 with 1 Axes>"
      ]
     },
     "metadata": {},
     "output_type": "display_data"
    }
   ],
   "source": [
    "# T vaihtaa arvosarjat ja luokat päittäin\n",
    "df7.T.plot.bar(rot=0)\n",
    "\n",
    "plt.xlabel('Vuosi')\n",
    "plt.ylabel('Myynti miljoonaa euroa')\n",
    "\n",
    "plt.grid(axis='y')\n",
    "\n",
    "plt.legend(loc=(0.2, -0.25), ncol=4)"
   ]
  },
  {
   "cell_type": "markdown",
   "id": "bc6d609e",
   "metadata": {},
   "source": [
    "## Osa 8 - ympyräkaavio"
   ]
  },
  {
   "cell_type": "code",
   "execution_count": 23,
   "id": "4d948dbc",
   "metadata": {},
   "outputs": [
    {
     "data": {
      "text/html": [
       "<div>\n",
       "<style scoped>\n",
       "    .dataframe tbody tr th:only-of-type {\n",
       "        vertical-align: middle;\n",
       "    }\n",
       "\n",
       "    .dataframe tbody tr th {\n",
       "        vertical-align: top;\n",
       "    }\n",
       "\n",
       "    .dataframe thead th {\n",
       "        text-align: right;\n",
       "    }\n",
       "</style>\n",
       "<table border=\"1\" class=\"dataframe\">\n",
       "  <thead>\n",
       "    <tr style=\"text-align: right;\">\n",
       "      <th></th>\n",
       "      <th>%</th>\n",
       "    </tr>\n",
       "  </thead>\n",
       "  <tbody>\n",
       "    <tr>\n",
       "      <th>Nordea</th>\n",
       "      <td>0.25910</td>\n",
       "    </tr>\n",
       "    <tr>\n",
       "      <th>OP</th>\n",
       "      <td>0.22920</td>\n",
       "    </tr>\n",
       "    <tr>\n",
       "      <th>Sampo</th>\n",
       "      <td>0.14446</td>\n",
       "    </tr>\n",
       "    <tr>\n",
       "      <th>SEB Gyllenberg</th>\n",
       "      <td>0.05700</td>\n",
       "    </tr>\n",
       "    <tr>\n",
       "      <th>Evli</th>\n",
       "      <td>0.05190</td>\n",
       "    </tr>\n",
       "    <tr>\n",
       "      <th>Muut</th>\n",
       "      <td>0.25820</td>\n",
       "    </tr>\n",
       "  </tbody>\n",
       "</table>\n",
       "</div>"
      ],
      "text/plain": [
       "                      %\n",
       "Nordea          0.25910\n",
       "OP              0.22920\n",
       "Sampo           0.14446\n",
       "SEB Gyllenberg  0.05700\n",
       "Evli            0.05190\n",
       "Muut            0.25820"
      ]
     },
     "execution_count": 23,
     "metadata": {},
     "output_type": "execute_result"
    }
   ],
   "source": [
    "#luon dataframen\n",
    "df8 = pd.DataFrame([0.2591,0.2292,0.14446,0.0570,0.0519,0.2582],\n",
    "                   index=['Nordea','OP','Sampo','SEB Gyllenberg','Evli','Muut'],\n",
    "                   columns=['%'])\n",
    "df8"
   ]
  },
  {
   "cell_type": "code",
   "execution_count": 24,
   "id": "6687d660",
   "metadata": {},
   "outputs": [
    {
     "data": {
      "text/plain": [
       "Text(0, 0.5, '')"
      ]
     },
     "execution_count": 24,
     "metadata": {},
     "output_type": "execute_result"
    },
    {
     "data": {
      "image/png": "[encoded data removed]",
      "text/plain": [
       "<Figure size 432x288 with 1 Axes>"
      ]
     },
     "metadata": {},
     "output_type": "display_data"
    }
   ],
   "source": [
    "# autopct muotoilee prosenttiluvut, muotoilukoodit hieman hankalia\n",
    "df8['%'].plot.pie(autopct='%1.1f %%')\n",
    "\n",
    "plt.ylabel('')"
   ]
  },
  {
   "cell_type": "markdown",
   "id": "00f1f158",
   "metadata": {},
   "source": [
    "## Osa 9 - aikasarjojen vertailu"
   ]
  },
  {
   "cell_type": "code",
   "execution_count": 25,
   "id": "a0231b72",
   "metadata": {},
   "outputs": [
    {
     "data": {
      "text/html": [
       "<div>\n",
       "<style scoped>\n",
       "    .dataframe tbody tr th:only-of-type {\n",
       "        vertical-align: middle;\n",
       "    }\n",
       "\n",
       "    .dataframe tbody tr th {\n",
       "        vertical-align: top;\n",
       "    }\n",
       "\n",
       "    .dataframe thead th {\n",
       "        text-align: right;\n",
       "    }\n",
       "</style>\n",
       "<table border=\"1\" class=\"dataframe\">\n",
       "  <thead>\n",
       "    <tr style=\"text-align: right;\">\n",
       "      <th></th>\n",
       "      <th>Etelä</th>\n",
       "      <th>Keski</th>\n",
       "      <th>Pohjoinen</th>\n",
       "    </tr>\n",
       "  </thead>\n",
       "  <tbody>\n",
       "    <tr>\n",
       "      <th>1.2009</th>\n",
       "      <td>120</td>\n",
       "      <td>98</td>\n",
       "      <td>89</td>\n",
       "    </tr>\n",
       "    <tr>\n",
       "      <th>2.2009</th>\n",
       "      <td>130</td>\n",
       "      <td>102</td>\n",
       "      <td>95</td>\n",
       "    </tr>\n",
       "    <tr>\n",
       "      <th>3.2009</th>\n",
       "      <td>167</td>\n",
       "      <td>120</td>\n",
       "      <td>108</td>\n",
       "    </tr>\n",
       "    <tr>\n",
       "      <th>4.2009</th>\n",
       "      <td>210</td>\n",
       "      <td>180</td>\n",
       "      <td>120</td>\n",
       "    </tr>\n",
       "    <tr>\n",
       "      <th>1.2010</th>\n",
       "      <td>130</td>\n",
       "      <td>103</td>\n",
       "      <td>88</td>\n",
       "    </tr>\n",
       "    <tr>\n",
       "      <th>2.2010</th>\n",
       "      <td>135</td>\n",
       "      <td>109</td>\n",
       "      <td>99</td>\n",
       "    </tr>\n",
       "    <tr>\n",
       "      <th>3.2010</th>\n",
       "      <td>172</td>\n",
       "      <td>140</td>\n",
       "      <td>110</td>\n",
       "    </tr>\n",
       "    <tr>\n",
       "      <th>4.2010</th>\n",
       "      <td>213</td>\n",
       "      <td>189</td>\n",
       "      <td>123</td>\n",
       "    </tr>\n",
       "    <tr>\n",
       "      <th>1.2011</th>\n",
       "      <td>134</td>\n",
       "      <td>104</td>\n",
       "      <td>88</td>\n",
       "    </tr>\n",
       "  </tbody>\n",
       "</table>\n",
       "</div>"
      ],
      "text/plain": [
       "        Etelä  Keski  Pohjoinen\n",
       "1.2009    120     98         89\n",
       "2.2009    130    102         95\n",
       "3.2009    167    120        108\n",
       "4.2009    210    180        120\n",
       "1.2010    130    103         88\n",
       "2.2010    135    109         99\n",
       "3.2010    172    140        110\n",
       "4.2010    213    189        123\n",
       "1.2011    134    104         88"
      ]
     },
     "execution_count": 25,
     "metadata": {},
     "output_type": "execute_result"
    }
   ],
   "source": [
    "# luon dataframen\n",
    "df9 = pd.DataFrame({'Etelä':[120,130,167,210,130,135,172,213,134],\n",
    "                    'Keski':[98,102,120,180,103,109,140,189,104],\n",
    "                    'Pohjoinen':[89,95,108,120,88,99,110,123,88]},\n",
    "                   index=['1.2009','2.2009','3.2009','4.2009','1.2010','2.2010','3.2010','4.2010','1.2011'])\n",
    "df9"
   ]
  },
  {
   "cell_type": "markdown",
   "id": "96542084",
   "metadata": {},
   "source": [
    "Tässä vaihdan tyylimäärittelyksi **'seaborn-whitegrid'**, jossa taustaviivoitukset ovat valmiina.\n",
    "\n",
    "Huomaa, miten indeksin arvot tulevat automaattisesti kaavion vaaka-akselille.\n",
    "\n",
    "**style**-parametri määrittää viivan ja havaintopisteiden tyylin. Lisätietoa: https://matplotlib.org/api/_as_gen/matplotlib.pyplot.plot.html"
   ]
  },
  {
   "cell_type": "code",
   "execution_count": 26,
   "id": "8f021036",
   "metadata": {},
   "outputs": [
    {
     "data": {
      "text/plain": [
       "<AxesSubplot:>"
      ]
     },
     "execution_count": 26,
     "metadata": {},
     "output_type": "execute_result"
    },
    {
     "data": {
      "image/png": "[encoded data removed]",
      "text/plain": [
       "<Figure size 432x288 with 1 Axes>"
      ]
     },
     "metadata": {},
     "output_type": "display_data"
    }
   ],
   "source": [
    "plt.style.use('seaborn-whitegrid')\n",
    "\n",
    "df9.plot(style='-o', rot=45)"
   ]
  },
  {
   "cell_type": "code",
   "execution_count": 27,
   "id": "cc7ce0f5",
   "metadata": {},
   "outputs": [
    {
     "data": {
      "text/plain": [
       "<AxesSubplot:>"
      ]
     },
     "execution_count": 27,
     "metadata": {},
     "output_type": "execute_result"
    },
    {
     "data": {
      "image/png": "[encoded data removed]",
      "text/plain": [
       "<Figure size 432x288 with 1 Axes>"
      ]
     },
     "metadata": {},
     "output_type": "display_data"
    }
   ],
   "source": [
    "# Sama pylväinä\n",
    "df9.plot.bar(rot=45)"
   ]
  },
  {
   "cell_type": "markdown",
   "id": "71500b1b",
   "metadata": {},
   "source": [
    "Pylväskaavio ei ole havainnollinen aikasarjojen vertailussa (vertaa viivakaavioon)!"
   ]
  },
  {
   "cell_type": "markdown",
   "id": "50586f8c",
   "metadata": {},
   "source": [
    "## Osa 10 - viivakaavio ja hajontakaavio"
   ]
  },
  {
   "cell_type": "markdown",
   "id": "6baccc34",
   "metadata": {},
   "source": [
    "Pandas-kirjaston **to_datetime**-funktio osaa muuntaa eri tavoin esitettyjä aikatietoja oikeiksi aikaleimoiksi.\n",
    "\n",
    "https://pandas.pydata.org/pandas-docs/stable/reference/api/pandas.to_datetime.html"
   ]
  },
  {
   "cell_type": "code",
   "execution_count": 28,
   "id": "c0ee8e36",
   "metadata": {},
   "outputs": [
    {
     "data": {
      "text/html": [
       "<div>\n",
       "<style scoped>\n",
       "    .dataframe tbody tr th:only-of-type {\n",
       "        vertical-align: middle;\n",
       "    }\n",
       "\n",
       "    .dataframe tbody tr th {\n",
       "        vertical-align: top;\n",
       "    }\n",
       "\n",
       "    .dataframe thead th {\n",
       "        text-align: right;\n",
       "    }\n",
       "</style>\n",
       "<table border=\"1\" class=\"dataframe\">\n",
       "  <thead>\n",
       "    <tr style=\"text-align: right;\">\n",
       "      <th></th>\n",
       "      <th>Kysyntä</th>\n",
       "    </tr>\n",
       "  </thead>\n",
       "  <tbody>\n",
       "    <tr>\n",
       "      <th>2011-06-03</th>\n",
       "      <td>5</td>\n",
       "    </tr>\n",
       "    <tr>\n",
       "      <th>2011-07-03</th>\n",
       "      <td>9</td>\n",
       "    </tr>\n",
       "    <tr>\n",
       "      <th>2011-08-03</th>\n",
       "      <td>8</td>\n",
       "    </tr>\n",
       "    <tr>\n",
       "      <th>2011-09-03</th>\n",
       "      <td>10</td>\n",
       "    </tr>\n",
       "    <tr>\n",
       "      <th>2011-10-03</th>\n",
       "      <td>11</td>\n",
       "    </tr>\n",
       "  </tbody>\n",
       "</table>\n",
       "</div>"
      ],
      "text/plain": [
       "            Kysyntä\n",
       "2011-06-03        5\n",
       "2011-07-03        9\n",
       "2011-08-03        8\n",
       "2011-09-03       10\n",
       "2011-10-03       11"
      ]
     },
     "execution_count": 28,
     "metadata": {},
     "output_type": "execute_result"
    }
   ],
   "source": [
    "# luon dataframen\n",
    "df10a = pd.DataFrame({'Kysyntä':[5, 9, 8, 10, 11]})\n",
    "df10a.index = pd.to_datetime(['6.3.2011', '7.3.2011', '8.3.2011', '9.3.2011', '10.3.2011'])\n",
    "df10a"
   ]
  },
  {
   "cell_type": "code",
   "execution_count": 29,
   "id": "e84a433a",
   "metadata": {},
   "outputs": [
    {
     "data": {
      "text/plain": [
       "<AxesSubplot:>"
      ]
     },
     "execution_count": 29,
     "metadata": {},
     "output_type": "execute_result"
    },
    {
     "data": {
      "image/png": "[encoded data removed]",
      "text/plain": [
       "<Figure size 432x288 with 1 Axes>"
      ]
     },
     "metadata": {},
     "output_type": "display_data"
    }
   ],
   "source": [
    "df10a['Kysyntä'].plot(style='-o', rot=45)"
   ]
  },
  {
   "cell_type": "code",
   "execution_count": 30,
   "id": "6f6f1818",
   "metadata": {},
   "outputs": [
    {
     "data": {
      "text/html": [
       "<div>\n",
       "<style scoped>\n",
       "    .dataframe tbody tr th:only-of-type {\n",
       "        vertical-align: middle;\n",
       "    }\n",
       "\n",
       "    .dataframe tbody tr th {\n",
       "        vertical-align: top;\n",
       "    }\n",
       "\n",
       "    .dataframe thead th {\n",
       "        text-align: right;\n",
       "    }\n",
       "</style>\n",
       "<table border=\"1\" class=\"dataframe\">\n",
       "  <thead>\n",
       "    <tr style=\"text-align: right;\">\n",
       "      <th></th>\n",
       "      <th>Joukkoliikenne</th>\n",
       "      <th>Henkilöauto</th>\n",
       "    </tr>\n",
       "  </thead>\n",
       "  <tbody>\n",
       "    <tr>\n",
       "      <th>1980-01-01</th>\n",
       "      <td>12.5</td>\n",
       "      <td>34.8</td>\n",
       "    </tr>\n",
       "    <tr>\n",
       "      <th>1990-01-01</th>\n",
       "      <td>13.3</td>\n",
       "      <td>51.2</td>\n",
       "    </tr>\n",
       "    <tr>\n",
       "      <th>2000-01-01</th>\n",
       "      <td>13.1</td>\n",
       "      <td>55.7</td>\n",
       "    </tr>\n",
       "    <tr>\n",
       "      <th>2001-01-01</th>\n",
       "      <td>12.9</td>\n",
       "      <td>57.0</td>\n",
       "    </tr>\n",
       "    <tr>\n",
       "      <th>2002-01-01</th>\n",
       "      <td>12.8</td>\n",
       "      <td>58.3</td>\n",
       "    </tr>\n",
       "    <tr>\n",
       "      <th>2003-01-01</th>\n",
       "      <td>12.8</td>\n",
       "      <td>59.6</td>\n",
       "    </tr>\n",
       "    <tr>\n",
       "      <th>2004-01-01</th>\n",
       "      <td>12.9</td>\n",
       "      <td>60.9</td>\n",
       "    </tr>\n",
       "    <tr>\n",
       "      <th>2005-01-01</th>\n",
       "      <td>13.0</td>\n",
       "      <td>61.9</td>\n",
       "    </tr>\n",
       "    <tr>\n",
       "      <th>2006-01-01</th>\n",
       "      <td>13.1</td>\n",
       "      <td>62.5</td>\n",
       "    </tr>\n",
       "    <tr>\n",
       "      <th>2007-01-01</th>\n",
       "      <td>13.3</td>\n",
       "      <td>63.8</td>\n",
       "    </tr>\n",
       "    <tr>\n",
       "      <th>2008-01-01</th>\n",
       "      <td>13.6</td>\n",
       "      <td>63.4</td>\n",
       "    </tr>\n",
       "    <tr>\n",
       "      <th>2009-01-01</th>\n",
       "      <td>13.2</td>\n",
       "      <td>64.3</td>\n",
       "    </tr>\n",
       "  </tbody>\n",
       "</table>\n",
       "</div>"
      ],
      "text/plain": [
       "            Joukkoliikenne  Henkilöauto\n",
       "1980-01-01            12.5         34.8\n",
       "1990-01-01            13.3         51.2\n",
       "2000-01-01            13.1         55.7\n",
       "2001-01-01            12.9         57.0\n",
       "2002-01-01            12.8         58.3\n",
       "2003-01-01            12.8         59.6\n",
       "2004-01-01            12.9         60.9\n",
       "2005-01-01            13.0         61.9\n",
       "2006-01-01            13.1         62.5\n",
       "2007-01-01            13.3         63.8\n",
       "2008-01-01            13.6         63.4\n",
       "2009-01-01            13.2         64.3"
      ]
     },
     "execution_count": 30,
     "metadata": {},
     "output_type": "execute_result"
    }
   ],
   "source": [
    "# Luon dataframen\n",
    "df10b = pd.DataFrame({'Joukkoliikenne':[12.5, 13.3, 13.1, 12.9, 12.8, 12.8, 12.9, 13.0, 13.1, 13.3, 13.6, 13.2],\n",
    "                      'Henkilöauto':[34.8, 51.2, 55.7, 57.0, 58.3, 59.6, 60.9, 61.9, 62.5, 63.8, 63.4, 64.3]})\n",
    "df10b.index = pd.to_datetime(['1980','1990','2000','2001','2002','2003','2004',\n",
    "                              '2005','2006','2007','2008','2009'], format='%Y')\n",
    "df10b"
   ]
  },
  {
   "cell_type": "markdown",
   "id": "32223960",
   "metadata": {},
   "source": [
    "Huomaa, että alkupäässä havaintojen väli on eri mittainen kuin loppupäässä."
   ]
  },
  {
   "cell_type": "code",
   "execution_count": 31,
   "id": "68da3287",
   "metadata": {},
   "outputs": [
    {
     "data": {
      "text/plain": [
       "(0.0, 70.0)"
      ]
     },
     "execution_count": 31,
     "metadata": {},
     "output_type": "execute_result"
    },
    {
     "data": {
      "image/png": "[encoded data removed]",
      "text/plain": [
       "<Figure size 864x432 with 1 Axes>"
      ]
     },
     "metadata": {},
     "output_type": "display_data"
    }
   ],
   "source": [
    "df10b.plot(style='-o', legend='reverse', rot=45, figsize=(12, 6))\n",
    "\n",
    "plt.xticks(df10b.index)\n",
    "\n",
    "plt.ylim(0, 70)"
   ]
  },
  {
   "cell_type": "code",
   "execution_count": 32,
   "id": "cca5747a",
   "metadata": {},
   "outputs": [
    {
     "data": {
      "text/html": [
       "<div>\n",
       "<style scoped>\n",
       "    .dataframe tbody tr th:only-of-type {\n",
       "        vertical-align: middle;\n",
       "    }\n",
       "\n",
       "    .dataframe tbody tr th {\n",
       "        vertical-align: top;\n",
       "    }\n",
       "\n",
       "    .dataframe thead th {\n",
       "        text-align: right;\n",
       "    }\n",
       "</style>\n",
       "<table border=\"1\" class=\"dataframe\">\n",
       "  <thead>\n",
       "    <tr style=\"text-align: right;\">\n",
       "      <th></th>\n",
       "      <th>Markkinointi (10000 euroa)</th>\n",
       "      <th>Liikevaihto (miljoonaa euroa)</th>\n",
       "    </tr>\n",
       "  </thead>\n",
       "  <tbody>\n",
       "    <tr>\n",
       "      <th>0</th>\n",
       "      <td>72.9</td>\n",
       "      <td>23.2</td>\n",
       "    </tr>\n",
       "    <tr>\n",
       "      <th>1</th>\n",
       "      <td>77.3</td>\n",
       "      <td>29.2</td>\n",
       "    </tr>\n",
       "    <tr>\n",
       "      <th>2</th>\n",
       "      <td>78.0</td>\n",
       "      <td>35.4</td>\n",
       "    </tr>\n",
       "    <tr>\n",
       "      <th>3</th>\n",
       "      <td>82.9</td>\n",
       "      <td>34.7</td>\n",
       "    </tr>\n",
       "    <tr>\n",
       "      <th>4</th>\n",
       "      <td>89.5</td>\n",
       "      <td>39.8</td>\n",
       "    </tr>\n",
       "    <tr>\n",
       "      <th>5</th>\n",
       "      <td>96.3</td>\n",
       "      <td>45.6</td>\n",
       "    </tr>\n",
       "    <tr>\n",
       "      <th>6</th>\n",
       "      <td>99.1</td>\n",
       "      <td>50.2</td>\n",
       "    </tr>\n",
       "    <tr>\n",
       "      <th>7</th>\n",
       "      <td>102.3</td>\n",
       "      <td>55.0</td>\n",
       "    </tr>\n",
       "    <tr>\n",
       "      <th>8</th>\n",
       "      <td>105.0</td>\n",
       "      <td>53.8</td>\n",
       "    </tr>\n",
       "    <tr>\n",
       "      <th>9</th>\n",
       "      <td>103.9</td>\n",
       "      <td>56.7</td>\n",
       "    </tr>\n",
       "    <tr>\n",
       "      <th>10</th>\n",
       "      <td>111.7</td>\n",
       "      <td>58.9</td>\n",
       "    </tr>\n",
       "    <tr>\n",
       "      <th>11</th>\n",
       "      <td>126.3</td>\n",
       "      <td>64.4</td>\n",
       "    </tr>\n",
       "  </tbody>\n",
       "</table>\n",
       "</div>"
      ],
      "text/plain": [
       "    Markkinointi (10000 euroa)  Liikevaihto (miljoonaa euroa)\n",
       "0                         72.9                           23.2\n",
       "1                         77.3                           29.2\n",
       "2                         78.0                           35.4\n",
       "3                         82.9                           34.7\n",
       "4                         89.5                           39.8\n",
       "5                         96.3                           45.6\n",
       "6                         99.1                           50.2\n",
       "7                        102.3                           55.0\n",
       "8                        105.0                           53.8\n",
       "9                        103.9                           56.7\n",
       "10                       111.7                           58.9\n",
       "11                       126.3                           64.4"
      ]
     },
     "execution_count": 32,
     "metadata": {},
     "output_type": "execute_result"
    }
   ],
   "source": [
    "# Luon dataframen\n",
    "df10c = pd.DataFrame({'Markkinointi (10000 euroa)':[72.9, 77.3, 78.0, 82.9, 89.5, 96.3, \n",
    "                                                    99.1, 102.3, 105.0, 103.9, 111.7, 126.3],\n",
    "                      'Liikevaihto (miljoonaa euroa)':[23.2, 29.2, 35.4, 34.7, 39.8, 45.6,\n",
    "                                                       50.2, 55.0, 53.8, 56.7, 58.9, 64.4]})\n",
    "df10c"
   ]
  },
  {
   "cell_type": "code",
   "execution_count": 33,
   "id": "9c93c6cf",
   "metadata": {},
   "outputs": [
    {
     "data": {
      "text/plain": [
       "<AxesSubplot:xlabel='Markkinointi (10000 euroa)', ylabel='Liikevaihto (miljoonaa euroa)'>"
      ]
     },
     "execution_count": 33,
     "metadata": {},
     "output_type": "execute_result"
    },
    {
     "data": {
      "image/png": "[encoded data removed]",
      "text/plain": [
       "<Figure size 432x288 with 1 Axes>"
      ]
     },
     "metadata": {},
     "output_type": "display_data"
    }
   ],
   "source": [
    "# Hajontakaavio\n",
    "df10c.plot.scatter('Markkinointi (10000 euroa)', 'Liikevaihto (miljoonaa euroa)')"
   ]
  }
 ],
 "metadata": {
  "kernelspec": {
   "display_name": "Python 3 (ipykernel)",
   "language": "python",
   "name": "python3"
  },
  "language_info": {
   "codemirror_mode": {
    "name": "ipython",
    "version": 3
   },
   "file_extension": ".py",
   "mimetype": "text/x-python",
   "name": "python",
   "nbconvert_exporter": "python",
   "pygments_lexer": "ipython3",
   "version": "3.9.7"
  }
 },
 "nbformat": 4,
 "nbformat_minor": 5
}
