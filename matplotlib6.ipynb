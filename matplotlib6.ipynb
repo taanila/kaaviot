{
 "cells": [
  {
   "cell_type": "code",
   "execution_count": 1,
   "metadata": {},
   "outputs": [
    {
     "name": "stdout",
     "output_type": "stream",
     "text": [
      "Päivitetty 2022-03-16 13:00:13.590522\n"
     ]
    }
   ],
   "source": [
    "from datetime import datetime\n",
    "print(f'Päivitetty {datetime.now()}')"
   ]
  },
  {
   "cell_type": "markdown",
   "metadata": {},
   "source": [
    "# Matplotlib 6 - kahden arvoakselin kaavio\n",
    "\n",
    "Tämä on jatkoa sarjan edellisille osille\n",
    "\n",
    "https://nbviewer.jupyter.org/github/taanila/kaaviot/blob/master/matplotlib1.ipynb\n",
    "\n",
    "https://nbviewer.jupyter.org/github/taanila/kaaviot/blob/master/matplotlib2.ipynb\n",
    "\n",
    "https://nbviewer.jupyter.org/github/taanila/kaaviot/blob/master/matplotlib3.ipynb\n",
    "\n",
    "https://nbviewer.jupyter.org/github/taanila/kaaviot/blob/master/matplotlib4.ipynb\n",
    "\n",
    "https://nbviewer.jupyter.org/github/taanila/kaaviot/blob/master/matplotlib5.ipynb\n",
    "\n",
    "Jos esitettävät arvosarjat ovat eri suuruusluokkaa, niin kahden arvoakselin käyttö on paikallaan (kummallekin arvosarjalle oma arvoakseli)."
   ]
  },
  {
   "cell_type": "code",
   "execution_count": 2,
   "metadata": {},
   "outputs": [],
   "source": [
    "import pandas as pd\n",
    "import matplotlib.pyplot as plt\n",
    "\n",
    "plt.style.use('seaborn-white')"
   ]
  },
  {
   "cell_type": "code",
   "execution_count": 3,
   "metadata": {},
   "outputs": [
    {
     "data": {
      "text/html": [
       "<div>\n",
       "<style scoped>\n",
       "    .dataframe tbody tr th:only-of-type {\n",
       "        vertical-align: middle;\n",
       "    }\n",
       "\n",
       "    .dataframe tbody tr th {\n",
       "        vertical-align: top;\n",
       "    }\n",
       "\n",
       "    .dataframe thead th {\n",
       "        text-align: right;\n",
       "    }\n",
       "</style>\n",
       "<table border=\"1\" class=\"dataframe\">\n",
       "  <thead>\n",
       "    <tr style=\"text-align: right;\">\n",
       "      <th></th>\n",
       "      <th>Indeksi</th>\n",
       "      <th>Myynti</th>\n",
       "    </tr>\n",
       "  </thead>\n",
       "  <tbody>\n",
       "    <tr>\n",
       "      <th>1980</th>\n",
       "      <td>85</td>\n",
       "      <td>307954</td>\n",
       "    </tr>\n",
       "    <tr>\n",
       "      <th>1981</th>\n",
       "      <td>83</td>\n",
       "      <td>566829</td>\n",
       "    </tr>\n",
       "    <tr>\n",
       "      <th>1982</th>\n",
       "      <td>116</td>\n",
       "      <td>1241391</td>\n",
       "    </tr>\n",
       "    <tr>\n",
       "      <th>1983</th>\n",
       "      <td>144</td>\n",
       "      <td>2109871</td>\n",
       "    </tr>\n",
       "    <tr>\n",
       "      <th>1984</th>\n",
       "      <td>193</td>\n",
       "      <td>3009299</td>\n",
       "    </tr>\n",
       "    <tr>\n",
       "      <th>1985</th>\n",
       "      <td>184</td>\n",
       "      <td>9184649</td>\n",
       "    </tr>\n",
       "    <tr>\n",
       "      <th>1986</th>\n",
       "      <td>254</td>\n",
       "      <td>24933405</td>\n",
       "    </tr>\n",
       "    <tr>\n",
       "      <th>1987</th>\n",
       "      <td>320</td>\n",
       "      <td>29726136</td>\n",
       "    </tr>\n",
       "    <tr>\n",
       "      <th>1988</th>\n",
       "      <td>405</td>\n",
       "      <td>31719819</td>\n",
       "    </tr>\n",
       "    <tr>\n",
       "      <th>1989</th>\n",
       "      <td>442</td>\n",
       "      <td>15343617</td>\n",
       "    </tr>\n",
       "    <tr>\n",
       "      <th>1990</th>\n",
       "      <td>284</td>\n",
       "      <td>6318198</td>\n",
       "    </tr>\n",
       "  </tbody>\n",
       "</table>\n",
       "</div>"
      ],
      "text/plain": [
       "      Indeksi    Myynti\n",
       "1980       85    307954\n",
       "1981       83    566829\n",
       "1982      116   1241391\n",
       "1983      144   2109871\n",
       "1984      193   3009299\n",
       "1985      184   9184649\n",
       "1986      254  24933405\n",
       "1987      320  29726136\n",
       "1988      405  31719819\n",
       "1989      442  15343617\n",
       "1990      284   6318198"
      ]
     },
     "execution_count": 3,
     "metadata": {},
     "output_type": "execute_result"
    }
   ],
   "source": [
    "# Luon dataframen Helsingin pörssin kehityksestä vuosina 1980 - 1990\n",
    "df = pd.DataFrame({'Indeksi':[85,83,116,144,193,184,254,320,405,442,284],\n",
    "                 'Myynti':[307954,566829,1241391,2109871,3009299,9184649,24933405,29726136,31719819,15343617,6318198]},\n",
    "                 index=['1980','1981','1982','1983','1984','1985','1986','1987','1988','1989','1990'])\n",
    "df"
   ]
  },
  {
   "cell_type": "markdown",
   "metadata": {},
   "source": [
    "Ensimmäisen arvosarjan osalta kaavion voi tehdä normaalisti. Toista arvosarjaa varten luon **twinx**-toiminnolla kaavion, jolla on oma arvoakseli, mutta yhteinen x-akseli ensimmäisen arvosarjan kanssa."
   ]
  },
  {
   "cell_type": "code",
   "execution_count": 4,
   "metadata": {},
   "outputs": [
    {
     "data": {
      "image/png": "[encoded data removed]",
      "text/plain": [
       "<Figure size 720x432 with 2 Axes>"
      ]
     },
     "metadata": {},
     "output_type": "display_data"
    }
   ],
   "source": [
    "# Indeksi viivakaaviona\n",
    "df['Indeksi'].plot(color='C0', figsize=(10, 6))\n",
    "\n",
    "# Indeksille ja sen akselille käytössä olevien värien ensimmäinen väri 'C0'\n",
    "plt.ylabel('Indeksi', color='C0')\n",
    "\n",
    "# Jakoviivoille väri 'C0'\n",
    "plt.tick_params(axis='y', labelcolor='C0')\n",
    "\n",
    "# Toinen kaavio, jolla on oma arvoakseli, mutta yhteinen x-akseli indeksin kanssa\n",
    "plt.twinx()\n",
    "\n",
    "# Myynnille ja sen akselille käytössä olevien värien toinen väri 'C1'\n",
    "plt.ylabel('Myynti miljoonaa euroa', color='C1')\n",
    "\n",
    "# Myynti pylväinä\n",
    "(df['Myynti'] / 1000000).plot.bar(color='C1')\n",
    "\n",
    "# Jakoviivoille väri 'C1'\n",
    "plt.tick_params(axis='y', labelcolor='C1')"
   ]
  },
  {
   "cell_type": "markdown",
   "metadata": {},
   "source": [
    "## Lisätietoa\n",
    "\n",
    "Seuraava osa https://nbviewer.jupyter.org/github/taanila/kaaviot/blob/master/matplotlib7.ipynb käsittelee usean kaavion sijoittamista samaan kuvioon"
   ]
  }
 ],
 "metadata": {
  "kernelspec": {
   "display_name": "Python 3 (ipykernel)",
   "language": "python",
   "name": "python3"
  },
  "language_info": {
   "codemirror_mode": {
    "name": "ipython",
    "version": 3
   },
   "file_extension": ".py",
   "mimetype": "text/x-python",
   "name": "python",
   "nbconvert_exporter": "python",
   "pygments_lexer": "ipython3",
   "version": "3.9.7"
  }
 },
 "nbformat": 4,
 "nbformat_minor": 2
}
