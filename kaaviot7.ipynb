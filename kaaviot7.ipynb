{
 "cells": [
  {
   "cell_type": "code",
   "execution_count": 1,
   "metadata": {},
   "outputs": [],
   "source": [
    "import pandas as pd\n",
    "import matplotlib.pyplot as plt\n",
    "%matplotlib inline"
   ]
  },
  {
   "cell_type": "markdown",
   "metadata": {},
   "source": [
    "<h2>Pylväskaavioita</h2>"
   ]
  },
  {
   "cell_type": "code",
   "execution_count": 2,
   "metadata": {},
   "outputs": [
    {
     "data": {
      "text/html": [
       "<div>\n",
       "<style scoped>\n",
       "    .dataframe tbody tr th:only-of-type {\n",
       "        vertical-align: middle;\n",
       "    }\n",
       "\n",
       "    .dataframe tbody tr th {\n",
       "        vertical-align: top;\n",
       "    }\n",
       "\n",
       "    .dataframe thead th {\n",
       "        text-align: right;\n",
       "    }\n",
       "</style>\n",
       "<table border=\"1\" class=\"dataframe\">\n",
       "  <thead>\n",
       "    <tr style=\"text-align: right;\">\n",
       "      <th></th>\n",
       "      <th>2008</th>\n",
       "      <th>2009</th>\n",
       "      <th>2010</th>\n",
       "    </tr>\n",
       "  </thead>\n",
       "  <tbody>\n",
       "    <tr>\n",
       "      <th>I</th>\n",
       "      <td>250</td>\n",
       "      <td>260</td>\n",
       "      <td>270</td>\n",
       "    </tr>\n",
       "    <tr>\n",
       "      <th>II</th>\n",
       "      <td>350</td>\n",
       "      <td>300</td>\n",
       "      <td>310</td>\n",
       "    </tr>\n",
       "    <tr>\n",
       "      <th>III</th>\n",
       "      <td>100</td>\n",
       "      <td>200</td>\n",
       "      <td>240</td>\n",
       "    </tr>\n",
       "    <tr>\n",
       "      <th>IV</th>\n",
       "      <td>140</td>\n",
       "      <td>120</td>\n",
       "      <td>140</td>\n",
       "    </tr>\n",
       "  </tbody>\n",
       "</table>\n",
       "</div>"
      ],
      "text/plain": [
       "     2008  2009  2010\n",
       "I     250   260   270\n",
       "II    350   300   310\n",
       "III   100   200   240\n",
       "IV    140   120   140"
      ]
     },
     "execution_count": 2,
     "metadata": {},
     "output_type": "execute_result"
    }
   ],
   "source": [
    "df = pd.DataFrame({'2008':[250,350,100,140],\n",
    "                   '2009':[260,300,200,120],\n",
    "                   '2010':[270,310,240,140]},\n",
    "                  index=['I','II','III','IV'])\n",
    "df"
   ]
  },
  {
   "cell_type": "code",
   "execution_count": 3,
   "metadata": {},
   "outputs": [
    {
     "data": {
      "text/plain": [
       "<matplotlib.legend.Legend at 0x17e48493780>"
      ]
     },
     "execution_count": 3,
     "metadata": {},
     "output_type": "execute_result"
    },
    {
     "data": {
      "image/png": "[encoded data removed]",
      "text/plain": [
       "<Figure size 432x288 with 1 Axes>"
      ]
     },
     "metadata": {
      "needs_background": "light"
     },
     "output_type": "display_data"
    }
   ],
   "source": [
    "ax1 = df.plot.bar()\n",
    "\n",
    "ax1.set_xlabel('Vuosineljännes')\n",
    "ax1.set_ylabel('Myynti miljoonaa euroa')\n",
    "\n",
    "#Vaaka-akselin nimiöiden kääntämäinen ja ylimääräisten asteikkoviivojen poistaminen\n",
    "ax1.tick_params(axis='x', labelrotation=0, length=0)\n",
    "\n",
    "#Vaakasuuntainen taustaviivoitus\n",
    "ax1.grid(axis='y')\n",
    "\n",
    "#Taustaviivoitus pylväiden taakse\n",
    "ax1.set_axisbelow(True)\n",
    "\n",
    "#Selitteen paikan säätäminen on konstikasta\n",
    "ax1.legend(loc='lower center', bbox_to_anchor=(0.5, -0.25), ncol=3)"
   ]
  },
  {
   "cell_type": "markdown",
   "metadata": {},
   "source": [
    "Seuraavassa vaihdan arvosarjat ja luokat päittäin:"
   ]
  },
  {
   "cell_type": "code",
   "execution_count": 4,
   "metadata": {},
   "outputs": [
    {
     "data": {
      "text/plain": [
       "<matplotlib.legend.Legend at 0x17e4874ea90>"
      ]
     },
     "execution_count": 4,
     "metadata": {},
     "output_type": "execute_result"
    },
    {
     "data": {
      "image/png": "[encoded data removed]",
      "text/plain": [
       "<Figure size 432x288 with 1 Axes>"
      ]
     },
     "metadata": {
      "needs_background": "light"
     },
     "output_type": "display_data"
    }
   ],
   "source": [
    "ax2 = df.T.plot.bar()\n",
    "\n",
    "ax2.set_xlabel('Vuosi')\n",
    "ax2.set_ylabel('Myynti miljoonaa euroa')\n",
    "\n",
    "#Vaaka-akselin nimiöiden kääntämäinen ja ylimääräisten asteikkoviivojen poistaminen\n",
    "ax2.tick_params(axis='x', labelrotation=0, length=0)\n",
    "\n",
    "#Vaakasuuntainen taustaviivoitus\n",
    "ax2.grid(axis='y')\n",
    "\n",
    "#Taustaviivoitus pylväiden taakse\n",
    "ax2.set_axisbelow(True)\n",
    "\n",
    "#Selitteen paikan säätäminen on konstikasta\n",
    "ax2.legend(loc='lower center', bbox_to_anchor=(0.5, -0.25), ncol=4)"
   ]
  }
 ],
 "metadata": {
  "kernelspec": {
   "display_name": "Python 3",
   "language": "python",
   "name": "python3"
  },
  "language_info": {
   "codemirror_mode": {
    "name": "ipython",
    "version": 3
   },
   "file_extension": ".py",
   "mimetype": "text/x-python",
   "name": "python",
   "nbconvert_exporter": "python",
   "pygments_lexer": "ipython3",
   "version": "3.7.3"
  }
 },
 "nbformat": 4,
 "nbformat_minor": 2
}
