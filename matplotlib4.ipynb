{
 "cells": [
  {
   "cell_type": "code",
   "execution_count": 1,
   "metadata": {},
   "outputs": [
    {
     "name": "stdout",
     "output_type": "stream",
     "text": [
      "Päivitetty 2022-05-25 15:19:20.827459\n"
     ]
    }
   ],
   "source": [
    "from datetime import datetime\n",
    "print(f'Päivitetty {datetime.now()}')"
   ]
  },
  {
   "cell_type": "markdown",
   "metadata": {},
   "source": [
    "<h1>Matplolib - osa 4</h1>\n",
    "<h2>Värien ja värikarttojen käyttö</h2>\n",
    "\n",
    "Tämä on jatkoa sarjan edellisille osille\n",
    "\n",
    "https://nbviewer.jupyter.org/github/taanila/kaaviot/blob/master/matplotlib1.ipynb\n",
    "\n",
    "https://nbviewer.jupyter.org/github/taanila/kaaviot/blob/master/matplotlib2.ipynb\n",
    "\n",
    "https://nbviewer.jupyter.org/github/taanila/kaaviot/blob/master/matplotlib3.ipynb\n",
    "\n",
    "Värien vaihto on helppoa matplotlib-grafiikassa. Värejä voi vaihtaa yksi kerrallaan värin nimen, RGB-koodin tai HEX-koodin mukaan.\n",
    "\n",
    "Värien nimiä https://matplotlib.org/3.1.0/gallery/color/named_colors.html\n",
    "\n",
    "Värien koodeja https://www.w3schools.com/colors/colors_picker.asp\n",
    "\n",
    "Nykyisessä versiossa oletusvärit määritellään HEX-koodeina: https://matplotlib.org/users/dflt_style_changes.html#colors-color-cycles-and-color-maps. Esimerkiksi pylväskaaviossa ensimmäinen arvosarja esitetään ensimmäisen värin mukaisesti, toinen arvosarja toisen värin mukaisesesti jne. HEX-koodin sijasta oletusväreihin voi viitata lyhyemmin 'C0', 'C1', 'C2' jne.\n",
    "\n",
    "Seuraavassa käytän esimerkkinä 5-portaisella asteikolla mitattuja tyytyväisyyksiä johtoon, työtovereihin, työympäristöön, palkkaan ja työtehtäviin. Laadin ensin prosenttitaulukon, johon on koottuna vastaukset prosentteina ja kuvaan ne pinottuna pylväskaaviona. Kaavioiden muotoiluun en tässä kiinnitä huomiota, vaan keskityn väreihin."
   ]
  },
  {
   "cell_type": "code",
   "execution_count": 2,
   "metadata": {},
   "outputs": [],
   "source": [
    "import numpy as np\n",
    "import pandas as pd\n",
    "import matplotlib.pyplot as plt"
   ]
  },
  {
   "cell_type": "code",
   "execution_count": 3,
   "metadata": {},
   "outputs": [
    {
     "data": {
      "text/html": [
       "<div>\n",
       "<style scoped>\n",
       "    .dataframe tbody tr th:only-of-type {\n",
       "        vertical-align: middle;\n",
       "    }\n",
       "\n",
       "    .dataframe tbody tr th {\n",
       "        vertical-align: top;\n",
       "    }\n",
       "\n",
       "    .dataframe thead th {\n",
       "        text-align: right;\n",
       "    }\n",
       "</style>\n",
       "<table border=\"1\" class=\"dataframe\">\n",
       "  <thead>\n",
       "    <tr style=\"text-align: right;\">\n",
       "      <th></th>\n",
       "      <th>nro</th>\n",
       "      <th>sukup</th>\n",
       "      <th>ikä</th>\n",
       "      <th>perhe</th>\n",
       "      <th>koulutus</th>\n",
       "      <th>palveluv</th>\n",
       "      <th>palkka</th>\n",
       "      <th>johto</th>\n",
       "      <th>työtov</th>\n",
       "      <th>työymp</th>\n",
       "      <th>palkkat</th>\n",
       "      <th>työteht</th>\n",
       "      <th>työterv</th>\n",
       "      <th>lomaosa</th>\n",
       "      <th>kuntosa</th>\n",
       "      <th>hieroja</th>\n",
       "    </tr>\n",
       "  </thead>\n",
       "  <tbody>\n",
       "    <tr>\n",
       "      <th>0</th>\n",
       "      <td>1</td>\n",
       "      <td>1</td>\n",
       "      <td>38</td>\n",
       "      <td>1</td>\n",
       "      <td>1.0</td>\n",
       "      <td>22.0</td>\n",
       "      <td>3587</td>\n",
       "      <td>3</td>\n",
       "      <td>3.0</td>\n",
       "      <td>3</td>\n",
       "      <td>3</td>\n",
       "      <td>3</td>\n",
       "      <td>NaN</td>\n",
       "      <td>NaN</td>\n",
       "      <td>NaN</td>\n",
       "      <td>NaN</td>\n",
       "    </tr>\n",
       "    <tr>\n",
       "      <th>1</th>\n",
       "      <td>2</td>\n",
       "      <td>1</td>\n",
       "      <td>29</td>\n",
       "      <td>2</td>\n",
       "      <td>2.0</td>\n",
       "      <td>10.0</td>\n",
       "      <td>2963</td>\n",
       "      <td>1</td>\n",
       "      <td>5.0</td>\n",
       "      <td>2</td>\n",
       "      <td>1</td>\n",
       "      <td>3</td>\n",
       "      <td>NaN</td>\n",
       "      <td>NaN</td>\n",
       "      <td>NaN</td>\n",
       "      <td>NaN</td>\n",
       "    </tr>\n",
       "    <tr>\n",
       "      <th>2</th>\n",
       "      <td>3</td>\n",
       "      <td>1</td>\n",
       "      <td>30</td>\n",
       "      <td>1</td>\n",
       "      <td>1.0</td>\n",
       "      <td>7.0</td>\n",
       "      <td>1989</td>\n",
       "      <td>3</td>\n",
       "      <td>4.0</td>\n",
       "      <td>1</td>\n",
       "      <td>1</td>\n",
       "      <td>3</td>\n",
       "      <td>1.0</td>\n",
       "      <td>NaN</td>\n",
       "      <td>NaN</td>\n",
       "      <td>NaN</td>\n",
       "    </tr>\n",
       "    <tr>\n",
       "      <th>3</th>\n",
       "      <td>4</td>\n",
       "      <td>1</td>\n",
       "      <td>36</td>\n",
       "      <td>2</td>\n",
       "      <td>1.0</td>\n",
       "      <td>14.0</td>\n",
       "      <td>2144</td>\n",
       "      <td>3</td>\n",
       "      <td>3.0</td>\n",
       "      <td>3</td>\n",
       "      <td>3</td>\n",
       "      <td>3</td>\n",
       "      <td>1.0</td>\n",
       "      <td>NaN</td>\n",
       "      <td>NaN</td>\n",
       "      <td>NaN</td>\n",
       "    </tr>\n",
       "    <tr>\n",
       "      <th>4</th>\n",
       "      <td>5</td>\n",
       "      <td>1</td>\n",
       "      <td>24</td>\n",
       "      <td>1</td>\n",
       "      <td>2.0</td>\n",
       "      <td>4.0</td>\n",
       "      <td>2183</td>\n",
       "      <td>2</td>\n",
       "      <td>3.0</td>\n",
       "      <td>2</td>\n",
       "      <td>1</td>\n",
       "      <td>2</td>\n",
       "      <td>1.0</td>\n",
       "      <td>NaN</td>\n",
       "      <td>NaN</td>\n",
       "      <td>NaN</td>\n",
       "    </tr>\n",
       "  </tbody>\n",
       "</table>\n",
       "</div>"
      ],
      "text/plain": [
       "   nro  sukup  ikä  perhe  koulutus  palveluv  palkka  johto  työtov  työymp  \\\n",
       "0    1      1   38      1       1.0      22.0    3587      3     3.0       3   \n",
       "1    2      1   29      2       2.0      10.0    2963      1     5.0       2   \n",
       "2    3      1   30      1       1.0       7.0    1989      3     4.0       1   \n",
       "3    4      1   36      2       1.0      14.0    2144      3     3.0       3   \n",
       "4    5      1   24      1       2.0       4.0    2183      2     3.0       2   \n",
       "\n",
       "   palkkat  työteht  työterv  lomaosa  kuntosa  hieroja  \n",
       "0        3        3      NaN      NaN      NaN      NaN  \n",
       "1        1        3      NaN      NaN      NaN      NaN  \n",
       "2        1        3      1.0      NaN      NaN      NaN  \n",
       "3        3        3      1.0      NaN      NaN      NaN  \n",
       "4        1        2      1.0      NaN      NaN      NaN  "
      ]
     },
     "execution_count": 3,
     "metadata": {},
     "output_type": "execute_result"
    }
   ],
   "source": [
    "df = pd.read_excel('https://taanila.fi/data1.xlsx')\n",
    "df.head()"
   ]
  },
  {
   "cell_type": "code",
   "execution_count": 4,
   "metadata": {},
   "outputs": [
    {
     "data": {
      "text/html": [
       "<div>\n",
       "<style scoped>\n",
       "    .dataframe tbody tr th:only-of-type {\n",
       "        vertical-align: middle;\n",
       "    }\n",
       "\n",
       "    .dataframe tbody tr th {\n",
       "        vertical-align: top;\n",
       "    }\n",
       "\n",
       "    .dataframe thead th {\n",
       "        text-align: right;\n",
       "    }\n",
       "</style>\n",
       "<table border=\"1\" class=\"dataframe\">\n",
       "  <thead>\n",
       "    <tr style=\"text-align: right;\">\n",
       "      <th></th>\n",
       "      <th>Erittäin tyytymätön</th>\n",
       "      <th>Jokseenkin tyytymätön</th>\n",
       "      <th>Ei tyytymätön eikä tyytyväinen</th>\n",
       "      <th>Jokseenkin tyytyväinen</th>\n",
       "      <th>Erittäin tyytyväinen</th>\n",
       "    </tr>\n",
       "  </thead>\n",
       "  <tbody>\n",
       "    <tr>\n",
       "      <th>johto</th>\n",
       "      <td>36.585366</td>\n",
       "      <td>8.536585</td>\n",
       "      <td>19.512195</td>\n",
       "      <td>28.048780</td>\n",
       "      <td>7.317073</td>\n",
       "    </tr>\n",
       "    <tr>\n",
       "      <th>työtov</th>\n",
       "      <td>19.753086</td>\n",
       "      <td>NaN</td>\n",
       "      <td>3.703704</td>\n",
       "      <td>43.209877</td>\n",
       "      <td>33.333333</td>\n",
       "    </tr>\n",
       "    <tr>\n",
       "      <th>työymp</th>\n",
       "      <td>36.585366</td>\n",
       "      <td>10.975610</td>\n",
       "      <td>10.975610</td>\n",
       "      <td>28.048780</td>\n",
       "      <td>13.414634</td>\n",
       "    </tr>\n",
       "    <tr>\n",
       "      <th>palkkat</th>\n",
       "      <td>23.170732</td>\n",
       "      <td>40.243902</td>\n",
       "      <td>23.170732</td>\n",
       "      <td>12.195122</td>\n",
       "      <td>1.219512</td>\n",
       "    </tr>\n",
       "    <tr>\n",
       "      <th>työteht</th>\n",
       "      <td>35.365854</td>\n",
       "      <td>6.097561</td>\n",
       "      <td>18.292683</td>\n",
       "      <td>30.487805</td>\n",
       "      <td>9.756098</td>\n",
       "    </tr>\n",
       "  </tbody>\n",
       "</table>\n",
       "</div>"
      ],
      "text/plain": [
       "         Erittäin tyytymätön  Jokseenkin tyytymätön  \\\n",
       "johto              36.585366               8.536585   \n",
       "työtov             19.753086                    NaN   \n",
       "työymp             36.585366              10.975610   \n",
       "palkkat            23.170732              40.243902   \n",
       "työteht            35.365854               6.097561   \n",
       "\n",
       "         Ei tyytymätön eikä tyytyväinen  Jokseenkin tyytyväinen  \\\n",
       "johto                         19.512195               28.048780   \n",
       "työtov                         3.703704               43.209877   \n",
       "työymp                        10.975610               28.048780   \n",
       "palkkat                       23.170732               12.195122   \n",
       "työteht                       18.292683               30.487805   \n",
       "\n",
       "         Erittäin tyytyväinen  \n",
       "johto                7.317073  \n",
       "työtov              33.333333  \n",
       "työymp              13.414634  \n",
       "palkkat              1.219512  \n",
       "työteht              9.756098  "
      ]
     },
     "execution_count": 4,
     "metadata": {},
     "output_type": "execute_result"
    }
   ],
   "source": [
    "# Taulukon laskeminen\n",
    "df1 = df['johto'].value_counts(sort = False, normalize = True).to_frame()\n",
    "df1['työtov'] = df['työtov'].value_counts(sort = False, normalize = True)\n",
    "df1['työymp'] = df['työymp'].value_counts(sort = False, normalize = True)\n",
    "df1['palkkat'] = df['palkkat'].value_counts(sort = False, normalize = True)\n",
    "df1['työteht'] = df['työteht'].value_counts(sort = False, normalize = True)\n",
    "df1.index = ['Erittäin tyytymätön', 'Jokseenkin tyytymätön', 'Ei tyytymätön eikä tyytyväinen', \n",
    "               'Jokseenkin tyytyväinen', 'Erittäin tyytyväinen']\n",
    "df1 = df1.T * 100\n",
    "df1"
   ]
  },
  {
   "cell_type": "markdown",
   "metadata": {},
   "source": [
    "<h2>Kaavio oletusväreillä</h2>\n",
    "\n",
    "Jos en määritä värejä, niin käytössä ovat 5 ensimmäistä oletusväriä."
   ]
  },
  {
   "cell_type": "code",
   "execution_count": 5,
   "metadata": {},
   "outputs": [
    {
     "name": "stdout",
     "output_type": "stream",
     "text": [
      "Oletusvärien HEX-koodit:\n",
      " ['#1f77b4', '#ff7f0e', '#2ca02c', '#d62728', '#9467bd', '#8c564b', '#e377c2', '#7f7f7f', '#bcbd22', '#17becf']\n"
     ]
    },
    {
     "data": {
      "text/plain": [
       "Text(0.5, 1.0, 'Viisi ensimmäistä oletusväriä')"
      ]
     },
     "execution_count": 5,
     "metadata": {},
     "output_type": "execute_result"
    },
    {
     "data": {
      "image/png": "[encoded data removed]",
      "text/plain": [
       "<Figure size 432x288 with 1 Axes>"
      ]
     },
     "metadata": {
      "needs_background": "light"
     },
     "output_type": "display_data"
    }
   ],
   "source": [
    "print('Oletusvärien HEX-koodit:\\n', plt.rcParams['axes.prop_cycle'].by_key()['color'])\n",
    "\n",
    "t = np.arange(5)\n",
    "cmap = plt.get_cmap('tab10')\n",
    "for i in range(5):\n",
    "    plt.plot(t, i*(t+1), color=cmap(i), linestyle = '-')\n",
    "    plt.plot(t, i*(t+1)+.3, color=cmap(i), linestyle = ':')\n",
    "plt.title('Viisi ensimmäistä oletusväriä')"
   ]
  },
  {
   "cell_type": "code",
   "execution_count": 6,
   "metadata": {},
   "outputs": [
    {
     "data": {
      "text/plain": [
       "Text(0.5, 1.0, 'Kaavio oletusväreillä')"
      ]
     },
     "execution_count": 6,
     "metadata": {},
     "output_type": "execute_result"
    },
    {
     "data": {
      "image/png": "[encoded data removed]",
      "text/plain": [
       "<Figure size 432x288 with 1 Axes>"
      ]
     },
     "metadata": {
      "needs_background": "light"
     },
     "output_type": "display_data"
    }
   ],
   "source": [
    "df1.plot.barh(stacked = True, width = 0.8, legend = False)\n",
    "plt.title('Kaavio oletusväreillä')"
   ]
  },
  {
   "cell_type": "markdown",
   "metadata": {},
   "source": [
    "<h2>Omat värit listana</h2>\n",
    "\n",
    "Voin määrittää käytettävät värit listana värien nimiä, RGB-koodeja tai HEX-koodeja. "
   ]
  },
  {
   "cell_type": "code",
   "execution_count": 7,
   "metadata": {},
   "outputs": [
    {
     "data": {
      "text/plain": [
       "<AxesSubplot:>"
      ]
     },
     "execution_count": 7,
     "metadata": {},
     "output_type": "execute_result"
    },
    {
     "data": {
      "image/png": "[encoded data removed]",
      "text/plain": [
       "<Figure size 432x288 with 1 Axes>"
      ]
     },
     "metadata": {
      "needs_background": "light"
     },
     "output_type": "display_data"
    }
   ],
   "source": [
    "colors = ['darkred', 'red', 'gray', 'blue', 'darkblue']\n",
    "\n",
    "df1.plot.barh(stacked = True, width = 0.8, legend = False, color = colors)"
   ]
  },
  {
   "cell_type": "markdown",
   "metadata": {},
   "source": [
    "<h2>Värikartan käyttö</h2>\n",
    "\n",
    "Matplotlibin värikarttoja: https://matplotlib.org/tutorials/colors/colormaps.html "
   ]
  },
  {
   "cell_type": "code",
   "execution_count": 8,
   "metadata": {},
   "outputs": [
    {
     "data": {
      "text/plain": [
       "<AxesSubplot:>"
      ]
     },
     "execution_count": 8,
     "metadata": {},
     "output_type": "execute_result"
    },
    {
     "data": {
      "image/png": "[encoded data removed]",
      "text/plain": [
       "<Figure size 432x288 with 1 Axes>"
      ]
     },
     "metadata": {
      "needs_background": "light"
     },
     "output_type": "display_data"
    }
   ],
   "source": [
    "df1.plot.barh(stacked = True, width = 0.8, legend = False, colormap = 'winter')"
   ]
  },
  {
   "cell_type": "code",
   "execution_count": 9,
   "metadata": {},
   "outputs": [
    {
     "data": {
      "text/plain": [
       "<AxesSubplot:>"
      ]
     },
     "execution_count": 9,
     "metadata": {},
     "output_type": "execute_result"
    },
    {
     "data": {
      "image/png": "[encoded data removed]",
      "text/plain": [
       "<Figure size 432x288 with 1 Axes>"
      ]
     },
     "metadata": {
      "needs_background": "light"
     },
     "output_type": "display_data"
    }
   ],
   "source": [
    "df1.plot.barh(stacked = True, width = 0.8, legend = False, colormap = 'coolwarm')"
   ]
  },
  {
   "cell_type": "code",
   "execution_count": 10,
   "metadata": {},
   "outputs": [
    {
     "data": {
      "text/plain": [
       "<AxesSubplot:>"
      ]
     },
     "execution_count": 10,
     "metadata": {},
     "output_type": "execute_result"
    },
    {
     "data": {
      "image/png": "[encoded data removed]",
      "text/plain": [
       "<Figure size 432x288 with 1 Axes>"
      ]
     },
     "metadata": {
      "needs_background": "light"
     },
     "output_type": "display_data"
    }
   ],
   "source": [
    "df1.plot.barh(stacked = True, width = 0.8, legend = False, colormap = 'inferno')"
   ]
  },
  {
   "cell_type": "code",
   "execution_count": 11,
   "metadata": {},
   "outputs": [
    {
     "data": {
      "text/plain": [
       "<AxesSubplot:>"
      ]
     },
     "execution_count": 11,
     "metadata": {},
     "output_type": "execute_result"
    },
    {
     "data": {
      "image/png": "[encoded data removed]",
      "text/plain": [
       "<Figure size 432x288 with 1 Axes>"
      ]
     },
     "metadata": {
      "needs_background": "light"
     },
     "output_type": "display_data"
    }
   ],
   "source": [
    "# Seuraavassa käytän vain kolmea värikartan väriä\n",
    "colors = plt.cm.get_cmap('inferno', 3)\n",
    "\n",
    "df1.plot.barh(stacked = True, width = 0.8, legend = False, colormap = colors)"
   ]
  },
  {
   "cell_type": "markdown",
   "metadata": {},
   "source": [
    "<h2>Värikartan värialueen supistaminen</h2>\n",
    "\n",
    "Esimerkkikaavioissamme värikartasta poimitaan tasaisin välein viisi väriä (tai äskeisessä rajattiin kolmeen väriin). Voin supistaa värikarttaa rajaamalla alkuperäisen värialueen 0 - 1 suppeammaksi, esimerkiksi 0.3 - 0.7."
   ]
  },
  {
   "cell_type": "code",
   "execution_count": 12,
   "metadata": {},
   "outputs": [
    {
     "data": {
      "text/plain": [
       "<AxesSubplot:>"
      ]
     },
     "execution_count": 12,
     "metadata": {},
     "output_type": "execute_result"
    },
    {
     "data": {
      "image/png": "[encoded data removed]",
      "text/plain": [
       "<Figure size 432x288 with 1 Axes>"
      ]
     },
     "metadata": {
      "needs_background": "light"
     },
     "output_type": "display_data"
    }
   ],
   "source": [
    "# Värikartan RdBu alueelta 0.3 - 0.7 viisi väriä\n",
    "colors = plt.cm.inferno(np.linspace(0.2, 0.8, 5))\n",
    "\n",
    "df1.plot.barh(stacked = True, width = 0.8, legend = False, color = colors)"
   ]
  },
  {
   "cell_type": "code",
   "execution_count": 13,
   "metadata": {},
   "outputs": [
    {
     "data": {
      "text/plain": [
       "<AxesSubplot:>"
      ]
     },
     "execution_count": 13,
     "metadata": {},
     "output_type": "execute_result"
    },
    {
     "data": {
      "image/png": "[encoded data removed]",
      "text/plain": [
       "<Figure size 432x288 with 1 Axes>"
      ]
     },
     "metadata": {
      "needs_background": "light"
     },
     "output_type": "display_data"
    }
   ],
   "source": [
    "# Jos valitsen viiden sijasta kymmenen väriä, niin viiden värin kuvioon otetaan vain viisi ensimmäistä väriä\n",
    "colors = plt.cm.inferno(np.linspace(0.3, 0.7, 10))\n",
    "\n",
    "df1.plot.barh(stacked = True, width = 0.8, legend = False, color = colors)"
   ]
  },
  {
   "cell_type": "markdown",
   "metadata": {},
   "source": [
    "<h2>Lisätietoa</h2>\n",
    "\n",
    "Seuraava osa https://nbviewer.jupyter.org/github/taanila/kaaviot/blob/master/matplotlib5.ipynb käsittelee kaavioiden oletuspatrametreja, kuten fontteja ja fonttikokoja"
   ]
  }
 ],
 "metadata": {
  "kernelspec": {
   "display_name": "Python 3 (ipykernel)",
   "language": "python",
   "name": "python3"
  },
  "language_info": {
   "codemirror_mode": {
    "name": "ipython",
    "version": 3
   },
   "file_extension": ".py",
   "mimetype": "text/x-python",
   "name": "python",
   "nbconvert_exporter": "python",
   "pygments_lexer": "ipython3",
   "version": "3.9.12"
  }
 },
 "nbformat": 4,
 "nbformat_minor": 2
}
