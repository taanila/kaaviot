{
 "cells": [
  {
   "cell_type": "markdown",
   "metadata": {},
   "source": [
    "<h1>Matplotlib - osa 1</h1>\n",
    "<h2>Yksinkertainen pylväskaavio</h2>"
   ]
  },
  {
   "cell_type": "markdown",
   "metadata": {},
   "source": [
    "Tämän jupyter-notebookin tueksi kannattaa lukea myös artikkeli https://tilastoapu.wordpress.com/2019/07/02/kuviot-ja-kaaviot-pythonilla/\n",
    "\n",
    "<b>Matplotlib</b> on Pythonille tarkoitettu ohjelmakirjasto grafiikan tekemiseen.\n",
    "\n",
    "Keskityn seuraavassa grafiikan tekoon <b>pandas dataframesta</b>, joten tuon <b>pandas</b>-kirjaston <b>pd</b>-nimisenä.\n",
    "\n",
    "Matplotlib-grafiikkaa varten tuon <b>matplotlib.pyplot</b>-kirjaston <b>plt</b>-nimisenä.\n",
    "\n",
    "Jupyter notebook tulostaa automaattisti grafiikan notebookiin, jos lisään notebookin alkuun komennon <b>%matplotlib inline</b>."
   ]
  },
  {
   "cell_type": "code",
   "execution_count": 1,
   "metadata": {},
   "outputs": [],
   "source": [
    "import pandas as pd\n",
    "import matplotlib.pyplot as plt\n",
    "%matplotlib inline"
   ]
  },
  {
   "cell_type": "code",
   "execution_count": 2,
   "metadata": {},
   "outputs": [
    {
     "data": {
      "text/html": [
       "<div>\n",
       "<style scoped>\n",
       "    .dataframe tbody tr th:only-of-type {\n",
       "        vertical-align: middle;\n",
       "    }\n",
       "\n",
       "    .dataframe tbody tr th {\n",
       "        vertical-align: top;\n",
       "    }\n",
       "\n",
       "    .dataframe thead th {\n",
       "        text-align: right;\n",
       "    }\n",
       "</style>\n",
       "<table border=\"1\" class=\"dataframe\">\n",
       "  <thead>\n",
       "    <tr style=\"text-align: right;\">\n",
       "      <th></th>\n",
       "      <th>nro</th>\n",
       "      <th>sukup</th>\n",
       "      <th>ikä</th>\n",
       "      <th>perhe</th>\n",
       "      <th>koulutus</th>\n",
       "      <th>palveluv</th>\n",
       "      <th>palkka</th>\n",
       "      <th>johto</th>\n",
       "      <th>työtov</th>\n",
       "      <th>työymp</th>\n",
       "      <th>palkkat</th>\n",
       "      <th>työteht</th>\n",
       "      <th>työterv</th>\n",
       "      <th>lomaosa</th>\n",
       "      <th>kuntosa</th>\n",
       "      <th>hieroja</th>\n",
       "    </tr>\n",
       "  </thead>\n",
       "  <tbody>\n",
       "    <tr>\n",
       "      <th>0</th>\n",
       "      <td>1</td>\n",
       "      <td>1</td>\n",
       "      <td>38</td>\n",
       "      <td>1</td>\n",
       "      <td>1.0</td>\n",
       "      <td>22.0</td>\n",
       "      <td>3587</td>\n",
       "      <td>3</td>\n",
       "      <td>3.0</td>\n",
       "      <td>3</td>\n",
       "      <td>3</td>\n",
       "      <td>3</td>\n",
       "      <td>NaN</td>\n",
       "      <td>NaN</td>\n",
       "      <td>NaN</td>\n",
       "      <td>NaN</td>\n",
       "    </tr>\n",
       "    <tr>\n",
       "      <th>1</th>\n",
       "      <td>2</td>\n",
       "      <td>1</td>\n",
       "      <td>29</td>\n",
       "      <td>2</td>\n",
       "      <td>2.0</td>\n",
       "      <td>10.0</td>\n",
       "      <td>2963</td>\n",
       "      <td>1</td>\n",
       "      <td>5.0</td>\n",
       "      <td>2</td>\n",
       "      <td>1</td>\n",
       "      <td>3</td>\n",
       "      <td>NaN</td>\n",
       "      <td>NaN</td>\n",
       "      <td>NaN</td>\n",
       "      <td>NaN</td>\n",
       "    </tr>\n",
       "    <tr>\n",
       "      <th>2</th>\n",
       "      <td>3</td>\n",
       "      <td>1</td>\n",
       "      <td>30</td>\n",
       "      <td>1</td>\n",
       "      <td>1.0</td>\n",
       "      <td>7.0</td>\n",
       "      <td>1989</td>\n",
       "      <td>3</td>\n",
       "      <td>4.0</td>\n",
       "      <td>1</td>\n",
       "      <td>1</td>\n",
       "      <td>3</td>\n",
       "      <td>1.0</td>\n",
       "      <td>NaN</td>\n",
       "      <td>NaN</td>\n",
       "      <td>NaN</td>\n",
       "    </tr>\n",
       "    <tr>\n",
       "      <th>3</th>\n",
       "      <td>4</td>\n",
       "      <td>1</td>\n",
       "      <td>36</td>\n",
       "      <td>2</td>\n",
       "      <td>1.0</td>\n",
       "      <td>14.0</td>\n",
       "      <td>2144</td>\n",
       "      <td>3</td>\n",
       "      <td>3.0</td>\n",
       "      <td>3</td>\n",
       "      <td>3</td>\n",
       "      <td>3</td>\n",
       "      <td>1.0</td>\n",
       "      <td>NaN</td>\n",
       "      <td>NaN</td>\n",
       "      <td>NaN</td>\n",
       "    </tr>\n",
       "    <tr>\n",
       "      <th>4</th>\n",
       "      <td>5</td>\n",
       "      <td>1</td>\n",
       "      <td>24</td>\n",
       "      <td>1</td>\n",
       "      <td>2.0</td>\n",
       "      <td>4.0</td>\n",
       "      <td>2183</td>\n",
       "      <td>2</td>\n",
       "      <td>3.0</td>\n",
       "      <td>2</td>\n",
       "      <td>1</td>\n",
       "      <td>2</td>\n",
       "      <td>1.0</td>\n",
       "      <td>NaN</td>\n",
       "      <td>NaN</td>\n",
       "      <td>NaN</td>\n",
       "    </tr>\n",
       "  </tbody>\n",
       "</table>\n",
       "</div>"
      ],
      "text/plain": [
       "   nro  sukup  ikä  perhe  koulutus  palveluv  palkka  johto  työtov  työymp  \\\n",
       "0    1      1   38      1       1.0      22.0    3587      3     3.0       3   \n",
       "1    2      1   29      2       2.0      10.0    2963      1     5.0       2   \n",
       "2    3      1   30      1       1.0       7.0    1989      3     4.0       1   \n",
       "3    4      1   36      2       1.0      14.0    2144      3     3.0       3   \n",
       "4    5      1   24      1       2.0       4.0    2183      2     3.0       2   \n",
       "\n",
       "   palkkat  työteht  työterv  lomaosa  kuntosa  hieroja  \n",
       "0        3        3      NaN      NaN      NaN      NaN  \n",
       "1        1        3      NaN      NaN      NaN      NaN  \n",
       "2        1        3      1.0      NaN      NaN      NaN  \n",
       "3        3        3      1.0      NaN      NaN      NaN  \n",
       "4        1        2      1.0      NaN      NaN      NaN  "
      ]
     },
     "execution_count": 2,
     "metadata": {},
     "output_type": "execute_result"
    }
   ],
   "source": [
    "# Avaan datan\n",
    "df = pd.read_excel('http://taanila.fi/data1.xlsx')\n",
    "\n",
    "# Näytän datan viisi ensimmäistä riviä\n",
    "df.head()"
   ]
  },
  {
   "cell_type": "code",
   "execution_count": 3,
   "metadata": {},
   "outputs": [
    {
     "data": {
      "text/html": [
       "<div>\n",
       "<style scoped>\n",
       "    .dataframe tbody tr th:only-of-type {\n",
       "        vertical-align: middle;\n",
       "    }\n",
       "\n",
       "    .dataframe tbody tr th {\n",
       "        vertical-align: top;\n",
       "    }\n",
       "\n",
       "    .dataframe thead th {\n",
       "        text-align: right;\n",
       "    }\n",
       "</style>\n",
       "<table border=\"1\" class=\"dataframe\">\n",
       "  <thead>\n",
       "    <tr style=\"text-align: right;\">\n",
       "      <th>col_0</th>\n",
       "      <th>Lkm</th>\n",
       "    </tr>\n",
       "  </thead>\n",
       "  <tbody>\n",
       "    <tr>\n",
       "      <th>Peruskoulu</th>\n",
       "      <td>27</td>\n",
       "    </tr>\n",
       "    <tr>\n",
       "      <th>2. aste</th>\n",
       "      <td>30</td>\n",
       "    </tr>\n",
       "    <tr>\n",
       "      <th>Korkeakoulu</th>\n",
       "      <td>22</td>\n",
       "    </tr>\n",
       "    <tr>\n",
       "      <th>Ylempi korkeakoulu</th>\n",
       "      <td>2</td>\n",
       "    </tr>\n",
       "  </tbody>\n",
       "</table>\n",
       "</div>"
      ],
      "text/plain": [
       "col_0               Lkm\n",
       "Peruskoulu           27\n",
       "2. aste              30\n",
       "Korkeakoulu          22\n",
       "Ylempi korkeakoulu    2"
      ]
     },
     "execution_count": 3,
     "metadata": {},
     "output_type": "execute_result"
    }
   ],
   "source": [
    "# Lasken eri koulutuksen suorittaneiden lukumäärät\n",
    "df1 = pd.crosstab(df['koulutus'], 'Lkm')\n",
    "\n",
    "# koulutus-muuttujan numeroarvoja vastaavat tekstimuotoiset arvot listana\n",
    "koulutus = ['Peruskoulu', '2. aste', 'Korkeakoulu', 'Ylempi korkeakoulu']\n",
    "\n",
    "# Lisään koulutus-muuttujan tekstimuotoiset arvot dataframen indeksiin\n",
    "df1.index = koulutus\n",
    "\n",
    "# Näytän dataframen\n",
    "df1"
   ]
  },
  {
   "cell_type": "markdown",
   "metadata": {},
   "source": [
    "<h2>Vaakapylväskaavion luonti</h2>\n",
    "\n",
    "Teen äsken luomastani dataframesta <b>df1</b> vaakapylväskaavion <b>plot</b>-toiminnolla. Plot-toiminnolla voin luoda eri kaaviolajeja, esimerkiksi pystypylväskaavion <b>bar</b> tai vaakapylväskaavion <b>barh</b>. Samaan lopputulemaan pääsisin myös komennolla <b>df1.plot(kind = 'barh')</b>.\n",
    "\n",
    "Sijoitan kaavion jatkomuokkausta varten muuttujaan. Tässä annan muuttujan nimeksi <b>ax1</b>."
   ]
  },
  {
   "cell_type": "code",
   "execution_count": 4,
   "metadata": {},
   "outputs": [
    {
     "data": {
      "image/png": "[encoded data removed]",
      "text/plain": [
       "<Figure size 432x288 with 1 Axes>"
      ]
     },
     "metadata": {
      "needs_background": "light"
     },
     "output_type": "display_data"
    }
   ],
   "source": [
    "ax1 = df1.plot.barh()"
   ]
  },
  {
   "cell_type": "markdown",
   "metadata": {},
   "source": [
    "<h2>Kaavion tekstit</h2>\n",
    "\n",
    "\n",
    "Mielestäni yhden arvosarjan kaavioissa selite on tarpeeton, joten piilotan sen <b>legend</b>-lisäparametrilla.\n",
    "\n",
    "Kaavion otsikoksi annan 'Koulutusjakauma' <b>set_title()</b>-toiminnolla.\n",
    "\n",
    "Arvoakselin (x-akseli) otsikoksi annan 'Lukumäärä' <b>set_xlabel()</b>-toiminnolla. \n",
    "\n",
    "Jos en olisi lisännyt koulutusten tekstimuotoisia arvoja dataframen df1 indeksiin, niin voisin lisätä ne kaavioon toiminnolla <b>ax1.set_yticklabels(koulutus)</b>."
   ]
  },
  {
   "cell_type": "code",
   "execution_count": 5,
   "metadata": {},
   "outputs": [
    {
     "data": {
      "text/plain": [
       "Text(0.5, 0, 'Lukumäärä')"
      ]
     },
     "execution_count": 5,
     "metadata": {},
     "output_type": "execute_result"
    },
    {
     "data": {
      "image/png": "[encoded data removed]",
      "text/plain": [
       "<Figure size 432x288 with 1 Axes>"
      ]
     },
     "metadata": {
      "needs_background": "light"
     },
     "output_type": "display_data"
    }
   ],
   "source": [
    "ax2 = df1.plot.barh(legend = False)\n",
    "\n",
    "ax2.set_title('Koulutusjakauma')\n",
    "ax2.set_xlabel('Lukumäärä')"
   ]
  },
  {
   "cell_type": "markdown",
   "metadata": {},
   "source": [
    "<h2>Hienosäätöä</h2>\n",
    "\n",
    "Lisään x-akselin jakoviivojen mukaisen taustaviivoituksen <b>grid()</b>-toiminnolla. Taustaviivoitus menee oletuksena pylväiden päälle, mutta asia korjaantuu <b>set_axisbelow()</b>-toiminnolla.\n",
    "\n",
    "Häivytän luokka-akselin jakoviivat <b>tick_params()</b>-toiminnolla.\n",
    "\n",
    "Viimeiseksi kikkailen pylväiden pituuksia vastaavat lukumäärät pylväiden viereen. Käytän tähän <b>text()</b>-toimintoa, jolla voin lisätä kaavioon tekstejä:\n",
    "\n",
    "<ul>\n",
    "<li>Käytän apuna Pythonin <b>for</b>-silmukkaa, jolla käyn läpi kaavion pylväät (<b>patches</b>-kokoelma) yksi kerrallaan.</li> \n",
    "<li>Vaakasuuntaisen pylvään pituuden saan <b>get_width()</b>-toiminnolla.</li>\n",
    "<li>Vaakasuuntaisen pylvään alareunan sijainnin saan <b>get_y()</b>-toiminnolla.</li>\n",
    "<li>Pylvään alareunan sijaintiin lisään puolet pylvään paksuudesta (<b>get_height()</b>).</li>\n",
    "    <li>Pylvään viereen lisättävän lukumäärän, jonka sijoitan <b>label</b>-nimiseen muuttujaan, muotoilen desimaalittomaksi.</li>\n",
    "    <li>Lisättävän merkkijonon sijainti määrittyy <b>x</b>:n ja <b>y</b>:n mukaan.</li> \n",
    "<li>Lisäparametri <b>s</b> tarkoittaa lisättävää merkkijonoa, joka tässä tapauksessa sisältää välilyönnin ja pylvään pituutta kuvaavan lukumäärän.</li>\n",
    "<li><b>va</b> tarkoittaa pystysuuntaista tasausta (vertical alignment).</li>\n",
    "</ul>"
   ]
  },
  {
   "cell_type": "code",
   "execution_count": 6,
   "metadata": {},
   "outputs": [
    {
     "data": {
      "image/png": "[encoded data removed]",
      "text/plain": [
       "<Figure size 432x288 with 1 Axes>"
      ]
     },
     "metadata": {
      "needs_background": "light"
     },
     "output_type": "display_data"
    }
   ],
   "source": [
    "ax3 = df1.plot.barh(legend = False)\n",
    "\n",
    "ax3.set_title('Koulutusjakauma')\n",
    "ax3.set_xlabel('Lukumäärä')\n",
    "\n",
    "ax3.grid(axis = 'x')\n",
    "ax3.set_axisbelow(True)\n",
    "ax3.tick_params(axis = 'y', length = 0)\n",
    "\n",
    "for bar in ax3.patches:\n",
    "    x = bar.get_width()\n",
    "    y = bar.get_y() + bar.get_height() / 2\n",
    "    label = '{:.0f}'.format(x)\n",
    "    ax3.text(x = x, y = y, s = ' ' + label, va = 'center')"
   ]
  },
  {
   "cell_type": "markdown",
   "metadata": {},
   "source": [
    "<h2>Pystypylväskaavio</h2>\n",
    "\n",
    "Pienin muutoksin voin toteuttaa edellisen pystypylväskaaviona.\n",
    "\n",
    "<ul>\n",
    "    <li>Huomaa luokka-akselin otsikoiden 45 asteen kääntö (<b>rotation</b>).</li>\n",
    "<li>Huomaa pylvään pituuksia vastaavien lukuarvojen siirto hieman ylöspäin (<b>y = y + 0.3</b>), koska muuten lukuarvot olisivat pylväissä kiinni.</li>\n",
    "\n",
    "<li><b>ha</b> tarkoittaa vaakasuuntaista tasausta (horizontal alignment).</li>\n",
    "<li>Huomaa, että yläreunaan on lisätty hieman tilaa skaalamalla arvoakseli (<b>ax3.set_ylim(0, 35)</b>).</li>\n",
    "</ul>"
   ]
  },
  {
   "cell_type": "code",
   "execution_count": 7,
   "metadata": {},
   "outputs": [
    {
     "data": {
      "text/plain": [
       "(0, 35)"
      ]
     },
     "execution_count": 7,
     "metadata": {},
     "output_type": "execute_result"
    },
    {
     "data": {
      "image/png": "[encoded data removed]",
      "text/plain": [
       "<Figure size 432x288 with 1 Axes>"
      ]
     },
     "metadata": {
      "needs_background": "light"
     },
     "output_type": "display_data"
    }
   ],
   "source": [
    "ax4 = df1.plot.bar(legend = False)\n",
    "\n",
    "ax4.set_title('Koulutusjakauma')\n",
    "ax4.set_ylabel('Lukumäärä')\n",
    "ax4.set_xticklabels(koulutus, rotation = 45)\n",
    "\n",
    "ax4.grid(axis = 'y')\n",
    "ax4.set_axisbelow(True)\n",
    "ax4.tick_params(axis = 'x', length = 0)\n",
    "\n",
    "for bar in ax4.patches:\n",
    "    x = bar.get_x() + bar.get_width() / 2\n",
    "    y = bar.get_height()\n",
    "    label = '{:.0f}'.format(y)\n",
    "    ax4.text(x = x, y = y + 0.3, s = label, va = 'bottom', ha = 'center')\n",
    "ax4.set_ylim(0, 35)"
   ]
  },
  {
   "cell_type": "markdown",
   "metadata": {},
   "source": [
    "<h2>Prosenttien esittäminen</h2>\n",
    "\n",
    "Arvoakselin prosenttilukujen muotoilulause ei ole ihan helpon näköinen:\n",
    "<b>ax5.set_xticklabels(['{:.0f} %'.format(x) for x in ax5.get_xticks()])</b>\n",
    "<ul>\n",
    "    <li>Muotoilulauseke <b>'{:0f} %'</b> määrittää desimaalittoman prosenttimuotoilun, jolla muotoillaan kaikki x:t.</li>\n",
    "    <li>x:t haetaan for-silmukalla yksi kerrallaan kaavion xtickseistä <b>get_xticks()</b>-toiminnolla.</li>\n",
    "    <li>Huomaa, että kaikki ovat hakasulkujen [] sisällä (lista xticksejä!).</li>\n",
    "</ul>"
   ]
  },
  {
   "cell_type": "code",
   "execution_count": 8,
   "metadata": {},
   "outputs": [
    {
     "data": {
      "text/html": [
       "<div>\n",
       "<style scoped>\n",
       "    .dataframe tbody tr th:only-of-type {\n",
       "        vertical-align: middle;\n",
       "    }\n",
       "\n",
       "    .dataframe tbody tr th {\n",
       "        vertical-align: top;\n",
       "    }\n",
       "\n",
       "    .dataframe thead th {\n",
       "        text-align: right;\n",
       "    }\n",
       "</style>\n",
       "<table border=\"1\" class=\"dataframe\">\n",
       "  <thead>\n",
       "    <tr style=\"text-align: right;\">\n",
       "      <th>col_0</th>\n",
       "      <th>Lkm</th>\n",
       "      <th>%</th>\n",
       "    </tr>\n",
       "  </thead>\n",
       "  <tbody>\n",
       "    <tr>\n",
       "      <th>Peruskoulu</th>\n",
       "      <td>27</td>\n",
       "      <td>33.333333</td>\n",
       "    </tr>\n",
       "    <tr>\n",
       "      <th>2. aste</th>\n",
       "      <td>30</td>\n",
       "      <td>37.037037</td>\n",
       "    </tr>\n",
       "    <tr>\n",
       "      <th>Korkeakoulu</th>\n",
       "      <td>22</td>\n",
       "      <td>27.160494</td>\n",
       "    </tr>\n",
       "    <tr>\n",
       "      <th>Ylempi korkeakoulu</th>\n",
       "      <td>2</td>\n",
       "      <td>2.469136</td>\n",
       "    </tr>\n",
       "  </tbody>\n",
       "</table>\n",
       "</div>"
      ],
      "text/plain": [
       "col_0               Lkm          %\n",
       "Peruskoulu           27  33.333333\n",
       "2. aste              30  37.037037\n",
       "Korkeakoulu          22  27.160494\n",
       "Ylempi korkeakoulu    2   2.469136"
      ]
     },
     "execution_count": 8,
     "metadata": {},
     "output_type": "execute_result"
    }
   ],
   "source": [
    "# Luon dataframen, jossa prosentit\n",
    "df2 = pd.crosstab(df['koulutus'], 'Lkm')\n",
    "df2['%'] = df2['Lkm'] / df2['Lkm'].sum() * 100\n",
    "df2.index = koulutus\n",
    "df2"
   ]
  },
  {
   "cell_type": "code",
   "execution_count": 9,
   "metadata": {},
   "outputs": [
    {
     "data": {
      "image/png": "[encoded data removed]",
      "text/plain": [
       "<Figure size 432x288 with 1 Axes>"
      ]
     },
     "metadata": {
      "needs_background": "light"
     },
     "output_type": "display_data"
    }
   ],
   "source": [
    "ax5 = df2['%'].plot.barh()\n",
    "\n",
    "ax5.set_title('Koulutusjakauma')\n",
    "ax5.set_xlabel('Lukumäärä')\n",
    "\n",
    "ax5.grid(axis = 'x')\n",
    "ax5.set_axisbelow(True)\n",
    "ax5.tick_params(axis = 'y', length = 0)\n",
    "\n",
    "ax5.set_xticklabels(['{:.0f} %'.format(x) for x in ax5.get_xticks()])\n",
    "\n",
    "for bar in ax5.patches:\n",
    "    x = bar.get_width()\n",
    "    y = bar.get_y() + bar.get_height() / 2\n",
    "    label = '{:.0f} %'.format(x)\n",
    "    ax5.text(x = x, y = y, s = ' ' + label, va = 'center')"
   ]
  },
  {
   "cell_type": "markdown",
   "metadata": {},
   "source": [
    "<h2>Kaavion tallennus</h2>\n",
    "\n",
    "Kun tallennan kaavion <b>savefig</b>-toiminnolla, niin tarkkaan ottaen tallennan kuvion (<b>figure</b>), jonka sisällä kaavio on. Kuvioon pääsen käsiksi <b>plt.gcf()</b>-toiminnolla (get current figure).\n",
    "\n",
    "Ilman lisäparametria <b>bbox_inches = 'tight'</b> osia kaavion reunoilta voi jäädä tallentumatta.\n",
    "\n",
    "Tallennusmuoto määräytyy  tiedostonimen tarkentimen (esim. png) perusteella. Mahdolliset tallennusmuodot selviävät komennolla <b>plt.gcf().canvas.get_supported_filetypes()</b>"
   ]
  },
  {
   "cell_type": "code",
   "execution_count": 10,
   "metadata": {},
   "outputs": [
    {
     "data": {
      "image/png": "[encoded data removed]",
      "text/plain": [
       "<Figure size 432x288 with 1 Axes>"
      ]
     },
     "metadata": {
      "needs_background": "light"
     },
     "output_type": "display_data"
    }
   ],
   "source": [
    "ax6 = df2['%'].plot.barh()\n",
    "\n",
    "ax6.set_title('Koulutusjakauma')\n",
    "ax6.set_xlabel('Lukumäärä')\n",
    "\n",
    "ax6.grid(axis = 'x')\n",
    "ax6.set_axisbelow(True)\n",
    "ax6.tick_params(axis = 'y', length = 0)\n",
    "\n",
    "ax6.set_xticklabels(['{:.0f} %'.format(x) for x in ax6.get_xticks()])\n",
    "\n",
    "for bar in ax6.patches:\n",
    "    x = bar.get_width()\n",
    "    y = bar.get_y() + bar.get_height() / 2\n",
    "    label = '{:.0f} %'.format(x)\n",
    "    ax6.text(x = x, y = y, s = ' ' + label, va = 'center')\n",
    "\n",
    "# Tallennus\n",
    "plt.gcf().savefig('testi1.png', bbox_inches = 'tight')"
   ]
  },
  {
   "cell_type": "markdown",
   "metadata": {},
   "source": [
    "<h2>Lisätietoa</h2>\n",
    "\n",
    "<b>plot</b>-toiminnon yhteydessä voin antaa monia lisäparametreja (edellä hyödynsin <b>legend</b>-lisäparametria):\n",
    "https://pandas.pydata.org/pandas-docs/stable/reference/api/pandas.DataFrame.plot.html\n",
    "\n",
    "Tekstiolioiden yhteydessä voin käyttää lukuisia tekstille ominaisia lisäparametreja:\n",
    "https://matplotlib.org/api/text_api.html#matplotlib.text.Text\n",
    "\n",
    "Edellä käytetyillä toiminnoilla on lukuisia lisäparametreja, jotka löydät helposti googlaamalla. Googlaamalla esimerkiksi <b>matplotlib pyplot tick_params</b> löydät helposti <b>tick_params()</b>-toiminnon kuvauksen ja lisäparametrit.\n",
    "\n",
    "Matplotlib - osa 2 käsittelee useamman arvosarjan pylväskaavioita:\n",
    "https://nbviewer.jupyter.org/github/taanila/kaaviot/blob/master/matplotlib2.ipynb"
   ]
  }
 ],
 "metadata": {
  "kernelspec": {
   "display_name": "Python 3",
   "language": "python",
   "name": "python3"
  },
  "language_info": {
   "codemirror_mode": {
    "name": "ipython",
    "version": 3
   },
   "file_extension": ".py",
   "mimetype": "text/x-python",
   "name": "python",
   "nbconvert_exporter": "python",
   "pygments_lexer": "ipython3",
   "version": "3.7.2"
  }
 },
 "nbformat": 4,
 "nbformat_minor": 2
}
