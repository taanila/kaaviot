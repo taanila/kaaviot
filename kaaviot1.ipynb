{
 "cells": [
  {
   "cell_type": "code",
   "execution_count": 1,
   "metadata": {},
   "outputs": [
    {
     "name": "stdout",
     "output_type": "stream",
     "text": [
      "Päivitetty 2021-08-15 09:43:18.650523\n"
     ]
    }
   ],
   "source": [
    "from datetime import datetime\n",
    "print(f'Päivitetty {datetime.now()}')"
   ]
  },
  {
   "cell_type": "code",
   "execution_count": 2,
   "metadata": {},
   "outputs": [],
   "source": [
    "import pandas as pd\n",
    "import matplotlib.pyplot as plt"
   ]
  },
  {
   "cell_type": "markdown",
   "metadata": {},
   "source": [
    "<h2>Viimeisteltyjä kaavioita</h2>"
   ]
  },
  {
   "cell_type": "code",
   "execution_count": 3,
   "metadata": {},
   "outputs": [
    {
     "data": {
      "text/html": [
       "<div>\n",
       "<style scoped>\n",
       "    .dataframe tbody tr th:only-of-type {\n",
       "        vertical-align: middle;\n",
       "    }\n",
       "\n",
       "    .dataframe tbody tr th {\n",
       "        vertical-align: top;\n",
       "    }\n",
       "\n",
       "    .dataframe thead th {\n",
       "        text-align: right;\n",
       "    }\n",
       "</style>\n",
       "<table border=\"1\" class=\"dataframe\">\n",
       "  <thead>\n",
       "    <tr style=\"text-align: right;\">\n",
       "      <th></th>\n",
       "      <th>Etelä</th>\n",
       "      <th>Keski</th>\n",
       "      <th>Pohjoinen</th>\n",
       "    </tr>\n",
       "  </thead>\n",
       "  <tbody>\n",
       "    <tr>\n",
       "      <th>1. nelj.</th>\n",
       "      <td>120</td>\n",
       "      <td>98</td>\n",
       "      <td>89</td>\n",
       "    </tr>\n",
       "    <tr>\n",
       "      <th>2. nelj.</th>\n",
       "      <td>130</td>\n",
       "      <td>102</td>\n",
       "      <td>95</td>\n",
       "    </tr>\n",
       "    <tr>\n",
       "      <th>3. nelj.</th>\n",
       "      <td>167</td>\n",
       "      <td>120</td>\n",
       "      <td>108</td>\n",
       "    </tr>\n",
       "    <tr>\n",
       "      <th>4. nelj.</th>\n",
       "      <td>210</td>\n",
       "      <td>180</td>\n",
       "      <td>120</td>\n",
       "    </tr>\n",
       "  </tbody>\n",
       "</table>\n",
       "</div>"
      ],
      "text/plain": [
       "          Etelä  Keski  Pohjoinen\n",
       "1. nelj.    120     98         89\n",
       "2. nelj.    130    102         95\n",
       "3. nelj.    167    120        108\n",
       "4. nelj.    210    180        120"
      ]
     },
     "execution_count": 3,
     "metadata": {},
     "output_type": "execute_result"
    }
   ],
   "source": [
    "#luon dataframen\n",
    "df = pd.DataFrame({'Etelä':[120, 130, 167, 210],\n",
    "                 'Keski':[98, 102, 120, 180],\n",
    "                 'Pohjoinen':[89, 95, 108, 120]},\n",
    "                index = ['1. nelj.', '2. nelj.', '3. nelj.', '4. nelj.'])\n",
    "df"
   ]
  },
  {
   "cell_type": "code",
   "execution_count": 4,
   "metadata": {},
   "outputs": [
    {
     "data": {
      "text/plain": [
       "<matplotlib.legend.Legend at 0x1d7958a02e0>"
      ]
     },
     "execution_count": 4,
     "metadata": {},
     "output_type": "execute_result"
    },
    {
     "data": {
      "image/png": "[encoded data removed]",
      "text/plain": [
       "<Figure size 432x288 with 1 Axes>"
      ]
     },
     "metadata": {
      "needs_background": "light"
     },
     "output_type": "display_data"
    }
   ],
   "source": [
    "#zorder-parametrilla saan taustaviivoituksen pylväiden alapuolelle\n",
    "df.plot.bar(zorder = 2)\n",
    "\n",
    "#arvoakselin asteikon arvot\n",
    "plt.yticks([0, 50, 100, 150, 200, 250])\n",
    "\n",
    "plt.ylabel('Myynti miljoonaa euroa')\n",
    "\n",
    "#ylimääräiset asteikkoviivat pois näkyviltä\n",
    "plt.tick_params(axis = 'both', length = 0)\n",
    "\n",
    "#vuosineljännesten nimet vaakasuunnassa\n",
    "plt.tick_params(axis = 'x', rotation = 0)\n",
    "\n",
    "#vaakasuuntainen taustaviivoitus\n",
    "plt.grid(axis = 'y')\n",
    "\n",
    "#selitteen sijoittelu ja leveys (3 vierekkäin)\n",
    "plt.legend(loc = (0.15, -0.2), ncol = 3)"
   ]
  },
  {
   "cell_type": "code",
   "execution_count": 5,
   "metadata": {},
   "outputs": [
    {
     "data": {
      "text/plain": [
       "<matplotlib.legend.Legend at 0x1d7986c7a30>"
      ]
     },
     "execution_count": 5,
     "metadata": {},
     "output_type": "execute_result"
    },
    {
     "data": {
      "image/png": "[encoded data removed]",
      "text/plain": [
       "<Figure size 432x288 with 1 Axes>"
      ]
     },
     "metadata": {
      "needs_background": "light"
     },
     "output_type": "display_data"
    }
   ],
   "source": [
    "#äskeinen arvosarjat ja luokat vaihdettuna päittäin\n",
    "df.T.plot.bar(zorder = 2)\n",
    "\n",
    "plt.yticks([0, 50, 100, 150, 200, 250])\n",
    "plt.ylabel('Myynti miljoonaa euroa')\n",
    "plt.tick_params(axis = 'both', length = 0)\n",
    "plt.tick_params(axis = 'x', rotation = 0)\n",
    "plt.grid(axis = 'y')\n",
    "plt.legend(loc = (0, -0.2), ncol = 4)"
   ]
  },
  {
   "cell_type": "code",
   "execution_count": 6,
   "metadata": {},
   "outputs": [
    {
     "data": {
      "image/png": "[encoded data removed]",
      "text/plain": [
       "<Figure size 432x288 with 1 Axes>"
      ]
     },
     "metadata": {
      "needs_background": "light"
     },
     "output_type": "display_data"
    }
   ],
   "source": [
    "#viivakuvio, style määrittää viivan ja havaintopisteen tyylin\n",
    "df.plot(style = '-o')\n",
    "\n",
    "#arvoakselin asteikon arvot\n",
    "plt.yticks([50, 100, 150, 200, 250])\n",
    "\n",
    "#arvoakselin otsikko\n",
    "plt.ylabel('Myynti miljoonaa euroa')\n",
    "\n",
    "#x-akselin asteikon arvot\n",
    "plt.xticks([0, 1, 2, 3])\n",
    "\n",
    "#akselin asteikkoviivat pois näkyviltä\n",
    "plt.tick_params(axis = 'y', length = 0)\n",
    "\n",
    "#taustaviivoitus sekä vaaka- että pystysuunnassa\n",
    "plt.grid()"
   ]
  }
 ],
 "metadata": {
  "kernelspec": {
   "display_name": "Python 3",
   "language": "python",
   "name": "python3"
  },
  "language_info": {
   "codemirror_mode": {
    "name": "ipython",
    "version": 3
   },
   "file_extension": ".py",
   "mimetype": "text/x-python",
   "name": "python",
   "nbconvert_exporter": "python",
   "pygments_lexer": "ipython3",
   "version": "3.8.8"
  }
 },
 "nbformat": 4,
 "nbformat_minor": 2
}
