{
 "cells": [
  {
   "cell_type": "code",
   "execution_count": 1,
   "metadata": {},
   "outputs": [],
   "source": [
    "import pandas as pd\n",
    "import matplotlib.pyplot as plt\n",
    "%matplotlib inline"
   ]
  },
  {
   "cell_type": "markdown",
   "metadata": {},
   "source": [
    "<h2>Pylväskaavioita on monenlaisia</h2>"
   ]
  },
  {
   "cell_type": "code",
   "execution_count": 2,
   "metadata": {},
   "outputs": [
    {
     "data": {
      "text/html": [
       "<div>\n",
       "<style scoped>\n",
       "    .dataframe tbody tr th:only-of-type {\n",
       "        vertical-align: middle;\n",
       "    }\n",
       "\n",
       "    .dataframe tbody tr th {\n",
       "        vertical-align: top;\n",
       "    }\n",
       "\n",
       "    .dataframe thead th {\n",
       "        text-align: right;\n",
       "    }\n",
       "</style>\n",
       "<table border=\"1\" class=\"dataframe\">\n",
       "  <thead>\n",
       "    <tr style=\"text-align: right;\">\n",
       "      <th></th>\n",
       "      <th>Mies</th>\n",
       "      <th>Nainen</th>\n",
       "    </tr>\n",
       "  </thead>\n",
       "  <tbody>\n",
       "    <tr>\n",
       "      <th>Tyytymätön</th>\n",
       "      <td>17</td>\n",
       "      <td>8</td>\n",
       "    </tr>\n",
       "    <tr>\n",
       "      <th>Ei tyytymätön eikä tyytyväinen</th>\n",
       "      <td>15</td>\n",
       "      <td>15</td>\n",
       "    </tr>\n",
       "    <tr>\n",
       "      <th>Tyytyväinen</th>\n",
       "      <td>6</td>\n",
       "      <td>21</td>\n",
       "    </tr>\n",
       "  </tbody>\n",
       "</table>\n",
       "</div>"
      ],
      "text/plain": [
       "                                Mies  Nainen\n",
       "Tyytymätön                        17       8\n",
       "Ei tyytymätön eikä tyytyväinen    15      15\n",
       "Tyytyväinen                        6      21"
      ]
     },
     "execution_count": 2,
     "metadata": {},
     "output_type": "execute_result"
    }
   ],
   "source": [
    "#luon dataframen\n",
    "df1=pd.DataFrame({'Mies':[17,15,6],\n",
    "                  'Nainen':[8,15,21]},\n",
    "                  index=['Tyytymätön','Ei tyytymätön eikä tyytyväinen','Tyytyväinen'])\n",
    "df1"
   ]
  },
  {
   "cell_type": "code",
   "execution_count": 3,
   "metadata": {},
   "outputs": [
    {
     "data": {
      "text/plain": [
       "<matplotlib.legend.Legend at 0x182fa1ec0b8>"
      ]
     },
     "execution_count": 3,
     "metadata": {},
     "output_type": "execute_result"
    },
    {
     "data": {
      "image/png": "[encoded data removed]",
      "text/plain": [
       "<Figure size 432x288 with 1 Axes>"
      ]
     },
     "metadata": {
      "needs_background": "light"
     },
     "output_type": "display_data"
    }
   ],
   "source": [
    "ax1=df1.plot.bar()\n",
    "\n",
    "#arvo-akselin nimiöiden kääntämäinen ja ylimääräisten asteikkoviivojen poistaminen\n",
    "ax1.tick_params(axis='x', labelrotation=0, length=0)\n",
    "\n",
    "#y-akselille merkittävät lukumäärät\n",
    "ax1.set_yticks([0,5,10,15,20])\n",
    "\n",
    "#arvoakselin otsikko vaakasuuntaisena, labelpad määrittää etäisyyden y-akselista\n",
    "ax1.set_ylabel('lkm', rotation=0, labelpad=15)\n",
    "\n",
    "#selitteeseen 2 asiaa vierekkäin\n",
    "ax1.legend(ncol=2)"
   ]
  },
  {
   "cell_type": "code",
   "execution_count": 4,
   "metadata": {},
   "outputs": [
    {
     "data": {
      "text/html": [
       "<div>\n",
       "<style scoped>\n",
       "    .dataframe tbody tr th:only-of-type {\n",
       "        vertical-align: middle;\n",
       "    }\n",
       "\n",
       "    .dataframe tbody tr th {\n",
       "        vertical-align: top;\n",
       "    }\n",
       "\n",
       "    .dataframe thead th {\n",
       "        text-align: right;\n",
       "    }\n",
       "</style>\n",
       "<table border=\"1\" class=\"dataframe\">\n",
       "  <thead>\n",
       "    <tr style=\"text-align: right;\">\n",
       "      <th></th>\n",
       "      <th>Mies</th>\n",
       "      <th>Nainen</th>\n",
       "    </tr>\n",
       "  </thead>\n",
       "  <tbody>\n",
       "    <tr>\n",
       "      <th>Tyytymätön</th>\n",
       "      <td>0.447368</td>\n",
       "      <td>0.181818</td>\n",
       "    </tr>\n",
       "    <tr>\n",
       "      <th>Ei tyytymätön eikä tyytyväinen</th>\n",
       "      <td>0.394737</td>\n",
       "      <td>0.340909</td>\n",
       "    </tr>\n",
       "    <tr>\n",
       "      <th>Tyytyväinen</th>\n",
       "      <td>0.157895</td>\n",
       "      <td>0.477273</td>\n",
       "    </tr>\n",
       "  </tbody>\n",
       "</table>\n",
       "</div>"
      ],
      "text/plain": [
       "                                    Mies    Nainen\n",
       "Tyytymätön                      0.447368  0.181818\n",
       "Ei tyytymätön eikä tyytyväinen  0.394737  0.340909\n",
       "Tyytyväinen                     0.157895  0.477273"
      ]
     },
     "execution_count": 4,
     "metadata": {},
     "output_type": "execute_result"
    }
   ],
   "source": [
    "#prosentti-taulukko\n",
    "miehet=df1['Mies'].sum()\n",
    "naiset=df1['Nainen'].sum()\n",
    "df2=df1.copy()\n",
    "df2['Mies']=df1['Mies']/miehet\n",
    "df2['Nainen']=df1['Nainen']/naiset\n",
    "df2"
   ]
  },
  {
   "cell_type": "code",
   "execution_count": 5,
   "metadata": {},
   "outputs": [
    {
     "data": {
      "text/plain": [
       "<matplotlib.legend.Legend at 0x182fa4c0128>"
      ]
     },
     "execution_count": 5,
     "metadata": {},
     "output_type": "execute_result"
    },
    {
     "data": {
      "image/png": "[encoded data removed]",
      "text/plain": [
       "<Figure size 432x288 with 1 Axes>"
      ]
     },
     "metadata": {
      "needs_background": "light"
     },
     "output_type": "display_data"
    }
   ],
   "source": [
    "#T vaihtaa dataframen rivit ja sarakkeet päittäin\n",
    "#stacked=True: pinottu pylväskaavio\n",
    "ax2=df2.T.plot.barh(stacked=True)\n",
    "\n",
    "#vaaka-akselille merkittävät prosentit\n",
    "ax2.set_xticklabels(['0 %', '20 %', '40 %', '60 %','80 %','100 %'])\n",
    "\n",
    "#pystysuuntainen taustaviivoitus\n",
    "ax2.grid(axis='x')\n",
    "\n",
    "#ylimääräsiten asteikkoviivojen poistaminen\n",
    "ax2.tick_params(axis='y', length=0)\n",
    "\n",
    "#taustaviivoitus pylväiden taakse\n",
    "ax2.set_axisbelow(True)\n",
    "\n",
    "#selitteen sijainti ja vierekkäisten selitteiden lukumäärä\n",
    "ax2.legend(loc=(-0.15, -0.2), ncol=3)"
   ]
  },
  {
   "cell_type": "code",
   "execution_count": 9,
   "metadata": {},
   "outputs": [
    {
     "data": {
      "text/plain": [
       "<matplotlib.legend.Legend at 0x182fb6f1d30>"
      ]
     },
     "execution_count": 9,
     "metadata": {},
     "output_type": "execute_result"
    },
    {
     "data": {
      "image/png": "[encoded data removed]",
      "text/plain": [
       "<Figure size 432x288 with 1 Axes>"
      ]
     },
     "metadata": {
      "needs_background": "light"
     },
     "output_type": "display_data"
    }
   ],
   "source": [
    "#T vaihtaa dataframen rivit ja sarakkeet päittäin\n",
    "#stacked=True: pinottu pylväskaavio\n",
    "ax3=df1.T.plot.bar(stacked=True)\n",
    "\n",
    "#vaaka-akselin nimiöiden kääntämäinen ja ylimääräisten asteikkoviivojen poistaminen\n",
    "ax3.tick_params(axis='x', labelrotation=0, length=0)\n",
    "\n",
    "#tässä hieman vaativampaa selitteen tuunausta\n",
    "handles, labels = ax3.get_legend_handles_labels()\n",
    "ax3.legend(reversed(handles), reversed(labels), title='Tyytyväisyys', loc=(1.05,0.5))"
   ]
  }
 ],
 "metadata": {
  "kernelspec": {
   "display_name": "Python 3",
   "language": "python",
   "name": "python3"
  },
  "language_info": {
   "codemirror_mode": {
    "name": "ipython",
    "version": 3
   },
   "file_extension": ".py",
   "mimetype": "text/x-python",
   "name": "python",
   "nbconvert_exporter": "python",
   "pygments_lexer": "ipython3",
   "version": "3.7.2"
  }
 },
 "nbformat": 4,
 "nbformat_minor": 2
}
