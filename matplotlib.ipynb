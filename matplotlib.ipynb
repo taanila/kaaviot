{
 "cells": [
  {
   "cell_type": "markdown",
   "metadata": {},
   "source": [
    "<h2>Dataframe matplotlib-grafiikaksi - perusasiat</h2>\n",
    "\n",
    "<ul><li>Jos teen kaavion suoraan dataframesta (df.plot...), niin käytän pandas-kirjaston matplotlibin pohjalta rakennettua \"viritelmää\" kaavion teosta.\n",
    "    <br>Lue lisää <a href=\"https://pandas.pydata.org/pandas-docs/stable/reference/api/pandas.DataFrame.plot.html\" target=\"_blank\">https://pandas.pydata.org/pandas-docs/stable/reference/api/pandas.DataFrame.plot.html</a></li>\n",
    "<li>matplotlib.pyplot sisältää komentoja kaavion muotoiluun. Aivan kaikkea näillä komennoilla ei saa tehtyä. \n",
    "    <br>Lue lisää <a href=\"https://matplotlib.org/tutorials/introductory/pyplot.html\" target=\"_blank\">https://matplotlib.org/tutorials/introductory/pyplot.html</a></li>\n",
    "    <li>Vannoutuneet olio-ohjelmoijat käyttävät mieluummin kaavion luonnin palauttamaa <b>axes</b>-luokan oliota kaavion muotoiluun.\n",
    "    <br>Lue lisää <a href=\"https://matplotlib.org/api/axes_api.html\" target=\"_blank\">https://matplotlib.org/api/axes_api.html</a></li></ul>\n",
    "    \n",
    "Seuraavassa teen kaaviot suoraan dataframesta ja käytän muotoiluun axes-oliota."
   ]
  },
  {
   "cell_type": "code",
   "execution_count": 1,
   "metadata": {},
   "outputs": [],
   "source": [
    "#Kirjastojen tuonti\n",
    "import pandas as pd\n",
    "import matplotlib.pyplot as plt\n",
    "%matplotlib inline"
   ]
  },
  {
   "cell_type": "markdown",
   "metadata": {},
   "source": [
    "<h3>Valmiit tyylit</h3>\n",
    "\n",
    "Valmista tyyliä käyttämällä saat nopeasti tuunattua grafiikan ulkoasua.\n",
    "\n",
    "Tyylin voit ottaa käyttöön <b>plt.style.use('tyylin nimi')</b> -komennolla."
   ]
  },
  {
   "cell_type": "code",
   "execution_count": 2,
   "metadata": {},
   "outputs": [
    {
     "data": {
      "text/plain": [
       "['bmh',\n",
       " 'classic',\n",
       " 'dark_background',\n",
       " 'fast',\n",
       " 'fivethirtyeight',\n",
       " 'ggplot',\n",
       " 'grayscale',\n",
       " 'seaborn-bright',\n",
       " 'seaborn-colorblind',\n",
       " 'seaborn-dark-palette',\n",
       " 'seaborn-dark',\n",
       " 'seaborn-darkgrid',\n",
       " 'seaborn-deep',\n",
       " 'seaborn-muted',\n",
       " 'seaborn-notebook',\n",
       " 'seaborn-paper',\n",
       " 'seaborn-pastel',\n",
       " 'seaborn-poster',\n",
       " 'seaborn-talk',\n",
       " 'seaborn-ticks',\n",
       " 'seaborn-white',\n",
       " 'seaborn-whitegrid',\n",
       " 'seaborn',\n",
       " 'Solarize_Light2',\n",
       " 'tableau-colorblind10',\n",
       " '_classic_test']"
      ]
     },
     "execution_count": 2,
     "metadata": {},
     "output_type": "execute_result"
    }
   ],
   "source": [
    "#Tarjolla olevien tyylien listaus\n",
    "plt.style.available"
   ]
  },
  {
   "cell_type": "code",
   "execution_count": 3,
   "metadata": {},
   "outputs": [],
   "source": [
    "#plt.style.use('seaborn-whitegrid')"
   ]
  },
  {
   "cell_type": "markdown",
   "metadata": {},
   "source": [
    "<h3>Dataframesta kaavioksi</h3>\n",
    "\n",
    "- <b>df.plot()</b> luo viivakaavion\n",
    "- Muita kaaviolajeja <b>df.plot.bar(), df.plot.barh(), df.plot.hist(), df.plot.scatter(), df.boxplot()</b>\n",
    "- Jos aiot muotoilla kaaviota, niin sijoita se muuttujaan. Kaavion luonti palauttaa axes-luokan olion."
   ]
  },
  {
   "cell_type": "code",
   "execution_count": 4,
   "metadata": {},
   "outputs": [
    {
     "data": {
      "text/html": [
       "<div>\n",
       "<style scoped>\n",
       "    .dataframe tbody tr th:only-of-type {\n",
       "        vertical-align: middle;\n",
       "    }\n",
       "\n",
       "    .dataframe tbody tr th {\n",
       "        vertical-align: top;\n",
       "    }\n",
       "\n",
       "    .dataframe thead th {\n",
       "        text-align: right;\n",
       "    }\n",
       "</style>\n",
       "<table border=\"1\" class=\"dataframe\">\n",
       "  <thead>\n",
       "    <tr style=\"text-align: right;\">\n",
       "      <th></th>\n",
       "      <th>Mies</th>\n",
       "      <th>Nainen</th>\n",
       "    </tr>\n",
       "  </thead>\n",
       "  <tbody>\n",
       "    <tr>\n",
       "      <th>Tyytymätön</th>\n",
       "      <td>17</td>\n",
       "      <td>8</td>\n",
       "    </tr>\n",
       "    <tr>\n",
       "      <th>Ei tyytymätön eikä tyytyväinen</th>\n",
       "      <td>15</td>\n",
       "      <td>15</td>\n",
       "    </tr>\n",
       "    <tr>\n",
       "      <th>Tyytyväinen</th>\n",
       "      <td>6</td>\n",
       "      <td>21</td>\n",
       "    </tr>\n",
       "  </tbody>\n",
       "</table>\n",
       "</div>"
      ],
      "text/plain": [
       "                                Mies  Nainen\n",
       "Tyytymätön                        17       8\n",
       "Ei tyytymätön eikä tyytyväinen    15      15\n",
       "Tyytyväinen                        6      21"
      ]
     },
     "execution_count": 4,
     "metadata": {},
     "output_type": "execute_result"
    }
   ],
   "source": [
    "#Dataframe\n",
    "df = pd.DataFrame({'Mies':[17,15,6],'Nainen':[8,15,21]},\n",
    "                 index=['Tyytymätön','Ei tyytymätön eikä tyytyväinen','Tyytyväinen'])\n",
    "df"
   ]
  },
  {
   "cell_type": "code",
   "execution_count": 5,
   "metadata": {},
   "outputs": [
    {
     "data": {
      "image/png": "[encoded data removed]",
      "text/plain": [
       "<Figure size 432x288 with 1 Axes>"
      ]
     },
     "metadata": {
      "needs_background": "light"
     },
     "output_type": "display_data"
    }
   ],
   "source": [
    "#Tallenna kaavio muuttujaan, joka on axes-luokan olio\n",
    "ax = df.plot.bar()"
   ]
  },
  {
   "cell_type": "markdown",
   "metadata": {},
   "source": [
    "<h3>Otsikot</h3>\n",
    "\n",
    "- Pääotsikko <b>ax.set_title('Otsikko')</b>\n",
    "- Akselien otsikot <b>ax.set_xlabel('x-otsikko'), ax.set_ylabel('y-otsikko')</b>"
   ]
  },
  {
   "cell_type": "code",
   "execution_count": 6,
   "metadata": {},
   "outputs": [
    {
     "data": {
      "text/plain": [
       "Text(0, 0.5, 'Lukumäärä')"
      ]
     },
     "execution_count": 6,
     "metadata": {},
     "output_type": "execute_result"
    },
    {
     "data": {
      "image/png": "[encoded data removed]",
      "text/plain": [
       "<Figure size 432x288 with 1 Axes>"
      ]
     },
     "metadata": {
      "needs_background": "light"
     },
     "output_type": "display_data"
    }
   ],
   "source": [
    "ax=df.plot.bar()\n",
    "\n",
    "ax.set_title('Miesten ja naisten vertailua')\n",
    "ax.set_ylabel('Lukumäärä')"
   ]
  },
  {
   "cell_type": "markdown",
   "metadata": {},
   "source": [
    "<h3>Akselit</h3>\n",
    "\n",
    "- Akselien skaalaus: <b>ax.set_xlim(0, 5), ax.set_ylim(0, 5)</b>\n",
    "- Akselien jakoviivat: <b>ax.set_xticks([1, 2, 3, 4, 5]), ax.set_yticks([])</b>\n",
    "- Akselien jakoviivojen nimiöt: <b>ax.set_xticklabels(['A', 'B', 'C', 'D', 'E'], rotation=0, fontsize=10), ax.set_yticklabels([], rotation=0, fontsize=10)</b>\n",
    "- Akselien jakoviivojen tuunausta: <b>ax.tick_params(axis='both', labelrotation=0, length=0)</b>\n",
    "- Jakoviivojen numeromutoilua: <b>ax.set_xticklabels(['{:.0f} %'.format(x) for x in ax.get_xticks()])</b>\n",
    "- Akselien kääntö: <b>ax.invert_xaxis(), ax.invert_yaxis()</b>\n",
    "- Jakoviivojen mukainen taustaviivoitus: <b>ax.grid(axis='x'), ax.grid(axis='y')</b>\n",
    "- Taustaviivoitus pylväiden ym. taakse: <b>ax.set_axisbelow(True)</b>"
   ]
  },
  {
   "cell_type": "code",
   "execution_count": 7,
   "metadata": {},
   "outputs": [
    {
     "data": {
      "image/png": "[encoded data removed]",
      "text/plain": [
       "<Figure size 432x288 with 1 Axes>"
      ]
     },
     "metadata": {
      "needs_background": "light"
     },
     "output_type": "display_data"
    }
   ],
   "source": [
    "ax=df.plot.bar()\n",
    "\n",
    "ax.set_title('Miesten ja naisten vertailua')\n",
    "ax.set_ylabel('Lukumäärä')\n",
    "\n",
    "ax.set_yticks([5, 10, 15, 20])\n",
    "ax.tick_params(axis='x', labelrotation=45, length=0)\n",
    "ax.grid(axis='y')\n",
    "ax.set_axisbelow(True)"
   ]
  },
  {
   "cell_type": "markdown",
   "metadata": {},
   "source": [
    "<h3>Selite</h3>\n",
    "\n",
    "- Selitteen piilotus: <b>ax.legend().set_visible(False)</b>\n",
    "- Selitteen sijainti ja sarakkeiden määrä: <b>ax.legend(loc='lower center', bbox_to_anchor=(0.5, -0.25), ncol=3)</b>\n",
    "\n",
    "Lisätietoa legend-oliosta: https://matplotlib.org/api/_as_gen/matplotlib.pyplot.legend.html"
   ]
  },
  {
   "cell_type": "code",
   "execution_count": 8,
   "metadata": {},
   "outputs": [
    {
     "data": {
      "text/plain": [
       "<matplotlib.legend.Legend at 0x1eda0750b00>"
      ]
     },
     "execution_count": 8,
     "metadata": {},
     "output_type": "execute_result"
    },
    {
     "data": {
      "image/png": "[encoded data removed]",
      "text/plain": [
       "<Figure size 432x288 with 1 Axes>"
      ]
     },
     "metadata": {
      "needs_background": "light"
     },
     "output_type": "display_data"
    }
   ],
   "source": [
    "ax=df.plot.bar()\n",
    "\n",
    "ax.set_title('Miesten ja naisten vertailua')\n",
    "ax.set_ylabel('Lukumäärä')\n",
    "ax.set_yticks([5, 10, 15, 20])\n",
    "ax.tick_params(axis='x', labelrotation=45, length=0)\n",
    "ax.grid(axis='y')\n",
    "ax.set_axisbelow(True)\n",
    "\n",
    "ax.legend(ncol=2)"
   ]
  },
  {
   "cell_type": "markdown",
   "metadata": {},
   "source": [
    "<h3>Fontti</h3>\n",
    "\n",
    "- Oletusasetusten palautus <b>plt.rcdefaults()</b>"
   ]
  },
  {
   "cell_type": "code",
   "execution_count": 9,
   "metadata": {},
   "outputs": [
    {
     "data": {
      "image/png": "[encoded data removed]",
      "text/plain": [
       "<Figure size 432x288 with 1 Axes>"
      ]
     },
     "metadata": {
      "needs_background": "light"
     },
     "output_type": "display_data"
    }
   ],
   "source": [
    "ax=df.plot.bar()\n",
    "\n",
    "ax.set_title('Miesten ja naisten vertailua')\n",
    "ax.set_ylabel('Lukumäärä')\n",
    "ax.set_yticks([5, 10, 15, 20])\n",
    "ax.tick_params(axis='x', labelrotation=45, length=0)\n",
    "ax.grid(axis='y')\n",
    "ax.set_axisbelow(True)\n",
    "ax.legend(ncol=2)\n",
    "\n",
    "plt.rcParams['font.sans-serif'] = \"Arial\"\n",
    "plt.rcParams['font.family'] = \"sans-serif\""
   ]
  },
  {
   "cell_type": "markdown",
   "metadata": {},
   "source": [
    "<h3>Kuvion tallentaminen</h3>\n",
    "\n",
    "- Tiedostonimen tarkennin määrittää tallennusformaatin\n",
    "- Ilman lisäparametria <b>bbox_inches='tight'</b> kaavion reunoilta voi jäädä osia tallentumatta"
   ]
  },
  {
   "cell_type": "code",
   "execution_count": 10,
   "metadata": {},
   "outputs": [
    {
     "data": {
      "text/plain": [
       "{'ps': 'Postscript',\n",
       " 'eps': 'Encapsulated Postscript',\n",
       " 'pdf': 'Portable Document Format',\n",
       " 'pgf': 'PGF code for LaTeX',\n",
       " 'png': 'Portable Network Graphics',\n",
       " 'raw': 'Raw RGBA bitmap',\n",
       " 'rgba': 'Raw RGBA bitmap',\n",
       " 'svg': 'Scalable Vector Graphics',\n",
       " 'svgz': 'Scalable Vector Graphics',\n",
       " 'jpg': 'Joint Photographic Experts Group',\n",
       " 'jpeg': 'Joint Photographic Experts Group',\n",
       " 'tif': 'Tagged Image File Format',\n",
       " 'tiff': 'Tagged Image File Format'}"
      ]
     },
     "execution_count": 10,
     "metadata": {},
     "output_type": "execute_result"
    },
    {
     "data": {
      "text/plain": [
       "<Figure size 432x288 with 0 Axes>"
      ]
     },
     "metadata": {},
     "output_type": "display_data"
    }
   ],
   "source": [
    "plt.gcf().canvas.get_supported_filetypes()"
   ]
  },
  {
   "cell_type": "code",
   "execution_count": 11,
   "metadata": {},
   "outputs": [
    {
     "data": {
      "text/plain": [
       "<Figure size 432x288 with 0 Axes>"
      ]
     },
     "metadata": {},
     "output_type": "display_data"
    }
   ],
   "source": [
    "plt.savefig('testi.png', dpi=400, bbox_inches='tight')"
   ]
  },
  {
   "cell_type": "markdown",
   "metadata": {},
   "source": [
    "<h3>Usean kaavion kuviot</h3>\n",
    "\n",
    "- Kaavio on aina <b>figure</b> (kuvio) -olion sisällä. \n",
    "- <b>Figure</b>-olion sisään voin sijoittaa useita kaavioita <b>plt.subplots()</b>-funktiolla\n",
    "- <b>plt.subplots()</b> palauttaa <b>figure</b>-olion ja kokoelman <b>axes</b>-olioista."
   ]
  },
  {
   "cell_type": "code",
   "execution_count": 12,
   "metadata": {},
   "outputs": [
    {
     "data": {
      "image/png": "[encoded data removed]",
      "text/plain": [
       "<Figure size 432x288 with 4 Axes>"
      ]
     },
     "metadata": {
      "needs_background": "light"
     },
     "output_type": "display_data"
    }
   ],
   "source": [
    "#2x2 kaaviomatriisi\n",
    "#sharex- ja sharey-lisäparametreilla asetan yhteiset akselit\n",
    "fig, axes = plt.subplots(2, 2, sharex=True, sharey=True)\n",
    "\n",
    "#Figuren otsikko\n",
    "fig.suptitle('Miesten ja naisten vertailua', fontsize=12, fontweight='bold')\n",
    "\n",
    "df['Mies'].plot.barh(ax=axes[0,0])\n",
    "df['Nainen'].plot.barh(stacked=True, color='C1', ax=axes[0,1])\n",
    "df.plot.barh(ax=axes[1,0])\n",
    "df.plot.barh(stacked=True, ax=axes[1,1])\n",
    "\n",
    "#kaaviot kiinni toisiinsa\n",
    "plt.subplots_adjust(wspace=0, hspace=0)"
   ]
  }
 ],
 "metadata": {
  "kernelspec": {
   "display_name": "Python 3",
   "language": "python",
   "name": "python3"
  },
  "language_info": {
   "codemirror_mode": {
    "name": "ipython",
    "version": 3
   },
   "file_extension": ".py",
   "mimetype": "text/x-python",
   "name": "python",
   "nbconvert_exporter": "python",
   "pygments_lexer": "ipython3",
   "version": "3.7.3"
  }
 },
 "nbformat": 4,
 "nbformat_minor": 2
}
