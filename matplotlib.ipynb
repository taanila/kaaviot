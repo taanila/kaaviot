{
 "cells": [
  {
   "cell_type": "markdown",
   "metadata": {},
   "source": [
    "<h2>Dataframe matplotlib-grafiikaksi - perusasiat</h2>\n",
    "\n",
    "<ul><li>Jos teen kaavion suoraan dataframesta (df.plot...), niin käytän pandas-kirjastoon matplotlibin pohjalta rakennettua \"viritelmää\" kaavion teosta.\n",
    "    <br>Lue lisää <a href=\"https://pandas.pydata.org/pandas-docs/stable/reference/api/pandas.DataFrame.plot.html\" target=\"_blank\">https://pandas.pydata.org/pandas-docs/stable/reference/api/pandas.DataFrame.plot.html</a></li>\n",
    "<li>matplotlib.pyplot sisältää komentoja kaavion muotoiluun. Aivan kaikkea näillä komennoilla ei saa tehtyä. \n",
    "    <br>Lue lisää <a href=\"https://matplotlib.org/tutorials/introductory/pyplot.html\" target=\"_blank\">https://matplotlib.org/tutorials/introductory/pyplot.html</a> ja <a href=\"https://matplotlib.org/api/pyplot_summary.html\" target=\"_blank\">https://matplotlib.org/api/pyplot_summary.html</a></li>\n",
    "    <li>Vannoutuneet olio-ohjelmoijat käyttävät mieluummin kaavion luonnin palauttamaa <b>Axes</b>-luokan oliota kaavion muotoiluun.\n",
    "    <br>Lue lisää <a href=\"https://matplotlib.org/api/axes_api.html\" target=\"_blank\">https://matplotlib.org/api/axes_api.html</a></li></ul>\n",
    "    \n",
    "Seuraavassa teen kaaviot suoraan dataframesta ja käytän muotoiluun matplot.pyplot-komentoja (plt...)."
   ]
  },
  {
   "cell_type": "code",
   "execution_count": 1,
   "metadata": {},
   "outputs": [],
   "source": [
    "import pandas as pd\n",
    "import matplotlib.pyplot as plt"
   ]
  },
  {
   "cell_type": "code",
   "execution_count": 2,
   "metadata": {},
   "outputs": [
    {
     "data": {
      "text/html": [
       "<div>\n",
       "<style scoped>\n",
       "    .dataframe tbody tr th:only-of-type {\n",
       "        vertical-align: middle;\n",
       "    }\n",
       "\n",
       "    .dataframe tbody tr th {\n",
       "        vertical-align: top;\n",
       "    }\n",
       "\n",
       "    .dataframe thead th {\n",
       "        text-align: right;\n",
       "    }\n",
       "</style>\n",
       "<table border=\"1\" class=\"dataframe\">\n",
       "  <thead>\n",
       "    <tr style=\"text-align: right;\">\n",
       "      <th></th>\n",
       "      <th>Myynti 2017</th>\n",
       "    </tr>\n",
       "  </thead>\n",
       "  <tbody>\n",
       "    <tr>\n",
       "      <th>Helsinki</th>\n",
       "      <td>1321847</td>\n",
       "    </tr>\n",
       "    <tr>\n",
       "      <th>Turku</th>\n",
       "      <td>852669</td>\n",
       "    </tr>\n",
       "    <tr>\n",
       "      <th>Tampere</th>\n",
       "      <td>1032199</td>\n",
       "    </tr>\n",
       "    <tr>\n",
       "      <th>Oulu</th>\n",
       "      <td>568230</td>\n",
       "    </tr>\n",
       "  </tbody>\n",
       "</table>\n",
       "</div>"
      ],
      "text/plain": [
       "          Myynti 2017\n",
       "Helsinki      1321847\n",
       "Turku          852669\n",
       "Tampere       1032199\n",
       "Oulu           568230"
      ]
     },
     "execution_count": 2,
     "metadata": {},
     "output_type": "execute_result"
    }
   ],
   "source": [
    "# Luon dataframen\n",
    "df1 = pd.DataFrame({'Myynti 2017': [1321847, 852669, 1032199, 568230]},\n",
    "                  index = ['Helsinki', 'Turku', 'Tampere', 'Oulu'])\n",
    "df1"
   ]
  },
  {
   "cell_type": "markdown",
   "metadata": {},
   "source": [
    "<h3>Dataframesta kaavioksi</h3>\n",
    "\n",
    "- <b>df.plot()</b> luo oletuksena viivakaavion\n",
    "- Muita kaaviolajeja <b>df.plot.bar(), df.plot.barh(), df.plot.hist(), df.plot.scatter(), df.box()</b>"
   ]
  },
  {
   "cell_type": "code",
   "execution_count": 3,
   "metadata": {},
   "outputs": [
    {
     "data": {
      "text/plain": [
       "<AxesSubplot:>"
      ]
     },
     "execution_count": 3,
     "metadata": {},
     "output_type": "execute_result"
    },
    {
     "data": {
      "image/png": "[encoded data removed]",
      "text/plain": [
       "<Figure size 432x288 with 1 Axes>"
      ]
     },
     "metadata": {
      "needs_background": "light"
     },
     "output_type": "display_data"
    }
   ],
   "source": [
    "# Myynnit vaakapylväskaaviona\n",
    "df1.plot.barh()"
   ]
  },
  {
   "cell_type": "code",
   "execution_count": 4,
   "metadata": {},
   "outputs": [
    {
     "data": {
      "image/png": "[encoded data removed]",
      "text/plain": [
       "<Figure size 432x288 with 1 Axes>"
      ]
     },
     "metadata": {
      "needs_background": "light"
     },
     "output_type": "display_data"
    }
   ],
   "source": [
    "# Pientä tuunausta kaavion luonnin yhteyteen: \n",
    "# selite piiloon, pylvään leveyden määritys, pylväät taustaviivoitusten yläpuolelle\n",
    "(df1 / 1000000).plot.barh(legend = False, width = 0.7, zorder = 2)\n",
    "\n",
    "# Otsikoita\n",
    "plt.title('Myynnit vuonna 2017')\n",
    "plt.xlabel('Miljoonaa euroa')\n",
    "\n",
    "# Taustaviivoitus x-akselin mukaan\n",
    "plt.grid(axis = 'x')"
   ]
  },
  {
   "cell_type": "code",
   "execution_count": 5,
   "metadata": {},
   "outputs": [
    {
     "data": {
      "text/html": [
       "<div>\n",
       "<style scoped>\n",
       "    .dataframe tbody tr th:only-of-type {\n",
       "        vertical-align: middle;\n",
       "    }\n",
       "\n",
       "    .dataframe tbody tr th {\n",
       "        vertical-align: top;\n",
       "    }\n",
       "\n",
       "    .dataframe thead th {\n",
       "        text-align: right;\n",
       "    }\n",
       "</style>\n",
       "<table border=\"1\" class=\"dataframe\">\n",
       "  <thead>\n",
       "    <tr style=\"text-align: right;\">\n",
       "      <th></th>\n",
       "      <th>Myynti 2017</th>\n",
       "      <th>Myynti 2016</th>\n",
       "    </tr>\n",
       "  </thead>\n",
       "  <tbody>\n",
       "    <tr>\n",
       "      <th>Helsinki</th>\n",
       "      <td>1321847</td>\n",
       "      <td>1203434</td>\n",
       "    </tr>\n",
       "    <tr>\n",
       "      <th>Turku</th>\n",
       "      <td>852669</td>\n",
       "      <td>923450</td>\n",
       "    </tr>\n",
       "    <tr>\n",
       "      <th>Tampere</th>\n",
       "      <td>1032199</td>\n",
       "      <td>1023563</td>\n",
       "    </tr>\n",
       "    <tr>\n",
       "      <th>Oulu</th>\n",
       "      <td>568230</td>\n",
       "      <td>542399</td>\n",
       "    </tr>\n",
       "  </tbody>\n",
       "</table>\n",
       "</div>"
      ],
      "text/plain": [
       "          Myynti 2017  Myynti 2016\n",
       "Helsinki      1321847      1203434\n",
       "Turku          852669       923450\n",
       "Tampere       1032199      1023563\n",
       "Oulu           568230       542399"
      ]
     },
     "execution_count": 5,
     "metadata": {},
     "output_type": "execute_result"
    }
   ],
   "source": [
    "# Teen uuden dataframen\n",
    "df2 = pd.DataFrame({'Myynti 2017': [1321847, 852669, 1032199, 568230],\n",
    "       'Myynti 2016': [1203434, 923450, 1023563, 542399]},\n",
    "       index = ['Helsinki', 'Turku', 'Tampere', 'Oulu'])\n",
    "df2"
   ]
  },
  {
   "cell_type": "code",
   "execution_count": 6,
   "metadata": {},
   "outputs": [
    {
     "data": {
      "text/plain": [
       "<matplotlib.legend.Legend at 0x143c7f5fe20>"
      ]
     },
     "execution_count": 6,
     "metadata": {},
     "output_type": "execute_result"
    },
    {
     "data": {
      "image/png": "[encoded data removed]",
      "text/plain": [
       "<Figure size 432x288 with 1 Axes>"
      ]
     },
     "metadata": {
      "needs_background": "light"
     },
     "output_type": "display_data"
    }
   ],
   "source": [
    "# Luokka-akselin nimiöiden asennon säätö (rot=0)\n",
    "(df2 / 1000000).plot.bar(rot = 0)\n",
    "\n",
    "# y-akselin otsikko\n",
    "plt.ylabel('Miljoonaa euroa')\n",
    "\n",
    "# Selitteeseen 2 saraketta (selitteet vierekkäin)\n",
    "plt.legend(ncol = 2)"
   ]
  },
  {
   "cell_type": "code",
   "execution_count": 7,
   "metadata": {
    "scrolled": true
   },
   "outputs": [
    {
     "data": {
      "text/plain": [
       "Text(0, 0.5, 'Miljoonaa euroa')"
      ]
     },
     "execution_count": 7,
     "metadata": {},
     "output_type": "execute_result"
    },
    {
     "data": {
      "image/png": "[encoded data removed]",
      "text/plain": [
       "<Figure size 432x288 with 1 Axes>"
      ]
     },
     "metadata": {
      "needs_background": "light"
     },
     "output_type": "display_data"
    }
   ],
   "source": [
    "# legend='reverse' kääntää selitteen järjestyksen\n",
    "# rot = 0 määrittää luokka-akselin nimiöiden asennon\n",
    "# stacked = True pinoaa pylväät päällekkäin\n",
    "# width = 0.7 määrittää pylväiden leveyden (enintään 1)\n",
    "\n",
    "(df2 / 1000000).plot.bar(legend = 'reverse', rot = 0, stacked = True, width = 0.7)\n",
    "\n",
    "# Otsikoinnit\n",
    "plt.title('Myynti vuosina 2016 ja 2017')\n",
    "plt.xlabel('Alue')\n",
    "plt.ylabel('Miljoonaa euroa')"
   ]
  },
  {
   "cell_type": "code",
   "execution_count": 8,
   "metadata": {},
   "outputs": [
    {
     "data": {
      "text/html": [
       "<div>\n",
       "<style scoped>\n",
       "    .dataframe tbody tr th:only-of-type {\n",
       "        vertical-align: middle;\n",
       "    }\n",
       "\n",
       "    .dataframe tbody tr th {\n",
       "        vertical-align: top;\n",
       "    }\n",
       "\n",
       "    .dataframe thead th {\n",
       "        text-align: right;\n",
       "    }\n",
       "</style>\n",
       "<table border=\"1\" class=\"dataframe\">\n",
       "  <thead>\n",
       "    <tr style=\"text-align: right;\">\n",
       "      <th></th>\n",
       "      <th>Mies</th>\n",
       "      <th>Nainen</th>\n",
       "    </tr>\n",
       "  </thead>\n",
       "  <tbody>\n",
       "    <tr>\n",
       "      <th>Tyytymätön</th>\n",
       "      <td>17</td>\n",
       "      <td>8</td>\n",
       "    </tr>\n",
       "    <tr>\n",
       "      <th>Ei tyytymätön eikä tyytyväinen</th>\n",
       "      <td>15</td>\n",
       "      <td>15</td>\n",
       "    </tr>\n",
       "    <tr>\n",
       "      <th>Tyytyväinen</th>\n",
       "      <td>6</td>\n",
       "      <td>21</td>\n",
       "    </tr>\n",
       "  </tbody>\n",
       "</table>\n",
       "</div>"
      ],
      "text/plain": [
       "                                Mies  Nainen\n",
       "Tyytymätön                        17       8\n",
       "Ei tyytymätön eikä tyytyväinen    15      15\n",
       "Tyytyväinen                        6      21"
      ]
     },
     "execution_count": 8,
     "metadata": {},
     "output_type": "execute_result"
    }
   ],
   "source": [
    "# Teen uuden dataframen\n",
    "df3 = pd.DataFrame({'Mies' : [17, 15, 6],'Nainen' : [8, 15, 21]},\n",
    "                  index = ['Tyytymätön', 'Ei tyytymätön eikä tyytyväinen', 'Tyytyväinen'])\n",
    "df3"
   ]
  },
  {
   "cell_type": "code",
   "execution_count": 9,
   "metadata": {},
   "outputs": [
    {
     "data": {
      "text/plain": [
       "<AxesSubplot:>"
      ]
     },
     "execution_count": 9,
     "metadata": {},
     "output_type": "execute_result"
    },
    {
     "data": {
      "image/png": "[encoded data removed]",
      "text/plain": [
       "<Figure size 432x288 with 1 Axes>"
      ]
     },
     "metadata": {
      "needs_background": "light"
     },
     "output_type": "display_data"
    }
   ],
   "source": [
    "# Kaavio ilman tuunausta\n",
    "df3.plot.bar()"
   ]
  },
  {
   "cell_type": "code",
   "execution_count": 10,
   "metadata": {},
   "outputs": [
    {
     "data": {
      "image/png": "[encoded data removed]",
      "text/plain": [
       "<Figure size 432x288 with 1 Axes>"
      ]
     },
     "metadata": {
      "needs_background": "light"
     },
     "output_type": "display_data"
    }
   ],
   "source": [
    "df3.plot.bar(rot = 45, zorder = 2)\n",
    "\n",
    "plt.title('Miesten ja naisten vertailua')\n",
    "\n",
    "# Asetan y-akselin ticksit itse\n",
    "plt.yticks([5, 10, 15, 20])\n",
    "\n",
    "# y-akselin mukainen taustaviivoitus\n",
    "plt.grid(axis = 'y')\n",
    "\n",
    "# Selite kahteen sarakkeeseen\n",
    "plt.legend(ncol = 2)\n",
    "\n",
    "# Tallennan kaavion tai tarkkaan ottaen tallenna kuvion (figure), jonka sisällä kaavio on\n",
    "# Kuvioon (figure) pääsen käsiksi plt.gcf() -funktiolla (get current figure)\n",
    "# Ilman parametria bbox_inches = 'tight' kuvion reunoilta voi jäädä osia tallentumatta\n",
    "plt.gcf().savefig('testi.png', bbox_inches = 'tight')"
   ]
  },
  {
   "cell_type": "code",
   "execution_count": 11,
   "metadata": {},
   "outputs": [
    {
     "data": {
      "text/plain": [
       "{'eps': 'Encapsulated Postscript',\n",
       " 'jpg': 'Joint Photographic Experts Group',\n",
       " 'jpeg': 'Joint Photographic Experts Group',\n",
       " 'pdf': 'Portable Document Format',\n",
       " 'pgf': 'PGF code for LaTeX',\n",
       " 'png': 'Portable Network Graphics',\n",
       " 'ps': 'Postscript',\n",
       " 'raw': 'Raw RGBA bitmap',\n",
       " 'rgba': 'Raw RGBA bitmap',\n",
       " 'svg': 'Scalable Vector Graphics',\n",
       " 'svgz': 'Scalable Vector Graphics',\n",
       " 'tif': 'Tagged Image File Format',\n",
       " 'tiff': 'Tagged Image File Format'}"
      ]
     },
     "execution_count": 11,
     "metadata": {},
     "output_type": "execute_result"
    },
    {
     "data": {
      "text/plain": [
       "<Figure size 432x288 with 0 Axes>"
      ]
     },
     "metadata": {},
     "output_type": "display_data"
    }
   ],
   "source": [
    "# Tällä selvitän tarjolla olevat kaavion tallennusmuodot\n",
    "plt.figure().canvas.get_supported_filetypes()"
   ]
  },
  {
   "cell_type": "markdown",
   "metadata": {},
   "source": [
    "<h3>Usean kaavion kuviot</h3>\n",
    "\n",
    "- Kaavio on aina <b>figure</b> (kuvio) -olion sisällä. \n",
    "- <b>Figure</b>-olion sisään voin sijoittaa useita kaavioita <b>plt.subplots</b>-toiminnolla\n",
    "- <b>plt.subplots</b> palauttaa <b>figure</b>-olion ja kokoelman <b>Axes</b>-olioita."
   ]
  },
  {
   "cell_type": "code",
   "execution_count": 12,
   "metadata": {},
   "outputs": [
    {
     "data": {
      "image/png": "[encoded data removed]",
      "text/plain": [
       "<Figure size 432x288 with 4 Axes>"
      ]
     },
     "metadata": {
      "needs_background": "light"
     },
     "output_type": "display_data"
    }
   ],
   "source": [
    "# 2x2 kaaviomatriisi\n",
    "# sharex- ja sharey-lisäparametreilla asetan yhteiset akselit\n",
    "fig, ax = plt.subplots(2, 2, sharex = True, sharey = True)\n",
    "\n",
    "# Kuvion (figure) otsikko\n",
    "fig.suptitle('Miesten ja naisten vertailua', fontsize = 12, fontweight = 'bold')\n",
    "\n",
    "# Vasemman yläkulman kaavio\n",
    "df3['Mies'].plot.barh(ax = ax[0,0])\n",
    "\n",
    "# Oikean yläkulman kaavio; värinä väripaletin toinen väri (C1)\n",
    "df3['Nainen'].plot.barh(color = 'C1', ax = ax[0, 1])\n",
    "\n",
    "# Vasemman alakulman kaavio\n",
    "df3.plot.barh(legend = 'reverse', ax = ax[1, 0])\n",
    "\n",
    "# Oikean alakulman kaavio\n",
    "df3.plot.barh(legend = False, stacked = True, ax = ax[1, 1])\n",
    "\n",
    "# Tallennan kuvion\n",
    "# Ilman lisäparametria bbox_inches='tight' kuvion reunoilta voi jäädä osia tallentumatta\n",
    "fig.savefig('testi2.png', bbox_inches = 'tight')"
   ]
  },
  {
   "cell_type": "markdown",
   "metadata": {},
   "source": [
    "<h3>Valmiit tyylit</h3>\n",
    "\n",
    "Valmista tyyliä käyttämällä saat nopeasti tuunattua grafiikan ulkoasua.\n",
    "\n",
    "Tyylin voit ottaa käyttöön komennolla <b>plt.style.use('tyylin nimi')</b>"
   ]
  },
  {
   "cell_type": "code",
   "execution_count": 13,
   "metadata": {},
   "outputs": [
    {
     "data": {
      "text/plain": [
       "['Solarize_Light2',\n",
       " '_classic_test_patch',\n",
       " 'bmh',\n",
       " 'classic',\n",
       " 'dark_background',\n",
       " 'fast',\n",
       " 'fivethirtyeight',\n",
       " 'ggplot',\n",
       " 'grayscale',\n",
       " 'seaborn',\n",
       " 'seaborn-bright',\n",
       " 'seaborn-colorblind',\n",
       " 'seaborn-dark',\n",
       " 'seaborn-dark-palette',\n",
       " 'seaborn-darkgrid',\n",
       " 'seaborn-deep',\n",
       " 'seaborn-muted',\n",
       " 'seaborn-notebook',\n",
       " 'seaborn-paper',\n",
       " 'seaborn-pastel',\n",
       " 'seaborn-poster',\n",
       " 'seaborn-talk',\n",
       " 'seaborn-ticks',\n",
       " 'seaborn-white',\n",
       " 'seaborn-whitegrid',\n",
       " 'tableau-colorblind10']"
      ]
     },
     "execution_count": 13,
     "metadata": {},
     "output_type": "execute_result"
    }
   ],
   "source": [
    "# Tarjolla olevien tyylien listaus\n",
    "plt.style.available"
   ]
  },
  {
   "cell_type": "code",
   "execution_count": 14,
   "metadata": {},
   "outputs": [
    {
     "data": {
      "text/plain": [
       "Text(0.5, 0, 'Miljoonaa euroa')"
      ]
     },
     "execution_count": 14,
     "metadata": {},
     "output_type": "execute_result"
    },
    {
     "data": {
      "image/png": "[encoded data removed]",
      "text/plain": [
       "<Figure size 432x288 with 1 Axes>"
      ]
     },
     "metadata": {},
     "output_type": "display_data"
    }
   ],
   "source": [
    "# Esimerkkinä ggplot-tyyli\n",
    "plt.style.use('ggplot')\n",
    "\n",
    "(df2 / 1000000).plot.barh()\n",
    "\n",
    "plt.xlabel('Miljoonaa euroa')"
   ]
  },
  {
   "cell_type": "markdown",
   "metadata": {},
   "source": [
    "<h2>Lisätietoa</h2>\n",
    "\n",
    "Osaat paljon enemmän, jos käyt läpi seitsemänosaisen notebook-sarjani matplotlibin perusteista. Aloita tästä:\n",
    "\n",
    "https://nbviewer.jupyter.org/github/taanila/kaaviot/blob/master/matplotlib1.ipynb"
   ]
  }
 ],
 "metadata": {
  "kernelspec": {
   "display_name": "Python 3",
   "language": "python",
   "name": "python3"
  },
  "language_info": {
   "codemirror_mode": {
    "name": "ipython",
    "version": 3
   },
   "file_extension": ".py",
   "mimetype": "text/x-python",
   "name": "python",
   "nbconvert_exporter": "python",
   "pygments_lexer": "ipython3",
   "version": "3.8.5"
  }
 },
 "nbformat": 4,
 "nbformat_minor": 2
}
