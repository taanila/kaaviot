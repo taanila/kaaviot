{
 "cells": [
  {
   "cell_type": "markdown",
   "metadata": {},
   "source": [
    "<h2>Dataframe matplotlib-grafiikaksi - perusasiat</h2>\n",
    "\n",
    "<ul><li>Jos teen kaavion suoraan dataframesta (df.plot...), niin käytän pandas-kirjaston matplotlibin pohjalta rakennettua \"viritelmää\" kaavion teosta.\n",
    "    <br>Lue lisää <a href=\"https://pandas.pydata.org/pandas-docs/stable/reference/api/pandas.DataFrame.plot.html\" target=\"_blank\">https://pandas.pydata.org/pandas-docs/stable/reference/api/pandas.DataFrame.plot.html</a></li>\n",
    "<li>matplotlib.pyplot sisältää komentoja kaavion muotoiluun. Aivan kaikkea näillä komennoilla ei saa tehtyä. \n",
    "    <br>Lue lisää <a href=\"https://matplotlib.org/tutorials/introductory/pyplot.html\" target=\"_blank\">https://matplotlib.org/tutorials/introductory/pyplot.html</a> ja <a href=\"https://matplotlib.org/api/pyplot_summary.html\" target=\"_blank\">https://matplotlib.org/api/pyplot_summary.html</a></li>\n",
    "    <li>Vannoutuneet olio-ohjelmoijat käyttävät mieluummin kaavion luonnin palauttamaa <b>Axes</b>-luokan oliota kaavion muotoiluun.\n",
    "    <br>Lue lisää <a href=\"https://matplotlib.org/api/axes_api.html\" target=\"_blank\">https://matplotlib.org/api/axes_api.html</a></li></ul>\n",
    "    \n",
    "Seuraavassa teen kaaviot suoraan dataframesta ja käytän muotoiluun Axes-oliota."
   ]
  },
  {
   "cell_type": "code",
   "execution_count": 1,
   "metadata": {},
   "outputs": [],
   "source": [
    "# Tuon kirjastot\n",
    "import pandas as pd\n",
    "import matplotlib.pyplot as plt\n",
    "\n",
    "# Seuraavan ansiosta kaaviot tulostuvat Jupyter-notebookiin ilman erillistä komentoa\n",
    "%matplotlib inline"
   ]
  },
  {
   "cell_type": "code",
   "execution_count": 2,
   "metadata": {},
   "outputs": [
    {
     "data": {
      "text/html": [
       "<div>\n",
       "<style scoped>\n",
       "    .dataframe tbody tr th:only-of-type {\n",
       "        vertical-align: middle;\n",
       "    }\n",
       "\n",
       "    .dataframe tbody tr th {\n",
       "        vertical-align: top;\n",
       "    }\n",
       "\n",
       "    .dataframe thead th {\n",
       "        text-align: right;\n",
       "    }\n",
       "</style>\n",
       "<table border=\"1\" class=\"dataframe\">\n",
       "  <thead>\n",
       "    <tr style=\"text-align: right;\">\n",
       "      <th></th>\n",
       "      <th>Myynti 2017</th>\n",
       "    </tr>\n",
       "  </thead>\n",
       "  <tbody>\n",
       "    <tr>\n",
       "      <th>Helsinki</th>\n",
       "      <td>1321847</td>\n",
       "    </tr>\n",
       "    <tr>\n",
       "      <th>Turku</th>\n",
       "      <td>852669</td>\n",
       "    </tr>\n",
       "    <tr>\n",
       "      <th>Tampere</th>\n",
       "      <td>1032199</td>\n",
       "    </tr>\n",
       "    <tr>\n",
       "      <th>Oulu</th>\n",
       "      <td>568230</td>\n",
       "    </tr>\n",
       "  </tbody>\n",
       "</table>\n",
       "</div>"
      ],
      "text/plain": [
       "          Myynti 2017\n",
       "Helsinki      1321847\n",
       "Turku          852669\n",
       "Tampere       1032199\n",
       "Oulu           568230"
      ]
     },
     "execution_count": 2,
     "metadata": {},
     "output_type": "execute_result"
    }
   ],
   "source": [
    "# Luon dataframen\n",
    "df1 = pd.DataFrame({'Myynti 2017': [1321847, 852669, 1032199, 568230]},\n",
    "                  index = ['Helsinki', 'Turku', 'Tampere', 'Oulu'])\n",
    "df1"
   ]
  },
  {
   "cell_type": "markdown",
   "metadata": {},
   "source": [
    "<h3>Dataframesta kaavioksi</h3>\n",
    "\n",
    "- <b>df.plot()</b> luo oletuksena viivakaavion\n",
    "- Muita kaaviolajeja <b>df.plot.bar(), df.plot.barh(), df.plot.hist(), df.plot.scatter(), df.box()</b>\n",
    "- Jos aiot muotoilla kaaviota, niin sijoita se muuttujaan. Kaavion luonti palauttaa <b>Axes</b>-luokan olion."
   ]
  },
  {
   "cell_type": "code",
   "execution_count": 3,
   "metadata": {},
   "outputs": [
    {
     "data": {
      "text/plain": [
       "<matplotlib.axes._subplots.AxesSubplot at 0x1d31a3efac8>"
      ]
     },
     "execution_count": 3,
     "metadata": {},
     "output_type": "execute_result"
    },
    {
     "data": {
      "image/png": "[encoded data removed]",
      "text/plain": [
       "<Figure size 432x288 with 1 Axes>"
      ]
     },
     "metadata": {
      "needs_background": "light"
     },
     "output_type": "display_data"
    }
   ],
   "source": [
    "# Myynnit vaakapylväskaaviona\n",
    "df1.plot.barh()"
   ]
  },
  {
   "cell_type": "code",
   "execution_count": 4,
   "metadata": {},
   "outputs": [
    {
     "data": {
      "image/png": "[encoded data removed]",
      "text/plain": [
       "<Figure size 432x288 with 1 Axes>"
      ]
     },
     "metadata": {
      "needs_background": "light"
     },
     "output_type": "display_data"
    }
   ],
   "source": [
    "# Pientä tuunausta kaavion luonnin yhteyteen (selite piiloon, pylvään leveyden määritys)\n",
    "ax1 = df1.plot.barh(legend=False, width=0.7)\n",
    "\n",
    "# Otsikoita\n",
    "ax1.set_title('Myynnit vuonna 2017')\n",
    "ax1.set_xlabel('Miljoonaa euroa')\n",
    "\n",
    "# Useimpiin määrittelyihin löytyy matplotlib.pyplot-vastine\n",
    "# Otsikot voisin määritellä myös seuraavasti:\n",
    "#plt.title('Myynnit vuonna 2017')\n",
    "#plt.xlabel('Miljoonaa euroa')\n",
    "\n",
    "# Haen x-akselin ticksit ja muotoilen miljooniksi yhdellä desimaalilla\n",
    "ax1.set_xticklabels(['{:.1f}'.format(x/1000000) for x in ax1.get_xticks()])\n",
    "\n",
    "# Taustaviivoitus x-akselin mukaan\n",
    "ax1.grid(axis='x')\n",
    "\n",
    "# Taustaviivoitus pylväiden taakse\n",
    "ax1.set_axisbelow(True)"
   ]
  },
  {
   "cell_type": "code",
   "execution_count": 5,
   "metadata": {},
   "outputs": [
    {
     "data": {
      "text/html": [
       "<div>\n",
       "<style scoped>\n",
       "    .dataframe tbody tr th:only-of-type {\n",
       "        vertical-align: middle;\n",
       "    }\n",
       "\n",
       "    .dataframe tbody tr th {\n",
       "        vertical-align: top;\n",
       "    }\n",
       "\n",
       "    .dataframe thead th {\n",
       "        text-align: right;\n",
       "    }\n",
       "</style>\n",
       "<table border=\"1\" class=\"dataframe\">\n",
       "  <thead>\n",
       "    <tr style=\"text-align: right;\">\n",
       "      <th></th>\n",
       "      <th>Myynti 2017</th>\n",
       "      <th>Myynti 2016</th>\n",
       "    </tr>\n",
       "  </thead>\n",
       "  <tbody>\n",
       "    <tr>\n",
       "      <th>Helsinki</th>\n",
       "      <td>1321847</td>\n",
       "      <td>1203434</td>\n",
       "    </tr>\n",
       "    <tr>\n",
       "      <th>Turku</th>\n",
       "      <td>852669</td>\n",
       "      <td>923450</td>\n",
       "    </tr>\n",
       "    <tr>\n",
       "      <th>Tampere</th>\n",
       "      <td>1032199</td>\n",
       "      <td>1023563</td>\n",
       "    </tr>\n",
       "    <tr>\n",
       "      <th>Oulu</th>\n",
       "      <td>568230</td>\n",
       "      <td>542399</td>\n",
       "    </tr>\n",
       "  </tbody>\n",
       "</table>\n",
       "</div>"
      ],
      "text/plain": [
       "          Myynti 2017  Myynti 2016\n",
       "Helsinki      1321847      1203434\n",
       "Turku          852669       923450\n",
       "Tampere       1032199      1023563\n",
       "Oulu           568230       542399"
      ]
     },
     "execution_count": 5,
     "metadata": {},
     "output_type": "execute_result"
    }
   ],
   "source": [
    "# Teen uuden dataframen\n",
    "df2 = pd.DataFrame({'Myynti 2017': [1321847, 852669, 1032199, 568230],\n",
    "       'Myynti 2016': [1203434, 923450, 1023563, 542399]},\n",
    "       index = ['Helsinki', 'Turku', 'Tampere', 'Oulu'])\n",
    "df2"
   ]
  },
  {
   "cell_type": "code",
   "execution_count": 6,
   "metadata": {},
   "outputs": [
    {
     "data": {
      "text/plain": [
       "<matplotlib.legend.Legend at 0x1d31a7a43c8>"
      ]
     },
     "execution_count": 6,
     "metadata": {},
     "output_type": "execute_result"
    },
    {
     "data": {
      "image/png": "[encoded data removed]",
      "text/plain": [
       "<Figure size 432x288 with 1 Axes>"
      ]
     },
     "metadata": {
      "needs_background": "light"
     },
     "output_type": "display_data"
    }
   ],
   "source": [
    "# Luokka-akselin nimiöiden asennon säätö (rot=0)\n",
    "ax2 = df2.plot.bar(rot=0)\n",
    "\n",
    "# y-akselin otsikko\n",
    "ax2.set_ylabel('Miljoonaa euroa')\n",
    "\n",
    "# Haen y-akselin ticksit ja muotoilen miljooniksi yhdellä desimaalilla\n",
    "ax2.set_yticklabels(['{:.1f}'.format(y/1000000) for y in ax2.get_yticks()])\n",
    "\n",
    "# Selitteeseen 2 saraketta (selitteet vierekkäin)\n",
    "ax2.legend(ncol=2)"
   ]
  },
  {
   "cell_type": "code",
   "execution_count": 7,
   "metadata": {
    "scrolled": true
   },
   "outputs": [
    {
     "data": {
      "text/plain": [
       "[Text(0, 0.5, 'Euroa'),\n",
       " Text(0.5, 0, 'Alue'),\n",
       " Text(0.5, 1.0, 'Myynti vuosina 2016 ja 2017')]"
      ]
     },
     "execution_count": 7,
     "metadata": {},
     "output_type": "execute_result"
    },
    {
     "data": {
      "image/png": "[encoded data removed]",
      "text/plain": [
       "<Figure size 432x288 with 1 Axes>"
      ]
     },
     "metadata": {
      "needs_background": "light"
     },
     "output_type": "display_data"
    }
   ],
   "source": [
    "# legend='reverse' kääntää selitteen järjestyksen\n",
    "# stacked=True pinoaa pylväät päällekkäin\n",
    "# rot=0 määrittää luokka-akselin nimiöiden asennon\n",
    "# width=0.7 määrittää pylväiden leveyden (enintään 1)\n",
    "ax3 = df2.plot.bar(legend='reverse', rot=0, stacked=True, width=0.7)\n",
    "\n",
    "# Otsikoinnit\n",
    "ax3.set(title='Myynti vuosina 2016 ja 2017', xlabel='Alue', ylabel='Euroa')"
   ]
  },
  {
   "cell_type": "code",
   "execution_count": 8,
   "metadata": {},
   "outputs": [
    {
     "data": {
      "text/html": [
       "<div>\n",
       "<style scoped>\n",
       "    .dataframe tbody tr th:only-of-type {\n",
       "        vertical-align: middle;\n",
       "    }\n",
       "\n",
       "    .dataframe tbody tr th {\n",
       "        vertical-align: top;\n",
       "    }\n",
       "\n",
       "    .dataframe thead th {\n",
       "        text-align: right;\n",
       "    }\n",
       "</style>\n",
       "<table border=\"1\" class=\"dataframe\">\n",
       "  <thead>\n",
       "    <tr style=\"text-align: right;\">\n",
       "      <th></th>\n",
       "      <th>Mies</th>\n",
       "      <th>Nainen</th>\n",
       "    </tr>\n",
       "  </thead>\n",
       "  <tbody>\n",
       "    <tr>\n",
       "      <th>Tyytymätön</th>\n",
       "      <td>17</td>\n",
       "      <td>8</td>\n",
       "    </tr>\n",
       "    <tr>\n",
       "      <th>Ei tyytymätön eikä tyytyväinen</th>\n",
       "      <td>15</td>\n",
       "      <td>15</td>\n",
       "    </tr>\n",
       "    <tr>\n",
       "      <th>Tyytyväinen</th>\n",
       "      <td>6</td>\n",
       "      <td>21</td>\n",
       "    </tr>\n",
       "  </tbody>\n",
       "</table>\n",
       "</div>"
      ],
      "text/plain": [
       "                                Mies  Nainen\n",
       "Tyytymätön                        17       8\n",
       "Ei tyytymätön eikä tyytyväinen    15      15\n",
       "Tyytyväinen                        6      21"
      ]
     },
     "execution_count": 8,
     "metadata": {},
     "output_type": "execute_result"
    }
   ],
   "source": [
    "# Teen uuden dataframen\n",
    "df3 = pd.DataFrame({'Mies':[17,15,6],'Nainen':[8,15,21]},\n",
    "                  index = ['Tyytymätön','Ei tyytymätön eikä tyytyväinen','Tyytyväinen'])\n",
    "df3"
   ]
  },
  {
   "cell_type": "code",
   "execution_count": 9,
   "metadata": {},
   "outputs": [
    {
     "data": {
      "text/plain": [
       "<matplotlib.axes._subplots.AxesSubplot at 0x1d31a8c87b8>"
      ]
     },
     "execution_count": 9,
     "metadata": {},
     "output_type": "execute_result"
    },
    {
     "data": {
      "image/png": "[encoded data removed]",
      "text/plain": [
       "<Figure size 432x288 with 1 Axes>"
      ]
     },
     "metadata": {
      "needs_background": "light"
     },
     "output_type": "display_data"
    }
   ],
   "source": [
    "# Kaavio ilman tuunausta\n",
    "df3.plot.bar()"
   ]
  },
  {
   "cell_type": "code",
   "execution_count": 10,
   "metadata": {},
   "outputs": [
    {
     "data": {
      "image/png": "[encoded data removed]",
      "text/plain": [
       "<Figure size 432x288 with 1 Axes>"
      ]
     },
     "metadata": {
      "needs_background": "light"
     },
     "output_type": "display_data"
    }
   ],
   "source": [
    "# rot kääntää luokka-akselin nimiöt 45 asteen kulmaan\n",
    "ax4 = df3.plot.bar(rot=45)\n",
    "\n",
    "# Otsikoita\n",
    "ax4.set_title('Miesten ja naisten vertailua')\n",
    "ax4.set_ylabel('Lukumäärä')\n",
    "\n",
    "# Asetan y-akselin ticksit itse\n",
    "ax4.set_yticks([5, 10, 15, 20])\n",
    "\n",
    "# y-akselin mukainen taustaviivoitus\n",
    "ax4.grid(axis='y')\n",
    "ax4.set_axisbelow(True)\n",
    "\n",
    "# Selite kahteen sarakkeeseen\n",
    "ax4.legend(ncol=2)\n",
    "\n",
    "# Tallennan kaavion tai tarkkaan ottaen tallenna kuvion (figure), jonka sisällä kaavio on\n",
    "# Kuvioon (figure) pääsen käsiksi plt.gcf() -funktiolla (get current figure)\n",
    "# Ilman lisäparametria bbox_inches='tight' kuvion reunoilta voi jäädä osia tallentumatta\n",
    "plt.gcf().savefig('testi1.png', bbox_inches='tight')"
   ]
  },
  {
   "cell_type": "code",
   "execution_count": 11,
   "metadata": {},
   "outputs": [
    {
     "data": {
      "text/plain": [
       "{'ps': 'Postscript',\n",
       " 'eps': 'Encapsulated Postscript',\n",
       " 'pdf': 'Portable Document Format',\n",
       " 'pgf': 'PGF code for LaTeX',\n",
       " 'png': 'Portable Network Graphics',\n",
       " 'raw': 'Raw RGBA bitmap',\n",
       " 'rgba': 'Raw RGBA bitmap',\n",
       " 'svg': 'Scalable Vector Graphics',\n",
       " 'svgz': 'Scalable Vector Graphics'}"
      ]
     },
     "execution_count": 11,
     "metadata": {},
     "output_type": "execute_result"
    },
    {
     "data": {
      "text/plain": [
       "<Figure size 432x288 with 0 Axes>"
      ]
     },
     "metadata": {},
     "output_type": "display_data"
    }
   ],
   "source": [
    "# Tällä selvitän tarjolla olevat kaavion tallennusmuodot\n",
    "plt.figure().canvas.get_supported_filetypes()"
   ]
  },
  {
   "cell_type": "markdown",
   "metadata": {},
   "source": [
    "<h3>Usean kaavion kuviot</h3>\n",
    "\n",
    "- Kaavio on aina <b>figure</b> (kuvio) -olion sisällä. \n",
    "- <b>Figure</b>-olion sisään voin sijoittaa useita kaavioita <b>plt.subplots()</b>-funktiolla\n",
    "- <b>plt.subplots()</b> palauttaa <b>figure</b>-olion ja kokoelman <b>Axes</b>-olioista."
   ]
  },
  {
   "cell_type": "code",
   "execution_count": 12,
   "metadata": {},
   "outputs": [
    {
     "data": {
      "image/png": "[encoded data removed]",
      "text/plain": [
       "<Figure size 432x288 with 4 Axes>"
      ]
     },
     "metadata": {
      "needs_background": "light"
     },
     "output_type": "display_data"
    }
   ],
   "source": [
    "# 2x2 kaaviomatriisi\n",
    "# sharex- ja sharey-lisäparametreilla asetan yhteiset akselit\n",
    "fig, ax5 = plt.subplots(2, 2, sharex=True, sharey=True)\n",
    "\n",
    "# Figuren otsikko\n",
    "fig.suptitle('Miesten ja naisten vertailua', fontsize=12, fontweight='bold')\n",
    "\n",
    "# Vasemman yläkulman kaavio\n",
    "df3['Mies'].plot.barh(ax=ax5[0,0])\n",
    "\n",
    "# Oikean yläkulman kaavio; värinä väripaletin toinen väri (C1)\n",
    "df3['Nainen'].plot.barh(color='C1', ax=ax5[0,1])\n",
    "\n",
    "# Vasemman alakulman kaavio\n",
    "df3.plot.barh(legend='reverse', ax=ax5[1,0])\n",
    "\n",
    "# Oikean alakulman kaavio\n",
    "df3.plot.barh(legend=False, stacked=True, ax=ax5[1,1])\n",
    "\n",
    "# Kaaviot kiinni toisiinsa\n",
    "fig.subplots_adjust(wspace=0, hspace=0)\n",
    "\n",
    "# Tallennan kuvion\n",
    "# Ilman lisäparametria bbox_inches='tight' kuvion reunoilta voi jäädä osia tallentumatta\n",
    "fig.savefig('testi2.png', bbox_inches='tight')"
   ]
  },
  {
   "cell_type": "markdown",
   "metadata": {},
   "source": [
    "<h3>Valmiit tyylit</h3>\n",
    "\n",
    "Valmista tyyliä käyttämällä saat nopeasti tuunattua grafiikan ulkoasua.\n",
    "\n",
    "Tyylin voit ottaa käyttöön <b>plt.style.use('tyylin nimi')</b> -komennolla."
   ]
  },
  {
   "cell_type": "code",
   "execution_count": 13,
   "metadata": {},
   "outputs": [
    {
     "data": {
      "text/plain": [
       "['bmh',\n",
       " 'classic',\n",
       " 'dark_background',\n",
       " 'fast',\n",
       " 'fivethirtyeight',\n",
       " 'ggplot',\n",
       " 'grayscale',\n",
       " 'seaborn-bright',\n",
       " 'seaborn-colorblind',\n",
       " 'seaborn-dark-palette',\n",
       " 'seaborn-dark',\n",
       " 'seaborn-darkgrid',\n",
       " 'seaborn-deep',\n",
       " 'seaborn-muted',\n",
       " 'seaborn-notebook',\n",
       " 'seaborn-paper',\n",
       " 'seaborn-pastel',\n",
       " 'seaborn-poster',\n",
       " 'seaborn-talk',\n",
       " 'seaborn-ticks',\n",
       " 'seaborn-white',\n",
       " 'seaborn-whitegrid',\n",
       " 'seaborn',\n",
       " 'Solarize_Light2',\n",
       " 'tableau-colorblind10',\n",
       " '_classic_test']"
      ]
     },
     "execution_count": 13,
     "metadata": {},
     "output_type": "execute_result"
    }
   ],
   "source": [
    "# Tarjolla olevien tyylien listaus\n",
    "plt.style.available"
   ]
  },
  {
   "cell_type": "code",
   "execution_count": 14,
   "metadata": {},
   "outputs": [
    {
     "data": {
      "text/plain": [
       "<matplotlib.axes._subplots.AxesSubplot at 0x1d31ab367f0>"
      ]
     },
     "execution_count": 14,
     "metadata": {},
     "output_type": "execute_result"
    },
    {
     "data": {
      "image/png": "[encoded data removed]",
      "text/plain": [
       "<Figure size 432x288 with 1 Axes>"
      ]
     },
     "metadata": {},
     "output_type": "display_data"
    }
   ],
   "source": [
    "# Esimerkkinä ggplot-tyyli\n",
    "plt.style.use('ggplot')\n",
    "\n",
    "df2.plot.barh()"
   ]
  }
 ],
 "metadata": {
  "kernelspec": {
   "display_name": "Python 3",
   "language": "python",
   "name": "python3"
  },
  "language_info": {
   "codemirror_mode": {
    "name": "ipython",
    "version": 3
   },
   "file_extension": ".py",
   "mimetype": "text/x-python",
   "name": "python",
   "nbconvert_exporter": "python",
   "pygments_lexer": "ipython3",
   "version": "3.7.3"
  }
 },
 "nbformat": 4,
 "nbformat_minor": 2
}
