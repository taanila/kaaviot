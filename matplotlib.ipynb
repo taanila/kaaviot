{
 "cells": [
  {
   "cell_type": "markdown",
   "metadata": {},
   "source": [
    "<h2>Dataframe matplotlib-grafiikaksi - perusasiat</h2>\n",
    "\n",
    "<ul><li>Jos teen kaavion suoraan dataframesta (df.plot...), niin käytän pandas-kirjaston matplotlibin pohjalta rakennettua \"viritelmää\" kaavion teosta.\n",
    "    <br>Lue lisää <a href=\"https://pandas.pydata.org/pandas-docs/stable/reference/api/pandas.DataFrame.plot.html\" target=\"_blank\">https://pandas.pydata.org/pandas-docs/stable/reference/api/pandas.DataFrame.plot.html</a></li>\n",
    "<li>matplotlib.pyplot sisältää komentoja kaavion muotoiluun. Aivan kaikkea näillä komennoilla ei saa tehtyä. \n",
    "    <br>Lue lisää <a href=\"https://matplotlib.org/tutorials/introductory/pyplot.html\" target=\"_blank\">https://matplotlib.org/tutorials/introductory/pyplot.html</a></li>\n",
    "    <li>Vannoutuneet olio-ohjelmoijat käyttävät mieluummin kaavion luonnin palauttamaa <b>axes</b>-luokan oliota kaavion muotoiluun.\n",
    "    <br>Lue lisää <a href=\"https://matplotlib.org/api/axes_api.html\" target=\"_blank\">https://matplotlib.org/api/axes_api.html</a></li></ul>\n",
    "    \n",
    "Seuraavassa teen kaaviot suoraan dataframesta ja käytän muotoiluun axes-oliota."
   ]
  },
  {
   "cell_type": "code",
   "execution_count": 1,
   "metadata": {},
   "outputs": [],
   "source": [
    "#tuon kirjastot\n",
    "import pandas as pd\n",
    "import matplotlib.pyplot as plt\n",
    "\n",
    "#seuraavan ansiosta kaaviot tulostuvat Jupyter-notebookiin ilman erillistä komentoa\n",
    "%matplotlib inline"
   ]
  },
  {
   "cell_type": "code",
   "execution_count": 2,
   "metadata": {},
   "outputs": [
    {
     "data": {
      "text/html": [
       "<div>\n",
       "<style scoped>\n",
       "    .dataframe tbody tr th:only-of-type {\n",
       "        vertical-align: middle;\n",
       "    }\n",
       "\n",
       "    .dataframe tbody tr th {\n",
       "        vertical-align: top;\n",
       "    }\n",
       "\n",
       "    .dataframe thead th {\n",
       "        text-align: right;\n",
       "    }\n",
       "</style>\n",
       "<table border=\"1\" class=\"dataframe\">\n",
       "  <thead>\n",
       "    <tr style=\"text-align: right;\">\n",
       "      <th></th>\n",
       "      <th>Myynti 2017</th>\n",
       "    </tr>\n",
       "  </thead>\n",
       "  <tbody>\n",
       "    <tr>\n",
       "      <th>Helsinki</th>\n",
       "      <td>1321847</td>\n",
       "    </tr>\n",
       "    <tr>\n",
       "      <th>Turku</th>\n",
       "      <td>852669</td>\n",
       "    </tr>\n",
       "    <tr>\n",
       "      <th>Tampere</th>\n",
       "      <td>1032199</td>\n",
       "    </tr>\n",
       "    <tr>\n",
       "      <th>Oulu</th>\n",
       "      <td>568230</td>\n",
       "    </tr>\n",
       "  </tbody>\n",
       "</table>\n",
       "</div>"
      ],
      "text/plain": [
       "          Myynti 2017\n",
       "Helsinki      1321847\n",
       "Turku          852669\n",
       "Tampere       1032199\n",
       "Oulu           568230"
      ]
     },
     "execution_count": 2,
     "metadata": {},
     "output_type": "execute_result"
    }
   ],
   "source": [
    "#luon dataframen dictionarysta\n",
    "df1 = pd.DataFrame({'Myynti 2017': [1321847, 852669, 1032199, 568230]})\n",
    "\n",
    "#lisään kaupungit dataframen indeksiin\n",
    "df1.index = ['Helsinki', 'Turku', 'Tampere', 'Oulu']\n",
    "\n",
    "df1"
   ]
  },
  {
   "cell_type": "markdown",
   "metadata": {},
   "source": [
    "<h3>Dataframesta kaavioksi</h3>\n",
    "\n",
    "- <b>df.plot()</b> luo viivakaavion\n",
    "- Muita kaaviolajeja <b>df.plot.bar(), df.plot.barh(), df.plot.hist(), df.plot.scatter(), df.boxplot()</b>\n",
    "- Jos aiot muotoilla kaaviota, niin sijoita se muuttujaan. Kaavion luonti palauttaa axes-luokan olion."
   ]
  },
  {
   "cell_type": "code",
   "execution_count": 3,
   "metadata": {},
   "outputs": [
    {
     "data": {
      "text/plain": [
       "<matplotlib.axes._subplots.AxesSubplot at 0x1fbd4defda0>"
      ]
     },
     "execution_count": 3,
     "metadata": {},
     "output_type": "execute_result"
    },
    {
     "data": {
      "image/png": "[encoded data removed]",
      "text/plain": [
       "<Figure size 432x288 with 1 Axes>"
      ]
     },
     "metadata": {
      "needs_background": "light"
     },
     "output_type": "display_data"
    }
   ],
   "source": [
    "#myynnit vaakapylväskaaviona\n",
    "df1.plot.barh()"
   ]
  },
  {
   "cell_type": "code",
   "execution_count": 4,
   "metadata": {},
   "outputs": [
    {
     "data": {
      "image/png": "[encoded data removed]",
      "text/plain": [
       "<Figure size 432x288 with 1 Axes>"
      ]
     },
     "metadata": {
      "needs_background": "light"
     },
     "output_type": "display_data"
    }
   ],
   "source": [
    "#pientä tuunausta kaavion luonnin yhteyteen (selite piiloon, pylvään leveyden määritys)\n",
    "ax1 = df1.plot.barh(legend=False, width=0.7)\n",
    "\n",
    "#otsikoita\n",
    "ax1.set(title='Myynnit vuonna 2017', xlabel='Miljoonaa euroa')\n",
    "\n",
    "#haen x-akselin ticksit ja muotoilen miljooniksi yhdellä desimaalilla\n",
    "ax1.set_xticklabels(['{:.1f}'.format(x/1000000) for x in ax1.get_xticks()])\n",
    "\n",
    "#taustaviivoitus x-akselin mukaan\n",
    "ax1.grid(axis='x')\n",
    "\n",
    "#taustaviivoitus pylväiden taakse\n",
    "ax1.set_axisbelow(True)"
   ]
  },
  {
   "cell_type": "code",
   "execution_count": 5,
   "metadata": {},
   "outputs": [
    {
     "data": {
      "text/html": [
       "<div>\n",
       "<style scoped>\n",
       "    .dataframe tbody tr th:only-of-type {\n",
       "        vertical-align: middle;\n",
       "    }\n",
       "\n",
       "    .dataframe tbody tr th {\n",
       "        vertical-align: top;\n",
       "    }\n",
       "\n",
       "    .dataframe thead th {\n",
       "        text-align: right;\n",
       "    }\n",
       "</style>\n",
       "<table border=\"1\" class=\"dataframe\">\n",
       "  <thead>\n",
       "    <tr style=\"text-align: right;\">\n",
       "      <th></th>\n",
       "      <th>Myynti 2017</th>\n",
       "      <th>Myynti 2016</th>\n",
       "    </tr>\n",
       "  </thead>\n",
       "  <tbody>\n",
       "    <tr>\n",
       "      <th>Helsinki</th>\n",
       "      <td>1321847</td>\n",
       "      <td>1203434</td>\n",
       "    </tr>\n",
       "    <tr>\n",
       "      <th>Turku</th>\n",
       "      <td>852669</td>\n",
       "      <td>923450</td>\n",
       "    </tr>\n",
       "    <tr>\n",
       "      <th>Tampere</th>\n",
       "      <td>1032199</td>\n",
       "      <td>1023563</td>\n",
       "    </tr>\n",
       "    <tr>\n",
       "      <th>Oulu</th>\n",
       "      <td>568230</td>\n",
       "      <td>542399</td>\n",
       "    </tr>\n",
       "  </tbody>\n",
       "</table>\n",
       "</div>"
      ],
      "text/plain": [
       "          Myynti 2017  Myynti 2016\n",
       "Helsinki      1321847      1203434\n",
       "Turku          852669       923450\n",
       "Tampere       1032199      1023563\n",
       "Oulu           568230       542399"
      ]
     },
     "execution_count": 5,
     "metadata": {},
     "output_type": "execute_result"
    }
   ],
   "source": [
    "#teen uuden dataframen\n",
    "df2 = pd.DataFrame({'Myynti 2017': [1321847, 852669, 1032199, 568230],\n",
    "       'Myynti 2016': [1203434, 923450, 1023563, 542399]})\n",
    "\n",
    "df2.index = ['Helsinki', 'Turku', 'Tampere', 'Oulu']\n",
    "\n",
    "df2"
   ]
  },
  {
   "cell_type": "code",
   "execution_count": 6,
   "metadata": {},
   "outputs": [
    {
     "data": {
      "text/plain": [
       "<matplotlib.legend.Legend at 0x1fbd5189278>"
      ]
     },
     "execution_count": 6,
     "metadata": {},
     "output_type": "execute_result"
    },
    {
     "data": {
      "image/png": "[encoded data removed]",
      "text/plain": [
       "<Figure size 432x288 with 1 Axes>"
      ]
     },
     "metadata": {
      "needs_background": "light"
     },
     "output_type": "display_data"
    }
   ],
   "source": [
    "#vaaka-akselin nimiöiden kääntö kaavion luonnin yhteydessä\n",
    "ax2 = df2.plot.bar(rot=0)\n",
    "\n",
    "#y-akselin otsikko\n",
    "ax2.set(ylabel='Miljoonaa euroa')\n",
    "\n",
    "#haen y-akselin ticksit ja muotoilen miljooniksi yhdellä desimaalilla\n",
    "ax2.set_yticklabels(['{:.1f}'.format(y/1000000) for y in ax2.get_yticks()])\n",
    "\n",
    "#selitteeseen 2 saraketta (selitteet vierekkäin)\n",
    "ax2.legend(ncol=2)"
   ]
  },
  {
   "cell_type": "code",
   "execution_count": 7,
   "metadata": {
    "scrolled": true
   },
   "outputs": [
    {
     "data": {
      "text/plain": [
       "[Text(0, 0.5, 'Euroa'),\n",
       " Text(0.5, 0, 'Alue'),\n",
       " Text(0.5, 1.0, 'Myynti vuosina 2016 ja 2017')]"
      ]
     },
     "execution_count": 7,
     "metadata": {},
     "output_type": "execute_result"
    },
    {
     "data": {
      "image/png": "[encoded data removed]",
      "text/plain": [
       "<Figure size 432x288 with 1 Axes>"
      ]
     },
     "metadata": {
      "needs_background": "light"
     },
     "output_type": "display_data"
    }
   ],
   "source": [
    "#stacked=True pinoaa pylväät päällekkäin\n",
    "#legend='reverse' kääntää selitteen järjestyksen\n",
    "ax3 = df2.plot.bar(rot=0, stacked=True, legend='reverse', width=0.7)\n",
    "\n",
    "#otsikoinnit\n",
    "ax3.set(title='Myynti vuosina 2016 ja 2017', xlabel='Alue', ylabel='Euroa')"
   ]
  },
  {
   "cell_type": "code",
   "execution_count": 8,
   "metadata": {},
   "outputs": [
    {
     "data": {
      "text/html": [
       "<div>\n",
       "<style scoped>\n",
       "    .dataframe tbody tr th:only-of-type {\n",
       "        vertical-align: middle;\n",
       "    }\n",
       "\n",
       "    .dataframe tbody tr th {\n",
       "        vertical-align: top;\n",
       "    }\n",
       "\n",
       "    .dataframe thead th {\n",
       "        text-align: right;\n",
       "    }\n",
       "</style>\n",
       "<table border=\"1\" class=\"dataframe\">\n",
       "  <thead>\n",
       "    <tr style=\"text-align: right;\">\n",
       "      <th></th>\n",
       "      <th>Mies</th>\n",
       "      <th>Nainen</th>\n",
       "    </tr>\n",
       "  </thead>\n",
       "  <tbody>\n",
       "    <tr>\n",
       "      <th>Tyytymätön</th>\n",
       "      <td>17</td>\n",
       "      <td>8</td>\n",
       "    </tr>\n",
       "    <tr>\n",
       "      <th>Ei tyytymätön eikä tyytyväinen</th>\n",
       "      <td>15</td>\n",
       "      <td>15</td>\n",
       "    </tr>\n",
       "    <tr>\n",
       "      <th>Tyytyväinen</th>\n",
       "      <td>6</td>\n",
       "      <td>21</td>\n",
       "    </tr>\n",
       "  </tbody>\n",
       "</table>\n",
       "</div>"
      ],
      "text/plain": [
       "                                Mies  Nainen\n",
       "Tyytymätön                        17       8\n",
       "Ei tyytymätön eikä tyytyväinen    15      15\n",
       "Tyytyväinen                        6      21"
      ]
     },
     "execution_count": 8,
     "metadata": {},
     "output_type": "execute_result"
    }
   ],
   "source": [
    "#teen uuden dataframen\n",
    "df3 = pd.DataFrame({'Mies':[17,15,6],'Nainen':[8,15,21]})\n",
    "df3.index = ['Tyytymätön','Ei tyytymätön eikä tyytyväinen','Tyytyväinen']\n",
    "df3"
   ]
  },
  {
   "cell_type": "code",
   "execution_count": 9,
   "metadata": {},
   "outputs": [
    {
     "data": {
      "text/plain": [
       "<matplotlib.axes._subplots.AxesSubplot at 0x1fbd529f518>"
      ]
     },
     "execution_count": 9,
     "metadata": {},
     "output_type": "execute_result"
    },
    {
     "data": {
      "image/png": "[encoded data removed]",
      "text/plain": [
       "<Figure size 432x288 with 1 Axes>"
      ]
     },
     "metadata": {
      "needs_background": "light"
     },
     "output_type": "display_data"
    }
   ],
   "source": [
    "#kaavio ilman tuunausta\n",
    "df3.plot.bar()"
   ]
  },
  {
   "cell_type": "code",
   "execution_count": 10,
   "metadata": {},
   "outputs": [
    {
     "data": {
      "text/plain": [
       "<matplotlib.legend.Legend at 0x1fbd530e2e8>"
      ]
     },
     "execution_count": 10,
     "metadata": {},
     "output_type": "execute_result"
    },
    {
     "data": {
      "image/png": "[encoded data removed]",
      "text/plain": [
       "<Figure size 432x288 with 1 Axes>"
      ]
     },
     "metadata": {
      "needs_background": "light"
     },
     "output_type": "display_data"
    }
   ],
   "source": [
    "#rot kääntää x-akselin nimiöt 45 asteen kulmaan\n",
    "ax4 = df3.plot.bar(rot=45)\n",
    "\n",
    "ax4.set(title='Miesten ja naisten vertailua', ylabel='Lukumäärä')\n",
    "\n",
    "#asetan y-akselin ticksit itse\n",
    "ax4.set_yticks([5, 10, 15, 20])\n",
    "\n",
    "#y-akselin mukainen taustaviivoitus\n",
    "ax4.grid(axis='y')\n",
    "ax4.set_axisbelow(True)\n",
    "\n",
    "#selite kahteen sarakkeeseen\n",
    "ax4.legend(ncol=2)"
   ]
  },
  {
   "cell_type": "markdown",
   "metadata": {},
   "source": [
    "<h3>Usean kaavion kuviot</h3>\n",
    "\n",
    "- Kaavio on aina <b>figure</b> (kuvio) -olion sisällä. \n",
    "- <b>Figure</b>-olion sisään voin sijoittaa useita kaavioita <b>plt.subplots()</b>-funktiolla\n",
    "- <b>plt.subplots()</b> palauttaa <b>figure</b>-olion ja kokoelman <b>axes</b>-olioista."
   ]
  },
  {
   "cell_type": "code",
   "execution_count": 11,
   "metadata": {},
   "outputs": [
    {
     "data": {
      "image/png": "[encoded data removed]",
      "text/plain": [
       "<Figure size 432x288 with 4 Axes>"
      ]
     },
     "metadata": {
      "needs_background": "light"
     },
     "output_type": "display_data"
    }
   ],
   "source": [
    "#2x2 kaaviomatriisi\n",
    "#sharex- ja sharey-lisäparametreilla asetan yhteiset akselit\n",
    "fig, axes = plt.subplots(2, 2, sharex=True, sharey=True)\n",
    "\n",
    "#figuren otsikko\n",
    "fig.suptitle('Miesten ja naisten vertailua', fontsize=12, fontweight='bold')\n",
    "\n",
    "#vasemman yläkulman kaavio\n",
    "df3['Mies'].plot.barh(ax=axes[0,0])\n",
    "\n",
    "#oikean yläkulman kaavio; värinä väripaletin toinen väri (C1)\n",
    "df3['Nainen'].plot.barh(stacked=True, color='C1', ax=axes[0,1])\n",
    "\n",
    "#vasemman alakulman kaavio\n",
    "df3.plot.barh(legend='reverse',ax=axes[1,0])\n",
    "\n",
    "#oikean alakulman kaavio\n",
    "df3.plot.barh(legend=False, stacked=True, ax=axes[1,1])\n",
    "\n",
    "#kaaviot kiinni toisiinsa\n",
    "plt.subplots_adjust(wspace=0, hspace=0)\n",
    "\n",
    "#tallennan kaavion\n",
    "#ilman lisäparametria bbox_inches='tight' kaavion reunoilta voi jäädä osia tallentumatta\n",
    "plt.gcf().savefig('testi.png', bbox_inches='tight')"
   ]
  },
  {
   "cell_type": "code",
   "execution_count": 12,
   "metadata": {},
   "outputs": [
    {
     "data": {
      "text/plain": [
       "{'ps': 'Postscript',\n",
       " 'eps': 'Encapsulated Postscript',\n",
       " 'pdf': 'Portable Document Format',\n",
       " 'pgf': 'PGF code for LaTeX',\n",
       " 'png': 'Portable Network Graphics',\n",
       " 'raw': 'Raw RGBA bitmap',\n",
       " 'rgba': 'Raw RGBA bitmap',\n",
       " 'svg': 'Scalable Vector Graphics',\n",
       " 'svgz': 'Scalable Vector Graphics',\n",
       " 'jpg': 'Joint Photographic Experts Group',\n",
       " 'jpeg': 'Joint Photographic Experts Group',\n",
       " 'tif': 'Tagged Image File Format',\n",
       " 'tiff': 'Tagged Image File Format'}"
      ]
     },
     "execution_count": 12,
     "metadata": {},
     "output_type": "execute_result"
    },
    {
     "data": {
      "text/plain": [
       "<Figure size 432x288 with 0 Axes>"
      ]
     },
     "metadata": {},
     "output_type": "display_data"
    }
   ],
   "source": [
    "#tällä selvitän tarjolla olevat kaavion tallennusmuodot (gcf=get current figure)\n",
    "plt.gcf().canvas.get_supported_filetypes()"
   ]
  },
  {
   "cell_type": "markdown",
   "metadata": {},
   "source": [
    "<h3>Valmiit tyylit</h3>\n",
    "\n",
    "Valmista tyyliä käyttämällä saat nopeasti tuunattua grafiikan ulkoasua.\n",
    "\n",
    "Tyylin voit ottaa käyttöön <b>plt.style.use('tyylin nimi')</b> -komennolla."
   ]
  },
  {
   "cell_type": "code",
   "execution_count": 13,
   "metadata": {},
   "outputs": [
    {
     "data": {
      "text/plain": [
       "['bmh',\n",
       " 'classic',\n",
       " 'dark_background',\n",
       " 'fast',\n",
       " 'fivethirtyeight',\n",
       " 'ggplot',\n",
       " 'grayscale',\n",
       " 'seaborn-bright',\n",
       " 'seaborn-colorblind',\n",
       " 'seaborn-dark-palette',\n",
       " 'seaborn-dark',\n",
       " 'seaborn-darkgrid',\n",
       " 'seaborn-deep',\n",
       " 'seaborn-muted',\n",
       " 'seaborn-notebook',\n",
       " 'seaborn-paper',\n",
       " 'seaborn-pastel',\n",
       " 'seaborn-poster',\n",
       " 'seaborn-talk',\n",
       " 'seaborn-ticks',\n",
       " 'seaborn-white',\n",
       " 'seaborn-whitegrid',\n",
       " 'seaborn',\n",
       " 'Solarize_Light2',\n",
       " 'tableau-colorblind10',\n",
       " '_classic_test']"
      ]
     },
     "execution_count": 13,
     "metadata": {},
     "output_type": "execute_result"
    }
   ],
   "source": [
    "#tarjolla olevien tyylien listaus\n",
    "plt.style.available"
   ]
  },
  {
   "cell_type": "code",
   "execution_count": 14,
   "metadata": {},
   "outputs": [
    {
     "data": {
      "text/plain": [
       "<matplotlib.axes._subplots.AxesSubplot at 0x1fbd5386ba8>"
      ]
     },
     "execution_count": 14,
     "metadata": {},
     "output_type": "execute_result"
    },
    {
     "data": {
      "image/png": "[encoded data removed]",
      "text/plain": [
       "<Figure size 432x288 with 1 Axes>"
      ]
     },
     "metadata": {},
     "output_type": "display_data"
    }
   ],
   "source": [
    "#esimerkkinä ggplot-tyyli\n",
    "plt.style.use('ggplot')\n",
    "\n",
    "df2.plot.barh()"
   ]
  }
 ],
 "metadata": {
  "kernelspec": {
   "display_name": "Python 3",
   "language": "python",
   "name": "python3"
  },
  "language_info": {
   "codemirror_mode": {
    "name": "ipython",
    "version": 3
   },
   "file_extension": ".py",
   "mimetype": "text/x-python",
   "name": "python",
   "nbconvert_exporter": "python",
   "pygments_lexer": "ipython3",
   "version": "3.7.3"
  }
 },
 "nbformat": 4,
 "nbformat_minor": 2
}
