{
 "cells": [
  {
   "cell_type": "code",
   "execution_count": 1,
   "metadata": {},
   "outputs": [
    {
     "name": "stdout",
     "output_type": "stream",
     "text": [
      "Päivitetty 2023-03-01 21:46:26.738773\n"
     ]
    }
   ],
   "source": [
    "from datetime import datetime\n",
    "print(f'Päivitetty {datetime.now()}')"
   ]
  },
  {
   "cell_type": "markdown",
   "metadata": {},
   "source": [
    "# Matplotlib - osa 7\n",
    "## Usean kaavion kuviot\n",
    "\n",
    "Tämä on jatkoa sarjan edellisille osille\n",
    "\n",
    "https://nbviewer.jupyter.org/github/taanila/kaaviot/blob/master/matplotlib1.ipynb\n",
    "\n",
    "https://nbviewer.jupyter.org/github/taanila/kaaviot/blob/master/matplotlib2.ipynb\n",
    "\n",
    "https://nbviewer.jupyter.org/github/taanila/kaaviot/blob/master/matplotlib3.ipynb\n",
    "\n",
    "https://nbviewer.jupyter.org/github/taanila/kaaviot/blob/master/matplotlib4.ipynb\n",
    "\n",
    "https://nbviewer.jupyter.org/github/taanila/kaaviot/blob/master/matplotlib5.ipynb\n",
    "\n",
    "https://nbviewer.jupyter.org/github/taanila/kaaviot/blob/master/matplotlib6.ipynb"
   ]
  },
  {
   "cell_type": "code",
   "execution_count": 2,
   "metadata": {},
   "outputs": [],
   "source": [
    "import numpy as np\n",
    "import pandas as pd\n",
    "import matplotlib.pyplot as plt\n",
    "import seaborn as sns\n",
    "\n",
    "sns.set_style('whitegrid')"
   ]
  },
  {
   "cell_type": "code",
   "execution_count": 3,
   "metadata": {},
   "outputs": [
    {
     "data": {
      "text/html": [
       "<div>\n",
       "<style scoped>\n",
       "    .dataframe tbody tr th:only-of-type {\n",
       "        vertical-align: middle;\n",
       "    }\n",
       "\n",
       "    .dataframe tbody tr th {\n",
       "        vertical-align: top;\n",
       "    }\n",
       "\n",
       "    .dataframe thead th {\n",
       "        text-align: right;\n",
       "    }\n",
       "</style>\n",
       "<table border=\"1\" class=\"dataframe\">\n",
       "  <thead>\n",
       "    <tr style=\"text-align: right;\">\n",
       "      <th></th>\n",
       "      <th>nro</th>\n",
       "      <th>sukup</th>\n",
       "      <th>ikä</th>\n",
       "      <th>perhe</th>\n",
       "      <th>koulutus</th>\n",
       "      <th>palveluv</th>\n",
       "      <th>palkka</th>\n",
       "      <th>johto</th>\n",
       "      <th>työtov</th>\n",
       "      <th>työymp</th>\n",
       "      <th>palkkat</th>\n",
       "      <th>työteht</th>\n",
       "      <th>työterv</th>\n",
       "      <th>lomaosa</th>\n",
       "      <th>kuntosa</th>\n",
       "      <th>hieroja</th>\n",
       "    </tr>\n",
       "  </thead>\n",
       "  <tbody>\n",
       "    <tr>\n",
       "      <th>0</th>\n",
       "      <td>1</td>\n",
       "      <td>1</td>\n",
       "      <td>38</td>\n",
       "      <td>1</td>\n",
       "      <td>1.0</td>\n",
       "      <td>22.0</td>\n",
       "      <td>3587</td>\n",
       "      <td>3</td>\n",
       "      <td>3.0</td>\n",
       "      <td>3</td>\n",
       "      <td>3</td>\n",
       "      <td>3</td>\n",
       "      <td>NaN</td>\n",
       "      <td>NaN</td>\n",
       "      <td>NaN</td>\n",
       "      <td>NaN</td>\n",
       "    </tr>\n",
       "    <tr>\n",
       "      <th>1</th>\n",
       "      <td>2</td>\n",
       "      <td>1</td>\n",
       "      <td>29</td>\n",
       "      <td>2</td>\n",
       "      <td>2.0</td>\n",
       "      <td>10.0</td>\n",
       "      <td>2963</td>\n",
       "      <td>1</td>\n",
       "      <td>5.0</td>\n",
       "      <td>2</td>\n",
       "      <td>1</td>\n",
       "      <td>3</td>\n",
       "      <td>NaN</td>\n",
       "      <td>NaN</td>\n",
       "      <td>NaN</td>\n",
       "      <td>NaN</td>\n",
       "    </tr>\n",
       "    <tr>\n",
       "      <th>2</th>\n",
       "      <td>3</td>\n",
       "      <td>1</td>\n",
       "      <td>30</td>\n",
       "      <td>1</td>\n",
       "      <td>1.0</td>\n",
       "      <td>7.0</td>\n",
       "      <td>1989</td>\n",
       "      <td>3</td>\n",
       "      <td>4.0</td>\n",
       "      <td>1</td>\n",
       "      <td>1</td>\n",
       "      <td>3</td>\n",
       "      <td>1.0</td>\n",
       "      <td>NaN</td>\n",
       "      <td>NaN</td>\n",
       "      <td>NaN</td>\n",
       "    </tr>\n",
       "    <tr>\n",
       "      <th>3</th>\n",
       "      <td>4</td>\n",
       "      <td>1</td>\n",
       "      <td>36</td>\n",
       "      <td>2</td>\n",
       "      <td>1.0</td>\n",
       "      <td>14.0</td>\n",
       "      <td>2144</td>\n",
       "      <td>3</td>\n",
       "      <td>3.0</td>\n",
       "      <td>3</td>\n",
       "      <td>3</td>\n",
       "      <td>3</td>\n",
       "      <td>1.0</td>\n",
       "      <td>NaN</td>\n",
       "      <td>NaN</td>\n",
       "      <td>NaN</td>\n",
       "    </tr>\n",
       "    <tr>\n",
       "      <th>4</th>\n",
       "      <td>5</td>\n",
       "      <td>1</td>\n",
       "      <td>24</td>\n",
       "      <td>1</td>\n",
       "      <td>2.0</td>\n",
       "      <td>4.0</td>\n",
       "      <td>2183</td>\n",
       "      <td>2</td>\n",
       "      <td>3.0</td>\n",
       "      <td>2</td>\n",
       "      <td>1</td>\n",
       "      <td>2</td>\n",
       "      <td>1.0</td>\n",
       "      <td>NaN</td>\n",
       "      <td>NaN</td>\n",
       "      <td>NaN</td>\n",
       "    </tr>\n",
       "  </tbody>\n",
       "</table>\n",
       "</div>"
      ],
      "text/plain": [
       "   nro  sukup  ikä  perhe  koulutus  palveluv  palkka  johto  työtov  työymp  \\\n",
       "0    1      1   38      1       1.0      22.0    3587      3     3.0       3   \n",
       "1    2      1   29      2       2.0      10.0    2963      1     5.0       2   \n",
       "2    3      1   30      1       1.0       7.0    1989      3     4.0       1   \n",
       "3    4      1   36      2       1.0      14.0    2144      3     3.0       3   \n",
       "4    5      1   24      1       2.0       4.0    2183      2     3.0       2   \n",
       "\n",
       "   palkkat  työteht  työterv  lomaosa  kuntosa  hieroja  \n",
       "0        3        3      NaN      NaN      NaN      NaN  \n",
       "1        1        3      NaN      NaN      NaN      NaN  \n",
       "2        1        3      1.0      NaN      NaN      NaN  \n",
       "3        3        3      1.0      NaN      NaN      NaN  \n",
       "4        1        2      1.0      NaN      NaN      NaN  "
      ]
     },
     "execution_count": 3,
     "metadata": {},
     "output_type": "execute_result"
    }
   ],
   "source": [
    "df = pd.read_excel('https://taanila.fi/data1.xlsx')\n",
    "df.head()"
   ]
  },
  {
   "cell_type": "markdown",
   "metadata": {},
   "source": [
    "Kaavio on **Axes**-luokan olio. Kaavio sijaitsee **Figure**-luokan olion (kuvion) sisällä. Saman kuvion sisälle voin sijoittaa useita kaavioita. Voit ajatella, että **Figure** on kehys, jonka sisällä on yksi tai useampia kaavioita.\n",
    "\n",
    "Seuraavassa luon **subplots**-toiminnolla kuvion, jonka sisällä on neljä kaaviota. **subplots** palauttaa kuvion (annan tässä sille nimeksi **fig**) ja kokoelman kaavioita (annan kokoelmalla nimeksi **axs**). "
   ]
  },
  {
   "cell_type": "code",
   "execution_count": 4,
   "metadata": {},
   "outputs": [
    {
     "data": {
      "image/png": "[encoded data removed]",
      "text/plain": [
       "<Figure size 640x480 with 4 Axes>"
      ]
     },
     "metadata": {},
     "output_type": "display_data"
    }
   ],
   "source": [
    "fig, axs = plt.subplots(nrows=2, ncols=2)"
   ]
  },
  {
   "cell_type": "markdown",
   "metadata": {},
   "source": [
    "Seuraavassa lisään kuvion sisään neljä kaavioita kuten edellä ja määritän kuvion kooksi 8 x 5.\n",
    "\n",
    "**wspace** ja **hspace** määrittävät kaavioiden välisen tyhjän tilan (w = weigth eli leveys, h = heigth eli korkeus).\n",
    "\n",
    "Lisään kuhunkin kaavioon sisältöä yksi kerrallaan. **axs[0, 0]** viittaa ensimmäisen rivin ensimmäiseen kaavioon, **axs[0, 1]** viittaa ensimmäisen rivin toiseen kaavioon jne."
   ]
  },
  {
   "cell_type": "code",
   "execution_count": 5,
   "metadata": {},
   "outputs": [
    {
     "data": {
      "image/png": "[encoded data removed]",
      "text/plain": [
       "<Figure size 800x500 with 4 Axes>"
      ]
     },
     "metadata": {},
     "output_type": "display_data"
    }
   ],
   "source": [
    "fig, axs = plt.subplots(nrows=2, ncols=2, figsize=(8, 5))\n",
    "\n",
    "fig.subplots_adjust(wspace=0.4, hspace=0.2)\n",
    "\n",
    "# Kuvion otsikko\n",
    "fig.suptitle('Vastaajien taustatietoja')\n",
    "\n",
    "sns.countplot(data=df, y='sukup', ax=axs[0, 0])\n",
    "axs[0, 0].set_ylabel('')\n",
    "axs[0, 0].set_yticklabels(['Mies', 'Nainen'])\n",
    "axs[0, 0].set_xlabel('')\n",
    "axs[0, 0].grid(axis='y')\n",
    "\n",
    "sns.countplot(data=df, y='perhe', ax=axs[0, 1])\n",
    "axs[0, 1].set_ylabel('')\n",
    "axs[0, 1].set_yticklabels(['Perheetön', 'Perheellinen'])\n",
    "axs[0, 1].set_xlabel('')\n",
    "axs[0, 1].grid(axis='y')\n",
    "\n",
    "sns.countplot(data=df, y='koulutus', ax=axs[1, 0])\n",
    "axs[1, 0].set_yticklabels( ['Peruskoulu', '2. aste', 'Korkeakoulu', 'Ylempi korkeakoulu'])\n",
    "axs[1, 0].set_xlabel('')\n",
    "axs[1, 0].grid(axis='y')\n",
    "\n",
    "sns.histplot(data=df, x='palveluv', bins=6, ax=axs[1, 1])\n",
    "axs[1, 1].set_ylabel('')\n",
    "axs[1, 1].grid(axis='x')"
   ]
  },
  {
   "cell_type": "markdown",
   "metadata": {},
   "source": [
    "Jos teen kaavion suoraan dataframesta, niin **subplots**-lisäparametrilla kustakin dataframen sarakkeesta tehdään oma kaavio.\n",
    "\n",
    "**sharex** ja **sharey** -lisäparametreilla voin pakottaa kaavioille yhteisen x-akselin ja y-akselin."
   ]
  },
  {
   "cell_type": "code",
   "execution_count": 6,
   "metadata": {},
   "outputs": [
    {
     "data": {
      "text/html": [
       "<div>\n",
       "<style scoped>\n",
       "    .dataframe tbody tr th:only-of-type {\n",
       "        vertical-align: middle;\n",
       "    }\n",
       "\n",
       "    .dataframe tbody tr th {\n",
       "        vertical-align: top;\n",
       "    }\n",
       "\n",
       "    .dataframe thead th {\n",
       "        text-align: right;\n",
       "    }\n",
       "</style>\n",
       "<table border=\"1\" class=\"dataframe\">\n",
       "  <thead>\n",
       "    <tr style=\"text-align: right;\">\n",
       "      <th></th>\n",
       "      <th>johto</th>\n",
       "      <th>työtov</th>\n",
       "      <th>työymp</th>\n",
       "      <th>palkkat</th>\n",
       "      <th>työteht</th>\n",
       "    </tr>\n",
       "  </thead>\n",
       "  <tbody>\n",
       "    <tr>\n",
       "      <th>Erittäin tyytymätön</th>\n",
       "      <td>8.536585</td>\n",
       "      <td>NaN</td>\n",
       "      <td>10.975610</td>\n",
       "      <td>40.243902</td>\n",
       "      <td>6.097561</td>\n",
       "    </tr>\n",
       "    <tr>\n",
       "      <th>Jokseenkin tyytymätön</th>\n",
       "      <td>19.512195</td>\n",
       "      <td>3.703704</td>\n",
       "      <td>10.975610</td>\n",
       "      <td>23.170732</td>\n",
       "      <td>18.292683</td>\n",
       "    </tr>\n",
       "    <tr>\n",
       "      <th>Ei tyytymätön eikä tyytyväinen</th>\n",
       "      <td>36.585366</td>\n",
       "      <td>19.753086</td>\n",
       "      <td>36.585366</td>\n",
       "      <td>23.170732</td>\n",
       "      <td>35.365854</td>\n",
       "    </tr>\n",
       "    <tr>\n",
       "      <th>Jokseenkin tyytyväinen</th>\n",
       "      <td>28.048780</td>\n",
       "      <td>43.209877</td>\n",
       "      <td>28.048780</td>\n",
       "      <td>12.195122</td>\n",
       "      <td>30.487805</td>\n",
       "    </tr>\n",
       "    <tr>\n",
       "      <th>Erittäin tyytyväinen</th>\n",
       "      <td>7.317073</td>\n",
       "      <td>33.333333</td>\n",
       "      <td>13.414634</td>\n",
       "      <td>1.219512</td>\n",
       "      <td>9.756098</td>\n",
       "    </tr>\n",
       "  </tbody>\n",
       "</table>\n",
       "</div>"
      ],
      "text/plain": [
       "                                    johto     työtov     työymp    palkkat  \\\n",
       "Erittäin tyytymätön              8.536585        NaN  10.975610  40.243902   \n",
       "Jokseenkin tyytymätön           19.512195   3.703704  10.975610  23.170732   \n",
       "Ei tyytymätön eikä tyytyväinen  36.585366  19.753086  36.585366  23.170732   \n",
       "Jokseenkin tyytyväinen          28.048780  43.209877  28.048780  12.195122   \n",
       "Erittäin tyytyväinen             7.317073  33.333333  13.414634   1.219512   \n",
       "\n",
       "                                  työteht  \n",
       "Erittäin tyytymätön              6.097561  \n",
       "Jokseenkin tyytymätön           18.292683  \n",
       "Ei tyytymätön eikä tyytyväinen  35.365854  \n",
       "Jokseenkin tyytyväinen          30.487805  \n",
       "Erittäin tyytyväinen             9.756098  "
      ]
     },
     "execution_count": 6,
     "metadata": {},
     "output_type": "execute_result"
    }
   ],
   "source": [
    "# Dataframen laskeminen\n",
    "df1 = df['johto'].value_counts(normalize=True).sort_index().to_frame()\n",
    "df1['työtov'] = df['työtov'].value_counts(sort=False, normalize=True)\n",
    "df1['työymp'] = df['työymp'].value_counts(sort=False, normalize=True)\n",
    "df1['palkkat'] = df['palkkat'].value_counts(sort=False, normalize=True)\n",
    "df1['työteht'] = df['työteht'].value_counts(sort=False, normalize=True)\n",
    "\n",
    "df1.index = ['Erittäin tyytymätön', 'Jokseenkin tyytymätön', 'Ei tyytymätön eikä tyytyväinen', \n",
    "                'Jokseenkin tyytyväinen', 'Erittäin tyytyväinen']\n",
    "df1 = df1*100\n",
    "df1"
   ]
  },
  {
   "cell_type": "code",
   "execution_count": 7,
   "metadata": {},
   "outputs": [
    {
     "data": {
      "text/plain": [
       "Text(0.5, 0, '%')"
      ]
     },
     "execution_count": 7,
     "metadata": {},
     "output_type": "execute_result"
    },
    {
     "data": {
      "image/png": "[encoded data removed]",
      "text/plain": [
       "<Figure size 1000x200 with 5 Axes>"
      ]
     },
     "metadata": {},
     "output_type": "display_data"
    }
   ],
   "source": [
    "axs = df1.plot.barh(figsize=(10, 2), legend=False, subplots=True, layout=(1, 5), \n",
    "                           sharex=True, sharey=True)\n",
    "axs[0, 2].set_xlabel('%')"
   ]
  },
  {
   "cell_type": "markdown",
   "metadata": {},
   "source": [
    "## Lisätietoa\n",
    "\n",
    "Tämä oli seitsemäs ja viimeinen osa matplotlib-perusteita käsittelevästä sarjasta. Tämän jälkeen on hyvä laajentaa osaamista **seaborn**-kirjastoon. Seaborn on matplotlibin päälle rakennettu kirjasto, joka helpottaa monin tavoin kaavioiden laatimista. Seabornilla laadittuja kaavioita voi muotoilla normaaliin tapaan matplotlibin toiminnoilla. Lue lisää \n",
    "\n",
    "https://nbviewer.jupyter.org/github/taanila/kaaviot/blob/master/seaborn.ipynb"
   ]
  }
 ],
 "metadata": {
  "kernelspec": {
   "display_name": "Python 3 (ipykernel)",
   "language": "python",
   "name": "python3"
  },
  "language_info": {
   "codemirror_mode": {
    "name": "ipython",
    "version": 3
   },
   "file_extension": ".py",
   "mimetype": "text/x-python",
   "name": "python",
   "nbconvert_exporter": "python",
   "pygments_lexer": "ipython3",
   "version": "3.9.13"
  }
 },
 "nbformat": 4,
 "nbformat_minor": 2
}
