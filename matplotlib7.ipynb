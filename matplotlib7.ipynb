{
 "cells": [
  {
   "cell_type": "markdown",
   "metadata": {},
   "source": [
    "<h1>Matplotlib - osa 7</h1>\n",
    "<h2>Usean kaavion kuviot</h2>\n",
    "\n",
    "Tämä on jatkoa sarjan edellisille osille\n",
    "\n",
    "https://nbviewer.jupyter.org/github/taanila/kaaviot/blob/master/matplotlib1.ipynb\n",
    "\n",
    "https://nbviewer.jupyter.org/github/taanila/kaaviot/blob/master/matplotlib2.ipynb\n",
    "\n",
    "https://nbviewer.jupyter.org/github/taanila/kaaviot/blob/master/matplotlib3.ipynb\n",
    "\n",
    "https://nbviewer.jupyter.org/github/taanila/kaaviot/blob/master/matplotlib4.ipynb\n",
    "\n",
    "https://nbviewer.jupyter.org/github/taanila/kaaviot/blob/master/matplotlib5.ipynb\n",
    "\n",
    "https://nbviewer.jupyter.org/github/taanila/kaaviot/blob/master/matplotlib6.ipynb"
   ]
  },
  {
   "cell_type": "code",
   "execution_count": 1,
   "metadata": {},
   "outputs": [],
   "source": [
    "import numpy as np\n",
    "import pandas as pd\n",
    "import matplotlib.pyplot as plt\n",
    "%matplotlib inline\n",
    "\n",
    "# Avaan datan\n",
    "df = pd.read_excel('http://taanila.fi/data1.xlsx')"
   ]
  },
  {
   "cell_type": "markdown",
   "metadata": {},
   "source": [
    "Kaavio on <b>Axes</b>-luokan olio. Kaavio sijaitsee kuvion (<b>Figure</b>) sisällä. Saman kuvion sisälle voi sijoittaa useita kaavioita. Voit ajatella, että <b>Figure</b> on kehys, jonka sisällä on yksi tai useampia kaavioita.\n",
    "\n",
    "Seuraavassa luon <b>subplots()</b>-toiminnolla kuvion, jonka sisällä on neljä (2 x 2) kaaviota (ilman esitettävää sisältöä). <b>subplots()</b> palauttaa kuvion (annan tässä sille nimeksi <b>fig</b>) ja kokoelman kaavioita (annan kokoelmalla nimeksi <b>ax</b>). "
   ]
  },
  {
   "cell_type": "code",
   "execution_count": 2,
   "metadata": {},
   "outputs": [
    {
     "data": {
      "image/png": "[encoded data removed]",
      "text/plain": [
       "<Figure size 432x288 with 4 Axes>"
      ]
     },
     "metadata": {
      "needs_background": "light"
     },
     "output_type": "display_data"
    }
   ],
   "source": [
    "fig, ax = plt.subplots(nrows = 2, ncols = 2)"
   ]
  },
  {
   "cell_type": "markdown",
   "metadata": {},
   "source": [
    "Seuraavassa lisään kuvion sisään neljä kaavioita kuten edellä ja määritän kuvion (<b>figure</b>) kooksi 10 x 6.\n",
    "\n",
    "<b>wspace</b> ja <b>hspace</b> määrittävät kaavioiden välisen tyhjän tilan (w = weigth eli leveys, h = heigth eli korkeus).\n",
    "\n",
    "Lisään kuhunkin kaavioon sisältöä yksi kerrallaan. <b>ax[0, 0]</b> viittaa ensimmäisen rivin ensimmäiseen kaavioon, <b>ax[0, 1]</b> viittaa ensimmäisen rivin toiseen kaavioon jne."
   ]
  },
  {
   "cell_type": "code",
   "execution_count": 3,
   "metadata": {},
   "outputs": [
    {
     "data": {
      "text/plain": [
       "Text(0, 0.5, 'Lukumäärä')"
      ]
     },
     "execution_count": 3,
     "metadata": {},
     "output_type": "execute_result"
    },
    {
     "data": {
      "image/png": "[encoded data removed]",
      "text/plain": [
       "<Figure size 720x432 with 4 Axes>"
      ]
     },
     "metadata": {
      "needs_background": "light"
     },
     "output_type": "display_data"
    }
   ],
   "source": [
    "fig, ax1 = plt.subplots(nrows = 2, ncols = 2, figsize = (10, 6))\n",
    "\n",
    "fig.subplots_adjust(wspace=0.4, hspace=0.2)\n",
    "\n",
    "df['sukup'].value_counts().plot.barh(ax = ax1[0, 0])\n",
    "ax1[0, 0].set_yticklabels(['Mies', 'Nainen'])\n",
    "\n",
    "df['perhe'].value_counts().plot.barh(ax = ax1[0, 1])\n",
    "ax1[0, 1].set_yticklabels(['Perheetön', 'Perheellinen'])\n",
    "\n",
    "df['koulutus'].value_counts().plot.barh(ax = ax1[1, 0])\n",
    "ax1[1, 0].set_yticklabels( ['Peruskoulu', '2. aste', 'Korkeakoulu', 'Ylempi korkeakoulu'])\n",
    "\n",
    "df['palveluv'].hist(bins = 6, ax = ax1[1, 1])\n",
    "ax1[1, 1].set_xlabel('Palveluvuodet')\n",
    "ax1[1, 1].set_ylabel('Lukumäärä')"
   ]
  },
  {
   "cell_type": "markdown",
   "metadata": {},
   "source": [
    "Jos teen kaavion suoraan dataframesta, niin <b>subplots</b>-lisäparametrilla kustakin dataframen sarakkeesta tehdään oma kaavio.\n",
    "\n",
    "<b>sharex</b> ja <b>sharey</b> -lisäparametreilla voin pakottaa kaavioille yhteisen x-akselin ja y-akselin."
   ]
  },
  {
   "cell_type": "code",
   "execution_count": 4,
   "metadata": {},
   "outputs": [
    {
     "data": {
      "text/html": [
       "<div>\n",
       "<style scoped>\n",
       "    .dataframe tbody tr th:only-of-type {\n",
       "        vertical-align: middle;\n",
       "    }\n",
       "\n",
       "    .dataframe tbody tr th {\n",
       "        vertical-align: top;\n",
       "    }\n",
       "\n",
       "    .dataframe thead th {\n",
       "        text-align: right;\n",
       "    }\n",
       "</style>\n",
       "<table border=\"1\" class=\"dataframe\">\n",
       "  <thead>\n",
       "    <tr style=\"text-align: right;\">\n",
       "      <th></th>\n",
       "      <th>johto</th>\n",
       "      <th>työtov</th>\n",
       "      <th>työymp</th>\n",
       "      <th>palkkat</th>\n",
       "      <th>työteht</th>\n",
       "    </tr>\n",
       "  </thead>\n",
       "  <tbody>\n",
       "    <tr>\n",
       "      <th>Erittäin tyytymätön</th>\n",
       "      <td>8.536585</td>\n",
       "      <td>NaN</td>\n",
       "      <td>10.975610</td>\n",
       "      <td>40.243902</td>\n",
       "      <td>6.097561</td>\n",
       "    </tr>\n",
       "    <tr>\n",
       "      <th>Jokseenkin tyytymätön</th>\n",
       "      <td>19.512195</td>\n",
       "      <td>3.703704</td>\n",
       "      <td>10.975610</td>\n",
       "      <td>23.170732</td>\n",
       "      <td>18.292683</td>\n",
       "    </tr>\n",
       "    <tr>\n",
       "      <th>Ei tyytymätön eikä tyytyväinen</th>\n",
       "      <td>36.585366</td>\n",
       "      <td>19.753086</td>\n",
       "      <td>36.585366</td>\n",
       "      <td>23.170732</td>\n",
       "      <td>35.365854</td>\n",
       "    </tr>\n",
       "    <tr>\n",
       "      <th>Jokseenkin tyytyväinen</th>\n",
       "      <td>28.048780</td>\n",
       "      <td>43.209877</td>\n",
       "      <td>28.048780</td>\n",
       "      <td>12.195122</td>\n",
       "      <td>30.487805</td>\n",
       "    </tr>\n",
       "    <tr>\n",
       "      <th>Erittäin tyytyväinen</th>\n",
       "      <td>7.317073</td>\n",
       "      <td>33.333333</td>\n",
       "      <td>13.414634</td>\n",
       "      <td>1.219512</td>\n",
       "      <td>9.756098</td>\n",
       "    </tr>\n",
       "  </tbody>\n",
       "</table>\n",
       "</div>"
      ],
      "text/plain": [
       "                                    johto     työtov     työymp    palkkat  \\\n",
       "Erittäin tyytymätön              8.536585        NaN  10.975610  40.243902   \n",
       "Jokseenkin tyytymätön           19.512195   3.703704  10.975610  23.170732   \n",
       "Ei tyytymätön eikä tyytyväinen  36.585366  19.753086  36.585366  23.170732   \n",
       "Jokseenkin tyytyväinen          28.048780  43.209877  28.048780  12.195122   \n",
       "Erittäin tyytyväinen             7.317073  33.333333  13.414634   1.219512   \n",
       "\n",
       "                                  työteht  \n",
       "Erittäin tyytymätön              6.097561  \n",
       "Jokseenkin tyytymätön           18.292683  \n",
       "Ei tyytymätön eikä tyytyväinen  35.365854  \n",
       "Jokseenkin tyytyväinen          30.487805  \n",
       "Erittäin tyytyväinen             9.756098  "
      ]
     },
     "execution_count": 4,
     "metadata": {},
     "output_type": "execute_result"
    }
   ],
   "source": [
    "# Dataframen laskeminen\n",
    "df1 = df['johto'].value_counts(sort = False, normalize = True).to_frame()\n",
    "df1['työtov'] = df['työtov'].value_counts(sort = False, normalize = True)\n",
    "df1['työymp'] = df['työymp'].value_counts(sort = False, normalize = True)\n",
    "df1['palkkat'] = df['palkkat'].value_counts(sort = False, normalize = True)\n",
    "df1['työteht'] = df['työteht'].value_counts(sort = False, normalize = True)\n",
    "\n",
    "df1.index = ['Erittäin tyytymätön', 'Jokseenkin tyytymätön', 'Ei tyytymätön eikä tyytyväinen', \n",
    "                'Jokseenkin tyytyväinen', 'Erittäin tyytyväinen']\n",
    "df1 = df1 * 100\n",
    "df1"
   ]
  },
  {
   "cell_type": "code",
   "execution_count": 5,
   "metadata": {},
   "outputs": [
    {
     "data": {
      "text/plain": [
       "Text(0.5, 0, '%')"
      ]
     },
     "execution_count": 5,
     "metadata": {},
     "output_type": "execute_result"
    },
    {
     "data": {
      "image/png": "[encoded data removed]",
      "text/plain": [
       "<Figure size 720x144 with 5 Axes>"
      ]
     },
     "metadata": {
      "needs_background": "light"
     },
     "output_type": "display_data"
    }
   ],
   "source": [
    "ax2 = df1.plot.barh(figsize = (10, 2), legend = False, subplots = True, layout = (1, 5), \n",
    "                           sharex = True, sharey = True)\n",
    "ax2[0, 2].set_xlabel('%')"
   ]
  },
  {
   "cell_type": "markdown",
   "metadata": {},
   "source": [
    "<h2>Lisätietoa</h2>\n",
    "\n",
    "Tämä oli seitsemäs ja viimeinen osa matplotlib-perusteita käsittelevästä sarjasta. Tämän jälkeen on hyvä laajentaa osaamista <b>seaborn</b>-kirjastoon. Seaborn on matplotlibin pohjalta rakennettu kirjasto, joka helpottaa monin tavoin kaavioiden laatimista. Seabornilla laadittuja kaavioita voi muotoilla normaaliin tapaan matplotlibin toiminnoilla. Lue lisää \n",
    "\n",
    "https://nbviewer.jupyter.org/github/taanila/kaaviot/blob/master/seaborn1.ipynb\n",
    "\n",
    "https://nbviewer.jupyter.org/github/taanila/kaaviot/blob/master/seaborn2.ipynb\n",
    "\n",
    "Jos olet kiinnostunut viivakaavioiden käytöstä aikasarjojen yhteydessä, niin katso https://nbviewer.jupyter.org/github/taanila/tilastoapu/blob/master/aikasarjat.ipynb"
   ]
  }
 ],
 "metadata": {
  "kernelspec": {
   "display_name": "Python 3",
   "language": "python",
   "name": "python3"
  },
  "language_info": {
   "codemirror_mode": {
    "name": "ipython",
    "version": 3
   },
   "file_extension": ".py",
   "mimetype": "text/x-python",
   "name": "python",
   "nbconvert_exporter": "python",
   "pygments_lexer": "ipython3",
   "version": "3.7.2"
  }
 },
 "nbformat": 4,
 "nbformat_minor": 2
}
